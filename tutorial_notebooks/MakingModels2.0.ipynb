{
 "cells": [
  {
   "cell_type": "markdown",
   "metadata": {},
   "source": [
    "# Making Models With Isambard\n",
    "## Introduction\n",
    "## Specifications available\n",
    "A number of specifications (the term is borrowed from the field of architecture, where a specification is defined as \"a detailed description of the design and materials used to make something\") are currently available through Isambard. These include: alpha-helices, coiled-coil assemblies of different flavours, and simple DNA duplexes. To make a structure based on a specification, you need to know the parameters of that specification. We will demonstrate this with a simple alpha-helical coiled-coil dimer."
   ]
  },
  {
   "cell_type": "markdown",
   "metadata": {},
   "source": [
    "### Parameters required to make a coiled-coil dimer"
   ]
  },
  {
   "cell_type": "markdown",
   "metadata": {},
   "source": [
    "![dimer_parameters](https://cloud.githubusercontent.com/assets/16082702/12421221/08613f3e-beb9-11e5-9bb0-652fd40e33c1.png)"
   ]
  },
  {
   "cell_type": "markdown",
   "metadata": {},
   "source": [
    "To make a coiled-coil dimer, you need to know \n",
    "\n",
    "1. the number of residues on each helix, \n",
    "2. the radius of the assembly, \n",
    "3. the pitch of the assembly and \n",
    "4. the interface angle at which helices meet (Phi-C$\\alpha$)\n",
    "\n"
   ]
  },
  {
   "cell_type": "markdown",
   "metadata": {},
   "source": [
    "### Reading in a structure and identifying parameters\n",
    "We will read a known coiled-coil dimer structure (CC-DI, PDB [4DZM.pdb](https://drive.google.com/open?id=0B2sZ5She4fA2QzdsUENNa2hmTE0)), into the AMPAL framework, and use tools within Isambard to calculate the parameters we need. The following code imports isambard so it is available to the ipython notebook, reads in the PDB file of interest and converts it into an AMPAL object. [N.B. This is a slightly modified form of 4DZM where we've converted iodo-phenylalanine to phenylalanine, and got rid of water molecules to make life a bit easier, so take the linked copy rather than downloading from another source.]"
   ]
  },
  {
   "cell_type": "code",
   "execution_count": 1,
   "metadata": {
    "collapsed": false
   },
   "outputs": [
    {
     "data": {
      "text/plain": [
       "<Assembly (4DZM) containing 2 Polypeptides>"
      ]
     },
     "execution_count": 1,
     "metadata": {},
     "output_type": "execute_result"
    }
   ],
   "source": [
    "import isambard\n",
    "\n",
    "my_cc = isambard.ampal.convert_pdb_to_ampal(\"4DZM.pdb\")\n",
    "\n",
    "my_cc"
   ]
  },
  {
   "cell_type": "markdown",
   "metadata": {},
   "source": [
    "This has given us an Assembly object, which contains two Polypeptides in the AMPAL framework. We can access the sequences and each chain individually using the `.sequences` attribute. This returns a list, and you can access individual list elements as you would a regular python list."
   ]
  },
  {
   "cell_type": "code",
   "execution_count": 2,
   "metadata": {
    "collapsed": false
   },
   "outputs": [
    {
     "data": {
      "text/plain": [
       "['GEIAALKQEIAALKKENAALKFEIAALKQGY', 'GEIAALKQEIAALKKENAALKFEIAALKQGY']"
      ]
     },
     "execution_count": 2,
     "metadata": {},
     "output_type": "execute_result"
    }
   ],
   "source": [
    "my_cc.sequences"
   ]
  },
  {
   "cell_type": "code",
   "execution_count": 3,
   "metadata": {
    "collapsed": false
   },
   "outputs": [
    {
     "data": {
      "text/plain": [
       "<Polypeptide containing 31 Residues. Sequence: GEIAALKQEIAA...>"
      ]
     },
     "execution_count": 3,
     "metadata": {},
     "output_type": "execute_result"
    }
   ],
   "source": [
    "my_cc_a = my_cc[0]\n",
    "my_cc_b = my_cc[1]\n",
    "\n",
    "my_cc_a"
   ]
  },
  {
   "cell_type": "markdown",
   "metadata": {},
   "source": [
    "From the Polypeptide object, which is a special type of Polymer within the AMPAL framework, we can access the number of residues, and the chain identifier if needed. You can access the length of the chain either from the chain object itself, or from the length of the sequence."
   ]
  },
  {
   "cell_type": "code",
   "execution_count": 4,
   "metadata": {
    "collapsed": false
   },
   "outputs": [
    {
     "data": {
      "text/plain": [
       "31"
      ]
     },
     "execution_count": 4,
     "metadata": {},
     "output_type": "execute_result"
    }
   ],
   "source": [
    "len(my_cc_a.sequence)"
   ]
  },
  {
   "cell_type": "code",
   "execution_count": 5,
   "metadata": {
    "collapsed": false
   },
   "outputs": [
    {
     "data": {
      "text/plain": [
       "31"
      ]
     },
     "execution_count": 5,
     "metadata": {},
     "output_type": "execute_result"
    }
   ],
   "source": [
    "len(my_cc_a)"
   ]
  },
  {
   "cell_type": "code",
   "execution_count": 6,
   "metadata": {
    "collapsed": false
   },
   "outputs": [
    {
     "data": {
      "text/plain": [
       "'A'"
      ]
     },
     "execution_count": 6,
     "metadata": {},
     "output_type": "execute_result"
    }
   ],
   "source": [
    "my_cc_a.id"
   ]
  },
  {
   "cell_type": "markdown",
   "metadata": {},
   "source": [
    "Before we extract parameters from the structure, we might want to know how 'good' the BUDE forcefield [BUFF] thinks the structure is, so that when we build a structure *de novo* we have something to compare it to. BUFF provides two scores, one for the interaction between Polypeptides in the Assembly, and one for the internal energy of the Assembly."
   ]
  },
  {
   "cell_type": "code",
   "execution_count": 7,
   "metadata": {
    "collapsed": false
   },
   "outputs": [
    {
     "data": {
      "text/plain": [
       "<BUFF Score -127.68: 0.00 St | -107.09 De | -20.59 Ch>"
      ]
     },
     "execution_count": 7,
     "metadata": {},
     "output_type": "execute_result"
    }
   ],
   "source": [
    "my_cc.buff_interaction_energy"
   ]
  },
  {
   "cell_type": "code",
   "execution_count": 8,
   "metadata": {
    "collapsed": false
   },
   "outputs": [
    {
     "data": {
      "text/plain": [
       "<BUFF Score -899.78: 3.25 St | -468.80 De | -434.22 Ch>"
      ]
     },
     "execution_count": 8,
     "metadata": {},
     "output_type": "execute_result"
    }
   ],
   "source": [
    "my_cc.buff_internal_energy"
   ]
  },
  {
   "cell_type": "markdown",
   "metadata": {},
   "source": [
    "### Measuring geometric parameters"
   ]
  },
  {
   "cell_type": "markdown",
   "metadata": {},
   "source": [
    "In order to measure radius, pitch and Phi-C$\\alpha$ of the assembly, we need to define a *__reference axis__*, that is the line that runs down the centre of the assembly. For a coiled-coil dimer, it runs between the two helices; for a barrel, this would be at the centre of the barrel, and is a list of points in 3D space. We will use this to calculate the other parameters. The reference axis is defined as a Primitive chain object populated with PseudoMonomers which represent the points in space of the axis."
   ]
  },
  {
   "cell_type": "code",
   "execution_count": 9,
   "metadata": {
    "collapsed": true
   },
   "outputs": [],
   "source": [
    "reference_axis = isambard.analyse_protein.reference_axis_from_chains(my_cc)"
   ]
  },
  {
   "cell_type": "code",
   "execution_count": 10,
   "metadata": {
    "collapsed": false
   },
   "outputs": [
    {
     "data": {
      "text/plain": [
       "<Primitive chain containing 31 PseudoMonomers>"
      ]
     },
     "execution_count": 10,
     "metadata": {},
     "output_type": "execute_result"
    }
   ],
   "source": [
    "reference_axis"
   ]
  },
  {
   "cell_type": "markdown",
   "metadata": {},
   "source": [
    "#### Interface angles (Phi-C$\\alpha$)"
   ]
  },
  {
   "cell_type": "markdown",
   "metadata": {},
   "source": [
    "In Isambard, interface angles are accessed via the `analyse_protein.crick_angles` method, and are calculated for each residue in each helix individually."
   ]
  },
  {
   "cell_type": "code",
   "execution_count": 11,
   "metadata": {
    "collapsed": true
   },
   "outputs": [],
   "source": [
    "crangles_a = isambard.analyse_protein.crick_angles(my_cc_a,reference_axis)\n",
    "crangles_b = isambard.analyse_protein.crick_angles(my_cc_b,reference_axis)"
   ]
  },
  {
   "cell_type": "code",
   "execution_count": 12,
   "metadata": {
    "collapsed": false
   },
   "outputs": [
    {
     "data": {
      "text/plain": [
       "[165.46311695313284,\n",
       " -73.7731235966416,\n",
       " 26.54672679839078,\n",
       " 128.47141485160603,\n",
       " -127.72847955562587,\n",
       " -29.230898305107225,\n",
       " 75.77896871985133,\n",
       " 179.13811106898652,\n",
       " -78.91543487166474,\n",
       " 24.619715382288263,\n",
       " 124.86576008079678,\n",
       " -132.1659822842109,\n",
       " -33.094770958544274,\n",
       " 71.5612908445053,\n",
       " 172.66909579579703,\n",
       " -87.21396295102991,\n",
       " 17.62150247217829,\n",
       " 122.41786905701451,\n",
       " -132.30491551944263,\n",
       " -25.580896174877395,\n",
       " 77.39202166004726,\n",
       " 178.68641715037646,\n",
       " -81.08703803043669,\n",
       " 21.378411765253517,\n",
       " 124.46637604063143,\n",
       " -137.48525842491375,\n",
       " -38.516041308102864,\n",
       " 65.8051730938853,\n",
       " 173.8634442139843,\n",
       " -69.52238541573473,\n",
       " None]"
      ]
     },
     "execution_count": 12,
     "metadata": {},
     "output_type": "execute_result"
    }
   ],
   "source": [
    "crangles_a"
   ]
  },
  {
   "cell_type": "markdown",
   "metadata": {},
   "source": [
    "To get an average Phi-C$\\alpha$ value, we take every seventh value from the list, and take the mean of this. To get the mean we need to use a module called `numpy`, which is *Numerical Python* and gives us access to lots of mathematical functions. In the following cell, we are going to use it to calculate mean Phi-C$\\alpha$ values."
   ]
  },
  {
   "cell_type": "code",
   "execution_count": 13,
   "metadata": {
    "collapsed": false
   },
   "outputs": [
    {
     "data": {
      "text/plain": [
       "(173.96403703645541, 173.96403703645541)"
      ]
     },
     "execution_count": 13,
     "metadata": {},
     "output_type": "execute_result"
    }
   ],
   "source": [
    "import numpy\n",
    "\n",
    "phica_a_list = [crangles_a[x] for x in range(0,len(crangles_a),7) if crangles_a[x] is not None]\n",
    "phica_b_list = [crangles_b[x] for x in range(0,len(crangles_b),7) if crangles_b[x] is not None]\n",
    "\n",
    "phica_a = numpy.mean(phica_a_list)\n",
    "phica_b = numpy.mean(phica_b_list)\n",
    "\n",
    "phica_a, phica_b"
   ]
  },
  {
   "cell_type": "markdown",
   "metadata": {},
   "source": [
    "#### Radius\n",
    "Radius is calculated by looking at successive distances from the centre of the $\\alpha$ helix to the reference axis we calculated earlier. Again, this is calculated for each helix, and we take the mean value to use for model building."
   ]
  },
  {
   "cell_type": "code",
   "execution_count": 14,
   "metadata": {
    "collapsed": false
   },
   "outputs": [
    {
     "data": {
      "text/plain": [
       "5.12974619218142"
      ]
     },
     "execution_count": 14,
     "metadata": {},
     "output_type": "execute_result"
    }
   ],
   "source": [
    "radius_a_list = isambard.analyse_protein.polymer_to_reference_axis_distances(my_cc_a, reference_axis)\n",
    "radius_b_list = isambard.analyse_protein.polymer_to_reference_axis_distances(my_cc_b, reference_axis)\n",
    "\n",
    "radius = numpy.mean(radius_a_list+radius_b_list)\n",
    "\n",
    "radius"
   ]
  },
  {
   "cell_type": "markdown",
   "metadata": {},
   "source": [
    "#### Pitch\n",
    "Pitch is calculated on a per-helix basis using alpha angles, which measures the tilt of a helix in a coiled-coil assembly wtith respect to the central reference axis that we already calculated. The radius of the helices is also required. For model building we take a mean value."
   ]
  },
  {
   "cell_type": "code",
   "execution_count": 15,
   "metadata": {
    "collapsed": false
   },
   "outputs": [
    {
     "data": {
      "text/plain": [
       "220.28472172509427"
      ]
     },
     "execution_count": 15,
     "metadata": {},
     "output_type": "execute_result"
    }
   ],
   "source": [
    "alpha_a_list = isambard.analyse_protein.alpha_angles(my_cc_a, reference_axis)\n",
    "alpha_b_list = isambard.analyse_protein.alpha_angles(my_cc_b, reference_axis)\n",
    "\n",
    "pitch_a_list = [(2* numpy.pi * radius) / numpy.tan(numpy.deg2rad(x)) for x in alpha_a_list if x is not None]\n",
    "pitch_b_list = [(2* numpy.pi * radius) / numpy.tan(numpy.deg2rad(x)) for x in alpha_b_list if x is not None]\n",
    "\n",
    "pitch = numpy.mean(pitch_a_list + pitch_b_list)\n",
    "\n",
    "pitch"
   ]
  },
  {
   "cell_type": "markdown",
   "metadata": {},
   "source": [
    "### Building a model\n",
    "We now know all the parameters we need to rebuild this structure, and it can be done by generating a specification object from the CoiledCoil class. We will do this by 'subclassing', i.e. inheriting all the things we need from the general CoiledCoil class, and adding specific parameters for our case, into a class called `SimpleDimer2Phi`. "
   ]
  },
  {
   "cell_type": "code",
   "execution_count": 16,
   "metadata": {
    "collapsed": false
   },
   "outputs": [],
   "source": [
    "class SimpleDimer2Phi(isambard.specifications.CoiledCoil):\n",
    "    def __init__(self, aa, r, p, phica1,phica2,n=2):\n",
    "        super().__init__(n, auto_build=False)\n",
    "        self.aas = [aa]*n\n",
    "        self.major_radii = [r]*n\n",
    "        self.major_pitches = [p]*n\n",
    "        self.phi_c_alphas = [phica1,phica2]\n",
    "        self.orientations = [1]*n \n",
    "        self.build()"
   ]
  },
  {
   "cell_type": "markdown",
   "metadata": {},
   "source": [
    "We can now make a model by calling the `SimpleDimer2Phi` class and filling in the parameters obtained earlier in the workbook. Enter these parameters in the cell below before pressing Ctrl+Enter to run it."
   ]
  },
  {
   "cell_type": "code",
   "execution_count": 17,
   "metadata": {
    "collapsed": false
   },
   "outputs": [],
   "source": [
    "my_model = SimpleDimer2Phi(len(my_cc.sequences[0]), radius, pitch, phica_a, phica_b)\n",
    "my_model.build()"
   ]
  },
  {
   "cell_type": "markdown",
   "metadata": {},
   "source": [
    "Now write out this model to a PDB file for later reference."
   ]
  },
  {
   "cell_type": "code",
   "execution_count": 18,
   "metadata": {
    "collapsed": true
   },
   "outputs": [],
   "source": [
    "with open('my_model.pdb','w') as outf:\n",
    "    outf.write(my_model.pdb)"
   ]
  },
  {
   "cell_type": "markdown",
   "metadata": {},
   "source": [
    "![my_model_bb](https://cloud.githubusercontent.com/assets/16082702/12421222/0861c33c-beb9-11e5-919d-67168da10135.png)"
   ]
  },
  {
   "cell_type": "markdown",
   "metadata": {},
   "source": [
    "Hopefully your model looks something like the picture above. It has made a poly-alanine version of a coiled-coil helical dimer. Now we can model the sidechains using SCWRL4 (<i><a href=\"http://dunbrack.fccc.edu/scwrl4/index.php\">G. G. Krivov, M. V. Shapovalov, and R. L. Dunbrack, Jr. Improved prediction of protein side-chain conformations with SCWRL4. Proteins (2009)</a></i>), output the PDB file for future reference. You should be able to see the sidechains as below."
   ]
  },
  {
   "cell_type": "code",
   "execution_count": 19,
   "metadata": {
    "collapsed": false
   },
   "outputs": [],
   "source": [
    "sequences = my_cc.sequences\n",
    "my_model.pack_new_sequences(sequences)\n",
    "with open('my_model_sc.pdb','w') as outf:\n",
    "    outf.write(my_model.pdb)"
   ]
  },
  {
   "cell_type": "markdown",
   "metadata": {},
   "source": [
    "![my_model_sc](https://cloud.githubusercontent.com/assets/16082702/12421307/85a3b2f6-beb9-11e5-848a-cd43b081f2be.png)"
   ]
  },
  {
   "cell_type": "markdown",
   "metadata": {},
   "source": [
    "Your model should look something like the picture above. Now we can score this model using BUFF, and also we can calculate an RMSD from this model to the original structure using ProFit (Martin, A.C.R., http://www.bioinf.org.uk/software/profit/)."
   ]
  },
  {
   "cell_type": "code",
   "execution_count": 20,
   "metadata": {
    "collapsed": false
   },
   "outputs": [
    {
     "data": {
      "text/plain": [
       "<BUFF Score -110.44: 0.00 St | -100.38 De | -10.06 Ch>"
      ]
     },
     "execution_count": 20,
     "metadata": {},
     "output_type": "execute_result"
    }
   ],
   "source": [
    "my_model.buff_interaction_energy"
   ]
  },
  {
   "cell_type": "code",
   "execution_count": 21,
   "metadata": {
    "collapsed": false
   },
   "outputs": [],
   "source": [
    "rmsds,overlay = isambard.external_programs.run_profit(my_cc.pdb, my_model.pdb, return_pdb_string=True, align_type='all')"
   ]
  },
  {
   "cell_type": "markdown",
   "metadata": {},
   "source": [
    "`rmsds` is the all-atom RMSDs calculated by ProFit."
   ]
  },
  {
   "cell_type": "code",
   "execution_count": 22,
   "metadata": {
    "collapsed": false
   },
   "outputs": [
    {
     "data": {
      "text/plain": [
       "[2.173]"
      ]
     },
     "execution_count": 22,
     "metadata": {},
     "output_type": "execute_result"
    }
   ],
   "source": [
    "rmsds"
   ]
  },
  {
   "cell_type": "markdown",
   "metadata": {},
   "source": [
    "Write out the overlaid structure for future reference. "
   ]
  },
  {
   "cell_type": "code",
   "execution_count": 23,
   "metadata": {
    "collapsed": true
   },
   "outputs": [],
   "source": [
    "with open('my_model_overlaid.pdb','w') as outf:\n",
    "    outf.write(overlay)"
   ]
  },
  {
   "cell_type": "markdown",
   "metadata": {},
   "source": [
    "![my_cc_my_model_overlay](https://cloud.githubusercontent.com/assets/16082702/12421220/0860a862-beb9-11e5-8682-13974df51711.png)"
   ]
  },
  {
   "cell_type": "markdown",
   "metadata": {},
   "source": [
    "The overlay is a simple PDB string returned from ProFit. We can convert this back to an AMPAL object, write it out for viewing."
   ]
  },
  {
   "cell_type": "code",
   "execution_count": 24,
   "metadata": {
    "collapsed": false
   },
   "outputs": [],
   "source": [
    "overlay_ampal = isambard.ampal.convert_pdb_to_ampal(overlay,path=False) ## convert overlay to AMPAL object"
   ]
  },
  {
   "cell_type": "markdown",
   "metadata": {},
   "source": [
    "If you have a look closely at the asparagine pair at the middle of the dimeric structure (shown below), you'll see that the rotamers that SCWRL has picked for asparagine (right-hand side, dark blue) are more sensible than those in the original structure (left-hand side, cyan). The original 4DZM structure has multiple occupancies for the asparagine residues, and for simplicity we picked the first pair. The structure that SCWRL has returned has a hydrogen bond between the asparagine residues."
   ]
  },
  {
   "cell_type": "markdown",
   "metadata": {},
   "source": [
    "![asn_hbonds](https://cloud.githubusercontent.com/assets/16082702/12421660/29935b86-bebb-11e5-9746-9b9f6588113f.png)"
   ]
  },
  {
   "cell_type": "markdown",
   "metadata": {
    "collapsed": true
   },
   "source": [
    "### Tweaking the parameters\n",
    "Try rebuilding the model again, this time changing the parameters as you like. What happens if you change the phi-C$\\alpha$ values of one helix (or both)? Try varying the radius. Each time, score your model using BUFF and make a note of the RMSD to the original structure, and have a look at the models you produce on PyMOL."
   ]
  },
  {
   "cell_type": "markdown",
   "metadata": {
    "collapsed": true
   },
   "source": [
    "### Going antiparallel\n",
    "We are going to remake the coiled-coil dimer as an antiparallel structure. To do this, we need to modify the  `isambard.specifications.SimpleDimer2Phi` class, two extra parameters to specify firstly that the orientation of the second helix is antiparallel, and secondly, the z-shift, how far the helices can slide past one another. We'll make this using another subclass of CoiledCoil:"
   ]
  },
  {
   "cell_type": "code",
   "execution_count": 25,
   "metadata": {
    "collapsed": true
   },
   "outputs": [],
   "source": [
    "class SimpleDimer2PhiAP(isambard.specifications.CoiledCoil):\n",
    "    def __init__(self, aa, r, p, phica1,phica2,zshift,n=2):\n",
    "        super().__init__(n=2, auto_build=False)\n",
    "        self.aas = [aa]*n\n",
    "        self.major_radii = [r]*n\n",
    "        self.major_pitches = [p]*n\n",
    "        self.phi_c_alphas = [phica1,phica2]\n",
    "        self.z_shifts = [0,zshift]\n",
    "        self.orientations = [1,-1] \n",
    "        self.build()"
   ]
  },
  {
   "cell_type": "code",
   "execution_count": 26,
   "metadata": {
    "collapsed": false
   },
   "outputs": [],
   "source": [
    "my_ap_cc = SimpleDimer2PhiAP(len(my_cc.sequences[0]),radius,pitch,phica_a,phica_b,0.0)\n",
    "my_ap_cc.build()\n",
    "my_ap_cc.pack_new_sequences(my_cc.sequences)"
   ]
  },
  {
   "cell_type": "markdown",
   "metadata": {},
   "source": [
    "Write the model out to PDB for future reference."
   ]
  },
  {
   "cell_type": "code",
   "execution_count": 27,
   "metadata": {
    "collapsed": false
   },
   "outputs": [],
   "source": [
    "with open('my_ap_cc_model.pdb','w') as outf:\n",
    "    \n",
    "    outf.write(my_ap_cc.pdb)"
   ]
  },
  {
   "cell_type": "markdown",
   "metadata": {},
   "source": [
    "Score the model using BUFF:"
   ]
  },
  {
   "cell_type": "code",
   "execution_count": 28,
   "metadata": {
    "collapsed": false
   },
   "outputs": [
    {
     "data": {
      "text/plain": [
       "<BUFF Score -50.75: 26.81 St | -78.57 De | 1.02 Ch>"
      ]
     },
     "execution_count": 28,
     "metadata": {},
     "output_type": "execute_result"
    }
   ],
   "source": [
    "my_ap_cc.buff_interaction_energy"
   ]
  },
  {
   "cell_type": "markdown",
   "metadata": {},
   "source": [
    "### Making it better - an introduction to optimisation "
   ]
  },
  {
   "cell_type": "markdown",
   "metadata": {},
   "source": [
    "It's not such a good score :-) (obviously?) We could improve this score by 'minimizing' the structure, i.e. trying to find new parameter for the sequence that improve the BUDE score. This is, in real life, a very bad idea, because we know that this sequence comes from a crystal structure of a parallel coiled-coil dimer, and it is highly unlikely ever to go antiparallel, but we are going to pretend that we can make it so, as a good exercise in learning how an optimiser works, and also to give you the heads up that although you can get an improved BUDE score through this process, if you make an unrealistic assumption at the beginning, BUFF and the optimiser will not help you out. \n",
    "\n",
    "We'll carry out this optimisation using an algorithm called <a href=\"https://en.wikipedia.org/wiki/Differential_evolution\">**differential evolution**</a>. This is a metaheuristic, which means it makes no assumptions about the optimisation (this means it knows nothing about your parameters), and is able to search large spaces of candidate solutions (i.e. a large parameter space). It optimizes the parameters by keeping a population of candidate solutions (sets of model parameters) and creates new solutions (sets of parameters) by combining existing ones and then keeping whichever candidate has the best score."
   ]
  },
  {
   "cell_type": "markdown",
   "metadata": {},
   "source": [
    "The optimiser is actually quite easy to set up. You need to give it an isambard specification (in our case `SimpleDimer2Phi`) and an output path (which can be your home directory for the moment)"
   ]
  },
  {
   "cell_type": "code",
   "execution_count": 32,
   "metadata": {
    "collapsed": true
   },
   "outputs": [],
   "source": [
    "optimiser = isambard.optimisation.DE_Opt(SimpleDimer2PhiAP,output_path='./',run_id='test_antiparallel')"
   ]
  },
  {
   "cell_type": "markdown",
   "metadata": {},
   "source": [
    "The next step is to give the optimiser the sequences to model, a set of parameter means and variances within which to sample. Again, you can see what the optimiser is expecting by using SHIFT+TAB inside the brackets of `optimiser.parameters`."
   ]
  },
  {
   "cell_type": "markdown",
   "metadata": {},
   "source": [
    "The order of the parameters inside the value means and value ranges must match the order required by `SimpleDimer2Phi`, which is `radius, pitch, phica1, phica2`. We will allow the radius to vary by up to 1  $\\unicode{x212B}$ either side of 5 $\\unicode{x212B}$, the pitch by 100 $^\\circ$ and the Phi-C$\\alpha$s by a full circle. We'll keep the z-shift to zero for this instance."
   ]
  },
  {
   "cell_type": "code",
   "execution_count": 33,
   "metadata": {
    "collapsed": false
   },
   "outputs": [],
   "source": [
    "optimiser.parameters(my_ap_cc.sequences, [5.0,180,180,180], [1.0,100,180,180], \n",
    "                    [len(my_ap_cc.sequences[0]), 'var0','var1','var2','var3', 0])"
   ]
  },
  {
   "cell_type": "markdown",
   "metadata": {},
   "source": [
    "Now, run it! You need to specify the size of each generation and the number of generations. We will use 20 models per generation and 30 generations."
   ]
  },
  {
   "cell_type": "code",
   "execution_count": 34,
   "metadata": {
    "collapsed": false
   },
   "outputs": [
    {
     "name": "stdout",
     "output_type": "stream",
     "text": [
      "gen\tevals\tavg     \tstd    \tmin     \tmax    \n",
      "0  \t20   \t-55.7098\t25.9688\t-87.3202\t36.1921\n",
      "1  \t20   \t-66.6776\t11.5237\t-87.3202\t-48.6604\n",
      "2  \t20   \t-70.7497\t12.2905\t-92.6772\t-50.6262\n",
      "3  \t20   \t-73.9232\t12.4769\t-94.7884\t-51.5833\n",
      "4  \t20   \t-76.3185\t12.6057\t-94.7884\t-51.5833\n",
      "5  \t20   \t-79.9829\t13.702 \t-109.876\t-51.5833\n",
      "6  \t20   \t-83.0631\t10.3908\t-109.876\t-55.4778\n",
      "7  \t20   \t-88.5358\t11.0805\t-113.954\t-70.5369\n",
      "8  \t20   \t-90.3231\t11.0024\t-113.954\t-70.5369\n",
      "9  \t20   \t-93.2695\t9.41309\t-113.954\t-78.7268\n",
      "10 \t20   \t-94.4878\t10.4496\t-114.511\t-78.7268\n",
      "11 \t20   \t-96.4366\t11.2302\t-120.114\t-79.2499\n",
      "12 \t20   \t-101.157\t13.0766\t-131.298\t-79.3819\n",
      "13 \t20   \t-101.656\t12.719 \t-131.298\t-79.3819\n",
      "14 \t20   \t-101.809\t12.622 \t-131.298\t-79.3819\n",
      "15 \t20   \t-103.062\t12.1646\t-131.298\t-79.3819\n",
      "16 \t20   \t-104.63 \t10.823 \t-131.298\t-88.7577\n",
      "17 \t20   \t-107.587\t11.3232\t-131.298\t-91.282 \n",
      "18 \t20   \t-108.194\t10.6796\t-131.298\t-95.1897\n",
      "19 \t20   \t-109.572\t11.0823\t-131.298\t-95.1897\n",
      "20 \t20   \t-109.905\t10.7501\t-131.298\t-95.1897\n",
      "21 \t20   \t-110.872\t10.5651\t-131.298\t-95.1897\n",
      "22 \t20   \t-111.29 \t10.3247\t-131.298\t-95.1897\n",
      "23 \t20   \t-112.087\t11.3328\t-133.359\t-95.1897\n",
      "24 \t20   \t-114.599\t11.5917\t-134.365\t-95.7964\n",
      "25 \t20   \t-115.551\t11.0061\t-134.365\t-95.7964\n",
      "26 \t20   \t-115.551\t11.0061\t-134.365\t-95.7964\n",
      "27 \t20   \t-115.899\t10.4737\t-134.365\t-102.086\n",
      "28 \t20   \t-116.52 \t10.0344\t-134.365\t-102.086\n",
      "29 \t20   \t-117.16 \t10.201 \t-134.365\t-102.086\n",
      "Evaluated 600 models in total\n",
      "Best fitness is (-134.36463277254745,)\n",
      "Best parameters are [31, 4.5899712991989245, 83.81261701496335, 213.9091559486906, 314.393779865125, 0]\n",
      "Warning! Parameter 2 is at or near minimum allowed value\n",
      "\n",
      "----Minimisation plot:\n"
     ]
    },
    {
     "data": {
      "image/png": "[encoded data removed]",
      "text/plain": [
       "<matplotlib.figure.Figure at 0x1114740f0>"
      ]
     },
     "metadata": {},
     "output_type": "display_data"
    }
   ],
   "source": [
    "%matplotlib inline\n",
    "optimiser.run_opt(20,30,1,plot=True,log=True)"
   ]
  },
  {
   "cell_type": "markdown",
   "metadata": {},
   "source": [
    "The output above shows you the progress of the optimisation process, which is reproduced in a log file in the location we requested the output to be. Additionally the best model pdb file will be written to the same location. Open this up and have a look at the optimised model. What has the optimiser done to the model? "
   ]
  },
  {
   "cell_type": "markdown",
   "metadata": {},
   "source": [
    "There are different optimization methods available; have a look inside the optimisation directory for these."
   ]
  },
  {
   "cell_type": "markdown",
   "metadata": {},
   "source": [
    "### Making bigger things"
   ]
  },
  {
   "cell_type": "markdown",
   "metadata": {},
   "source": [
    "Now you know how to subclass the CoiledCoil AMPAL specification object, see if you can make an alpha-helical barrel by increasing the value of `n`. Don't worry about what sequence to use initially, make some models and get comfortable with the parameters - for example try a few different radii, pitch and phi-c$\\alpha$ values. As an aide, here are some parameters for the coiled-coil barrels in <a href=\"http://www.sciencemag.org/cgi/rapidpdf/346/6208/485?ijkey=ysj8Y4h7WOYgo&keytype=ref&siteid=sci\">Thomson et. al. (Science 2014)</a>. Score the models you make using BUFF."
   ]
  },
  {
   "cell_type": "markdown",
   "metadata": {},
   "source": [
    "\n",
    "| Name | Oligo | Radius | Pitch | PhiC$\\alpha$ | Sequence (g->f) |\n",
    "|------|-------|--------|-------|--------------|----------|\n",
    "|CC-Pent| 5    | 8.62   | 182.8 | 14.44|KIEQILQ |\n",
    "|CC-Hex2| 6    | 9.48   | 131.7 | 18.22|EIAKSLK |\n",
    "|CC-Hex3| 6    | 9.72   | 162.2 | 13.07|EIAQSIK |\n",
    "|CC-Hept| 7    | 9.80   | 328.6 | 15.1 |EIAQALK |\n"
   ]
  }
 ],
 "metadata": {
  "kernelspec": {
   "display_name": "Python 3",
   "language": "python",
   "name": "python3"
  },
  "language_info": {
   "codemirror_mode": {
    "name": "ipython",
    "version": 3
   },
   "file_extension": ".py",
   "mimetype": "text/x-python",
   "name": "python",
   "nbconvert_exporter": "python",
   "pygments_lexer": "ipython3",
   "version": "3.5.2"
  }
 },
 "nbformat": 4,
 "nbformat_minor": 0
}
