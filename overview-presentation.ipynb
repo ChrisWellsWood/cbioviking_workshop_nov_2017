{
 "cells": [
  {
   "cell_type": "markdown",
   "metadata": {
    "slideshow": {
     "slide_type": "slide"
    }
   },
   "source": [
    "# ISAMBARD\n",
    "## A Computational Framework for Structural Bioinformatics and Parametric Design of Proteins\n",
    "### Chris Wells Wood - Woolfson Group - University of Bristol, UK\n",
    "### CBioVikings - 2017-11-24\n",
    "\n",
    "GitHub: [ChrisWellsWood](https://github.com/ChrisWellsWood)<br/>\n",
    "Twitter: [@ChrisWellsWood](https://twitter.com/ChrisWellsWood)<br/>\n",
    "YouTube: [Acodemic](https://www.youtube.com/acodemic)"
   ]
  },
  {
   "cell_type": "markdown",
   "metadata": {
    "slideshow": {
     "slide_type": "slide"
    }
   },
   "source": [
    "# Who am I?\n",
    "\n",
    "* Undergraduate degree in Molecular and Cellular biology, University of Glasgow\n",
    "* PhD/postdoc in protein design, Woolfson group, University of Bristol\n",
    "* Originally a molecular biologist\n",
    "* Do a bit of peptide chemistry, biophysics, structural biology\n",
    "* Now I mostly write software"
   ]
  },
  {
   "cell_type": "markdown",
   "metadata": {
    "slideshow": {
     "slide_type": "subslide"
    }
   },
   "source": [
    "### Formal Qualifications"
   ]
  },
  {
   "cell_type": "markdown",
   "metadata": {
    "slideshow": {
     "slide_type": "fragment"
    }
   },
   "source": [
    "<div align=center><img src=\"imgs/qualifications.jpg\"/></div>"
   ]
  },
  {
   "cell_type": "markdown",
   "metadata": {
    "collapsed": true,
    "slideshow": {
     "slide_type": "fragment"
    }
   },
   "source": [
    "* Show of hands..."
   ]
  },
  {
   "cell_type": "markdown",
   "metadata": {
    "slideshow": {
     "slide_type": "slide"
    }
   },
   "source": [
    "# What is a bioinformatician? "
   ]
  },
  {
   "cell_type": "markdown",
   "metadata": {
    "slideshow": {
     "slide_type": "fragment"
    }
   },
   "source": [
    "<div align=center><img src=\"imgs/bioinformatics_chart1.png\"/></div>\n",
    "[Anthony P. Fejes](http://blog.fejes.ca/?p=2418) via Gail Bartlett"
   ]
  },
  {
   "cell_type": "markdown",
   "metadata": {
    "slideshow": {
     "slide_type": "subslide"
    }
   },
   "source": [
    "# Bioinformaticians as consumers of software\n",
    "\n",
    "Here's some of the tools I use for structural bioinformatics:"
   ]
  },
  {
   "cell_type": "markdown",
   "metadata": {
    "slideshow": {
     "slide_type": "subslide"
    }
   },
   "source": [
    "### Basic Tools\n",
    "\n",
    "* Linux > macOS > Windows (I don't hate Windows!)\n",
    "* Scripting\n",
    "    * Python\n",
    "    * Bash\n",
    "    * Perl\n",
    "* Databases\n",
    "    * SQLite\n",
    "    * MySQL\n",
    "    * PostGres\n",
    "    * MongoDB"
   ]
  },
  {
   "cell_type": "markdown",
   "metadata": {
    "slideshow": {
     "slide_type": "subslide"
    }
   },
   "source": [
    "### Structural Databases\n",
    "\n",
    "* [PDBe](https://www.ebi.ac.uk/pdbe/) and [PDB Redux](https://pdb-redo.eu/) - Structural databases\n",
    "* [CATH](http://www.cathdb.info/) and [SCOP2](http://scop2.mrc-lmb.cam.ac.uk/) - Structure classification."
   ]
  },
  {
   "cell_type": "markdown",
   "metadata": {
    "slideshow": {
     "slide_type": "subslide"
    }
   },
   "source": [
    "### Webtools\n",
    "\n",
    "* [PDBe Fold](http://www.ebi.ac.uk/msd-srv/ssm/) - 3D alignment across the PDB.\n",
    "* [Jpred](http://www.compbio.dundee.ac.uk/jpred/) (or [PsiPred](http://bioinf.cs.ucl.ac.uk/psipred/)) - Secondary structure prediction.\n",
    "* [MPI Bioinformatics Toolkit](https://toolkit.tuebingen.mpg.de/) - Sequence bioinformatics"
   ]
  },
  {
   "cell_type": "markdown",
   "metadata": {
    "slideshow": {
     "slide_type": "subslide"
    }
   },
   "source": [
    "### MD\n",
    "\n",
    "* [OpenMM](http://openmm.org/) - Molecular dynamics simulations.\n",
    "* [Gromacs](http://www.gromacs.org/) - Molecular dynamics simulations.\n",
    "* [MDTraj](http://mdtraj.org/1.9.0/) - MD analysis"
   ]
  },
  {
   "cell_type": "markdown",
   "metadata": {
    "slideshow": {
     "slide_type": "subslide"
    }
   },
   "source": [
    "### Useful programs\n",
    "\n",
    "* [DSSP](http://swift.cmbi.ru.nl/gv/dssp/) - Assignment of secondary structure.\n",
    "* [Scwrl](http://dunbrack.fccc.edu/scwrl4/) - Sidechain packing.\n",
    "* [ProFit](http://www.bioinf.org.uk/programs/profit/) - Structural alignment.\n",
    "* [Reduce](http://kinemage.biochem.duke.edu/software/reduce.php) - Adding hydrogen atoms.\n",
    "* [Pymol](https://pymol.org/) and [VMD](http://www.ks.uiuc.edu/Research/vmd/) - Visualisation."
   ]
  },
  {
   "cell_type": "markdown",
   "metadata": {
    "slideshow": {
     "slide_type": "subslide"
    }
   },
   "source": [
    "# Bioinformaticians as Software Developers\n",
    "\n",
    "* Most of this software is developed by bioinformaticians"
   ]
  },
  {
   "cell_type": "markdown",
   "metadata": {
    "slideshow": {
     "slide_type": "subslide"
    }
   },
   "source": [
    "## Software Development\n",
    "\n",
    "* Python\n",
    "* Rust, C/C++\n",
    "* HTML5 (HTML, CSS, JS)\n",
    "* Version control (Git)\n",
    "* Docker"
   ]
  },
  {
   "cell_type": "markdown",
   "metadata": {
    "slideshow": {
     "slide_type": "subslide"
    }
   },
   "source": [
    "I write software to design proteins..."
   ]
  },
  {
   "cell_type": "markdown",
   "metadata": {
    "slideshow": {
     "slide_type": "slide"
    }
   },
   "source": [
    "# ISAMBARD\n",
    "\n",
    "* Intelligent System for Analysis Model Building And Rational Design\n",
    "* Python module\n",
    "* Primarily designed for parametric design of proteins\n",
    "* Contains lots of tools for structural bioinformatics\n",
    "* Open source available through [ISAMBARD on GitHub](https://github.com/woolfson-group/isambard)\n",
    "    * [Decent documentation](https://woolfson-group.github.io/isambard/)\n",
    "    * [Tutorial material](https://github.com/woolfson-group/isambard/wiki) (including this notebook!)\n",
    "    * Lots of support available\n",
    "\n",
    "[Wood *et al* (2017) Bioinformatics, **33**, 3043–3050](https://academic.oup.com/bioinformatics/article/33/19/3043/3861331)"
   ]
  },
  {
   "cell_type": "markdown",
   "metadata": {
    "slideshow": {
     "slide_type": "subslide"
    }
   },
   "source": [
    "Let's get started! Everyone familiar with:\n",
    "\n",
    "* Python?\n",
    "* Jupyter Notebook?"
   ]
  },
  {
   "cell_type": "markdown",
   "metadata": {
    "slideshow": {
     "slide_type": "subslide"
    }
   },
   "source": [
    "Start by importing ISAMBARD:"
   ]
  },
  {
   "cell_type": "code",
   "execution_count": 1,
   "metadata": {
    "collapsed": true,
    "slideshow": {
     "slide_type": "fragment"
    }
   },
   "outputs": [],
   "source": [
    "import isambard\n",
    "import isambard.ampal as ampal"
   ]
  },
  {
   "cell_type": "markdown",
   "metadata": {
    "slideshow": {
     "slide_type": "subslide"
    }
   },
   "source": [
    "# Load a Structure\n",
    "\n",
    "You can load a PDB file, but it must adhere to the [PDB spec](http://www.wwpdb.org/documentation/file-format-content/format33/v3.3.html). *mmCIF (PDBx) support coming soon.*"
   ]
  },
  {
   "cell_type": "code",
   "execution_count": 2,
   "metadata": {
    "collapsed": true,
    "slideshow": {
     "slide_type": "fragment"
    }
   },
   "outputs": [],
   "source": [
    "ubiq = ampal.convert_pdb_to_ampal('structures/1ubq.pdb')"
   ]
  },
  {
   "cell_type": "code",
   "execution_count": 133,
   "metadata": {},
   "outputs": [
    {
     "name": "stdout",
     "output_type": "stream",
     "text": [
      "HEADER ISAMBARD Model 1ubq                                                             \n",
      "ATOM      1  N   MET A   1      27.340  24.430   2.614  1.00  9.67           N  \n",
      "ATOM      2  CA  MET A   1      26.266  25.413   2.842  1.00 10.38           C  \n",
      "ATOM      3  C   MET A   1      26.913  26.639   3\n"
     ]
    }
   ],
   "source": [
    "print(ubiq.pdb[:300])"
   ]
  },
  {
   "cell_type": "markdown",
   "metadata": {
    "slideshow": {
     "slide_type": "subslide"
    }
   },
   "source": [
    "## Visualise a Structure\n",
    "You can visualise a structure here in the notebook using [NGL View](https://github.com/arose/nglview)."
   ]
  },
  {
   "cell_type": "code",
   "execution_count": 4,
   "metadata": {
    "collapsed": true,
    "slideshow": {
     "slide_type": "fragment"
    }
   },
   "outputs": [],
   "source": [
    "import nglview"
   ]
  },
  {
   "cell_type": "code",
   "execution_count": 5,
   "metadata": {
    "collapsed": true,
    "slideshow": {
     "slide_type": "fragment"
    }
   },
   "outputs": [],
   "source": [
    "def show_cartoon_and_bs(pdb_str, selection='protein'):\n",
    "    view = nglview.show_text(pdb_str)\n",
    "    view.add_ball_and_stick(selection=selection, opacity=0.5)\n",
    "    return view"
   ]
  },
  {
   "cell_type": "code",
   "execution_count": 134,
   "metadata": {
    "slideshow": {
     "slide_type": "fragment"
    }
   },
   "outputs": [
    {
     "data": {
      "application/vnd.jupyter.widget-view+json": {
       "model_id": "c1236ded95cf4fc08be3057fdf83d2d9",
       "version_major": 2,
       "version_minor": 0
      },
      "text/plain": [
       "A Jupyter Widget"
      ]
     },
     "metadata": {},
     "output_type": "display_data"
    }
   ],
   "source": [
    "show_cartoon_and_bs(ubiq.pdb, 'protein')"
   ]
  },
  {
   "cell_type": "markdown",
   "metadata": {
    "slideshow": {
     "slide_type": "slide"
    }
   },
   "source": [
    "## Basic Analysis\n",
    "\n",
    "Once a structure is loaded, lots of basic analysis can be performed."
   ]
  },
  {
   "cell_type": "code",
   "execution_count": 7,
   "metadata": {
    "slideshow": {
     "slide_type": "fragment"
    }
   },
   "outputs": [
    {
     "data": {
      "text/plain": [
       "['MQIFVKTLTGKTITLEVEPSDTIENVKAKIQDKEGIPPDQQRLIFAGKQLEDGRTLSDYNIQKESTLHLVLRLRGG']"
      ]
     },
     "execution_count": 7,
     "metadata": {},
     "output_type": "execute_result"
    }
   ],
   "source": [
    "ubiq.sequences"
   ]
  },
  {
   "cell_type": "code",
   "execution_count": 8,
   "metadata": {
    "slideshow": {
     "slide_type": "fragment"
    }
   },
   "outputs": [
    {
     "data": {
      "text/plain": [
       "8564.736480000001"
      ]
     },
     "execution_count": 8,
     "metadata": {},
     "output_type": "execute_result"
    }
   ],
   "source": [
    "ubiq.molecular_weight"
   ]
  },
  {
   "cell_type": "code",
   "execution_count": 9,
   "metadata": {
    "slideshow": {
     "slide_type": "fragment"
    }
   },
   "outputs": [
    {
     "data": {
      "text/plain": [
       "7.100000000000005"
      ]
     },
     "execution_count": 9,
     "metadata": {},
     "output_type": "execute_result"
    }
   ],
   "source": [
    "ubiq.isoelectric_point"
   ]
  },
  {
   "cell_type": "code",
   "execution_count": 135,
   "metadata": {
    "slideshow": {
     "slide_type": "fragment"
    }
   },
   "outputs": [
    {
     "data": {
      "text/plain": [
       "1280"
      ]
     },
     "execution_count": 135,
     "metadata": {},
     "output_type": "execute_result"
    }
   ],
   "source": [
    "ubiq.molar_extinction_280"
   ]
  },
  {
   "cell_type": "markdown",
   "metadata": {
    "slideshow": {
     "slide_type": "slide"
    }
   },
   "source": [
    "## The AMPAL Framework\n",
    "\n",
    "* Biomolecular structure in ISAMBARD is represented using the AMPAL framework\n",
    "* Atom, Monomer, Polymer, Assembly, Ligand\n",
    "* AMPAL objects have an intuitive hierarchy:\n",
    "\n",
    "`Assembly` > `Polymer` > `Monomer` > `Atom`"
   ]
  },
  {
   "cell_type": "markdown",
   "metadata": {
    "slideshow": {
     "slide_type": "subslide"
    }
   },
   "source": [
    "## Selections\n",
    "\n",
    "You can select chains, residues, atoms using indexes, slices and keys."
   ]
  },
  {
   "cell_type": "markdown",
   "metadata": {
    "slideshow": {
     "slide_type": "fragment"
    }
   },
   "source": [
    "### Assembly Level"
   ]
  },
  {
   "cell_type": "code",
   "execution_count": 139,
   "metadata": {
    "slideshow": {
     "slide_type": "fragment"
    }
   },
   "outputs": [
    {
     "data": {
      "text/plain": [
       "<Polypeptide containing 76 Residues. Sequence: MQIFVKTLTGKT...>"
      ]
     },
     "execution_count": 139,
     "metadata": {},
     "output_type": "execute_result"
    }
   ],
   "source": [
    "ubiq[0]  # the 0th polymer"
   ]
  },
  {
   "cell_type": "code",
   "execution_count": 12,
   "metadata": {
    "slideshow": {
     "slide_type": "fragment"
    }
   },
   "outputs": [
    {
     "data": {
      "text/plain": [
       "<Polypeptide containing 76 Residues. Sequence: MQIFVKTLTGKT...>"
      ]
     },
     "execution_count": 12,
     "metadata": {},
     "output_type": "execute_result"
    }
   ],
   "source": [
    "ubiq['A']  # the polymer labelled A"
   ]
  },
  {
   "cell_type": "markdown",
   "metadata": {
    "collapsed": true,
    "slideshow": {
     "slide_type": "subslide"
    }
   },
   "source": [
    "### Polymer Level\n",
    "\n",
    "Lots of the basic analysis can also be performed at the polyer level."
   ]
  },
  {
   "cell_type": "code",
   "execution_count": 140,
   "metadata": {
    "slideshow": {
     "slide_type": "fragment"
    }
   },
   "outputs": [
    {
     "data": {
      "text/plain": [
       "<Polypeptide containing 76 Residues. Sequence: MQIFVKTLTGKT...>"
      ]
     },
     "execution_count": 140,
     "metadata": {},
     "output_type": "execute_result"
    }
   ],
   "source": [
    "ch_a = ubiq['A']\n",
    "ch_a"
   ]
  },
  {
   "cell_type": "code",
   "execution_count": 88,
   "metadata": {
    "slideshow": {
     "slide_type": "fragment"
    }
   },
   "outputs": [
    {
     "data": {
      "text/plain": [
       "'MQIFVKTLTGKTITLEVEPSDTIENVKAKIQDKEGIPPDQQRLIFAGKQLEDGRTLSDYNIQKESTLHLVLRLRGG'"
      ]
     },
     "execution_count": 88,
     "metadata": {},
     "output_type": "execute_result"
    }
   ],
   "source": [
    "ch_a.sequence"
   ]
  },
  {
   "cell_type": "code",
   "execution_count": 141,
   "metadata": {
    "slideshow": {
     "slide_type": "fragment"
    }
   },
   "outputs": [
    {
     "data": {
      "text/plain": [
       "8564.736480000001"
      ]
     },
     "execution_count": 141,
     "metadata": {},
     "output_type": "execute_result"
    }
   ],
   "source": [
    "ch_a.molecular_weight"
   ]
  },
  {
   "cell_type": "code",
   "execution_count": 93,
   "metadata": {
    "slideshow": {
     "slide_type": "subslide"
    }
   },
   "outputs": [
    {
     "data": {
      "text/plain": [
       "<Residue containing 8 Atoms. Residue code: MET>"
      ]
     },
     "execution_count": 93,
     "metadata": {},
     "output_type": "execute_result"
    }
   ],
   "source": [
    "ch_a[0]  # the 0th residue"
   ]
  },
  {
   "cell_type": "code",
   "execution_count": 17,
   "metadata": {
    "slideshow": {
     "slide_type": "fragment"
    }
   },
   "outputs": [
    {
     "data": {
      "text/plain": [
       "<Residue containing 8 Atoms. Residue code: MET>"
      ]
     },
     "execution_count": 17,
     "metadata": {},
     "output_type": "execute_result"
    }
   ],
   "source": [
    "ch_a['1']  # The residue with the label '1'"
   ]
  },
  {
   "cell_type": "markdown",
   "metadata": {
    "slideshow": {
     "slide_type": "subslide"
    }
   },
   "source": [
    "The 1th residue is not the residue with the label '1'!"
   ]
  },
  {
   "cell_type": "code",
   "execution_count": 18,
   "metadata": {
    "slideshow": {
     "slide_type": "fragment"
    }
   },
   "outputs": [
    {
     "data": {
      "text/plain": [
       "False"
      ]
     },
     "execution_count": 18,
     "metadata": {},
     "output_type": "execute_result"
    }
   ],
   "source": [
    "ch_a[1] is ch_a['1']  # the 1th residue is not the residue with the label '1'!"
   ]
  },
  {
   "cell_type": "code",
   "execution_count": 19,
   "metadata": {
    "slideshow": {
     "slide_type": "-"
    }
   },
   "outputs": [
    {
     "data": {
      "text/plain": [
       "True"
      ]
     },
     "execution_count": 19,
     "metadata": {},
     "output_type": "execute_result"
    }
   ],
   "source": [
    "ch_a[1] is ch_a['2']"
   ]
  },
  {
   "cell_type": "markdown",
   "metadata": {
    "collapsed": true,
    "slideshow": {
     "slide_type": "subslide"
    }
   },
   "source": [
    "A slice of polymer returns a polymer."
   ]
  },
  {
   "cell_type": "code",
   "execution_count": 95,
   "metadata": {
    "slideshow": {
     "slide_type": "fragment"
    }
   },
   "outputs": [
    {
     "data": {
      "text/plain": [
       "<Polypeptide containing 30 Residues. Sequence: MQIFVKTLTGKT...>"
      ]
     },
     "execution_count": 95,
     "metadata": {},
     "output_type": "execute_result"
    }
   ],
   "source": [
    "ch_a[:30]  # "
   ]
  },
  {
   "cell_type": "code",
   "execution_count": 142,
   "metadata": {
    "slideshow": {
     "slide_type": "fragment"
    }
   },
   "outputs": [
    {
     "data": {
      "application/vnd.jupyter.widget-view+json": {
       "model_id": "5481dcef8c7d497bbaaffc96b9070199",
       "version_major": 2,
       "version_minor": 0
      },
      "text/plain": [
       "A Jupyter Widget"
      ]
     },
     "metadata": {},
     "output_type": "display_data"
    }
   ],
   "source": [
    "show_cartoon_and_bs(ch_a[40:-10].pdb)"
   ]
  },
  {
   "cell_type": "markdown",
   "metadata": {
    "collapsed": true,
    "slideshow": {
     "slide_type": "subslide"
    }
   },
   "source": [
    "You can make slices using residue `ids`."
   ]
  },
  {
   "cell_type": "code",
   "execution_count": 143,
   "metadata": {
    "slideshow": {
     "slide_type": "fragment"
    }
   },
   "outputs": [
    {
     "name": "stdout",
     "output_type": "stream",
     "text": [
      "['1', '2', '3', '4', '5', '6', '7', '8', '9', '10', '11', '12', '13', '14', '15', '16', '17', '18', '19', '20', '21', '22', '23', '24', '25', '26', '27', '28', '29', '30', '31', '32', '33', '34', '35', '36', '37', '38', '39', '40', '41', '42', '43', '44', '45', '46', '47', '48', '49', '50', '51', '52', '53', '54', '55', '56', '57', '58', '59', '60', '61', '62', '63', '64', '65', '66', '67', '68', '69', '70', '71', '72', '73', '74', '75', '76']\n"
     ]
    }
   ],
   "source": [
    "print([res.id for res in ch_a])"
   ]
  },
  {
   "cell_type": "code",
   "execution_count": 23,
   "metadata": {
    "slideshow": {
     "slide_type": "fragment"
    }
   },
   "outputs": [
    {
     "data": {
      "text/plain": [
       "<Polypeptide containing 31 Residues. Sequence: IQDKEGIPPDQQ...>"
      ]
     },
     "execution_count": 23,
     "metadata": {},
     "output_type": "execute_result"
    }
   ],
   "source": [
    "ch_a.get_slice_from_res_id('30', '60')"
   ]
  },
  {
   "cell_type": "code",
   "execution_count": 144,
   "metadata": {
    "slideshow": {
     "slide_type": "fragment"
    }
   },
   "outputs": [
    {
     "data": {
      "application/vnd.jupyter.widget-view+json": {
       "model_id": "027acb80f64744549f5d86512b50d641",
       "version_major": 2,
       "version_minor": 0
      },
      "text/plain": [
       "A Jupyter Widget"
      ]
     },
     "metadata": {},
     "output_type": "display_data"
    }
   ],
   "source": [
    "show_cartoon_and_bs(ch_a.get_slice_from_res_id('30', '60').pdb)"
   ]
  },
  {
   "cell_type": "markdown",
   "metadata": {
    "collapsed": true,
    "slideshow": {
     "slide_type": "subslide"
    }
   },
   "source": [
    "### Monomer Level"
   ]
  },
  {
   "cell_type": "code",
   "execution_count": 98,
   "metadata": {
    "slideshow": {
     "slide_type": "fragment"
    }
   },
   "outputs": [
    {
     "data": {
      "text/plain": [
       "<Residue containing 8 Atoms. Residue code: ILE>"
      ]
     },
     "execution_count": 98,
     "metadata": {},
     "output_type": "execute_result"
    }
   ],
   "source": [
    "res_23 = ch_a['23']\n",
    "res_23"
   ]
  },
  {
   "cell_type": "code",
   "execution_count": 26,
   "metadata": {
    "slideshow": {
     "slide_type": "fragment"
    }
   },
   "outputs": [
    {
     "data": {
      "text/plain": [
       "'ILE'"
      ]
     },
     "execution_count": 26,
     "metadata": {},
     "output_type": "execute_result"
    }
   ],
   "source": [
    "res_23.mol_code"
   ]
  },
  {
   "cell_type": "code",
   "execution_count": 152,
   "metadata": {
    "slideshow": {
     "slide_type": "fragment"
    }
   },
   "outputs": [
    {
     "data": {
      "text/plain": [
       "OrderedDict([('N', <Nitrogen Atom (N). Coordinates: (31.113, 20.863, 15.860)>),\n",
       "             ('CA', <Carbon Atom (CA). Coordinates: (31.288, 22.201, 16.417)>),\n",
       "             ('C', <Carbon Atom (C). Coordinates: (32.776, 22.519, 16.577)>),\n",
       "             ('O', <Oxygen Atom (O). Coordinates: (33.233, 23.659, 16.384)>),\n",
       "             ('CB', <Carbon Atom (CB). Coordinates: (30.520, 22.300, 17.764)>),\n",
       "             ('CG1',\n",
       "              <Carbon Atom (CG1). Coordinates: (29.006, 22.043, 17.442)>),\n",
       "             ('CG2',\n",
       "              <Carbon Atom (CG2). Coordinates: (30.832, 23.699, 18.358)>),\n",
       "             ('CD1',\n",
       "              <Carbon Atom (CD1). Coordinates: (28.407, 22.948, 16.366)>)])"
      ]
     },
     "execution_count": 152,
     "metadata": {},
     "output_type": "execute_result"
    }
   ],
   "source": [
    "res_23.atoms"
   ]
  },
  {
   "cell_type": "code",
   "execution_count": 153,
   "metadata": {
    "scrolled": true,
    "slideshow": {
     "slide_type": "subslide"
    }
   },
   "outputs": [
    {
     "data": {
      "application/vnd.jupyter.widget-view+json": {
       "model_id": "362613ecf8424d37b6a1b525d1687166",
       "version_major": 2,
       "version_minor": 0
      },
      "text/plain": [
       "A Jupyter Widget"
      ]
     },
     "metadata": {},
     "output_type": "display_data"
    }
   ],
   "source": [
    "show_cartoon_and_bs(res_23.pdb)"
   ]
  },
  {
   "cell_type": "markdown",
   "metadata": {
    "collapsed": true,
    "slideshow": {
     "slide_type": "subslide"
    }
   },
   "source": [
    "### Atom Level"
   ]
  },
  {
   "cell_type": "code",
   "execution_count": 100,
   "metadata": {
    "collapsed": true,
    "slideshow": {
     "slide_type": "fragment"
    }
   },
   "outputs": [],
   "source": [
    "r23ca = res_23['CA']"
   ]
  },
  {
   "cell_type": "code",
   "execution_count": 30,
   "metadata": {
    "slideshow": {
     "slide_type": "-"
    }
   },
   "outputs": [
    {
     "data": {
      "text/plain": [
       "<Carbon Atom (CA). Coordinates: (31.288, 22.201, 16.417)>"
      ]
     },
     "execution_count": 30,
     "metadata": {},
     "output_type": "execute_result"
    }
   ],
   "source": [
    "r23ca"
   ]
  },
  {
   "cell_type": "code",
   "execution_count": 31,
   "metadata": {
    "slideshow": {
     "slide_type": "fragment"
    }
   },
   "outputs": [
    {
     "data": {
      "text/plain": [
       "'C'"
      ]
     },
     "execution_count": 31,
     "metadata": {},
     "output_type": "execute_result"
    }
   ],
   "source": [
    "r23ca.element"
   ]
  },
  {
   "cell_type": "code",
   "execution_count": 157,
   "metadata": {
    "slideshow": {
     "slide_type": "fragment"
    }
   },
   "outputs": [
    {
     "data": {
      "text/plain": [
       "array([ 31.288,  22.201,  16.417])"
      ]
     },
     "execution_count": 157,
     "metadata": {},
     "output_type": "execute_result"
    }
   ],
   "source": [
    "r23ca.array"
   ]
  },
  {
   "cell_type": "markdown",
   "metadata": {
    "slideshow": {
     "slide_type": "subslide"
    }
   },
   "source": [
    "## Crawling back up the hierarchy"
   ]
  },
  {
   "cell_type": "code",
   "execution_count": 33,
   "metadata": {
    "slideshow": {
     "slide_type": "fragment"
    }
   },
   "outputs": [
    {
     "data": {
      "text/plain": [
       "<Carbon Atom (CA). Coordinates: (31.288, 22.201, 16.417)>"
      ]
     },
     "execution_count": 33,
     "metadata": {},
     "output_type": "execute_result"
    }
   ],
   "source": [
    "r23ca"
   ]
  },
  {
   "cell_type": "code",
   "execution_count": 159,
   "metadata": {
    "slideshow": {
     "slide_type": "fragment"
    }
   },
   "outputs": [
    {
     "data": {
      "text/plain": [
       "<Residue containing 8 Atoms. Residue code: ILE>"
      ]
     },
     "execution_count": 159,
     "metadata": {},
     "output_type": "execute_result"
    }
   ],
   "source": [
    "r23ca.ampal_parent"
   ]
  },
  {
   "cell_type": "code",
   "execution_count": 35,
   "metadata": {
    "slideshow": {
     "slide_type": "fragment"
    }
   },
   "outputs": [
    {
     "data": {
      "text/plain": [
       "True"
      ]
     },
     "execution_count": 35,
     "metadata": {},
     "output_type": "execute_result"
    }
   ],
   "source": [
    "r23ca.ampal_parent is res_23"
   ]
  },
  {
   "cell_type": "code",
   "execution_count": 36,
   "metadata": {
    "slideshow": {
     "slide_type": "fragment"
    }
   },
   "outputs": [
    {
     "data": {
      "text/plain": [
       "<Polypeptide containing 76 Residues. Sequence: MQIFVKTLTGKT...>"
      ]
     },
     "execution_count": 36,
     "metadata": {},
     "output_type": "execute_result"
    }
   ],
   "source": [
    "r23ca.ampal_parent.ampal_parent"
   ]
  },
  {
   "cell_type": "code",
   "execution_count": 37,
   "metadata": {
    "slideshow": {
     "slide_type": "fragment"
    }
   },
   "outputs": [
    {
     "data": {
      "text/plain": [
       "True"
      ]
     },
     "execution_count": 37,
     "metadata": {},
     "output_type": "execute_result"
    }
   ],
   "source": [
    "r23ca.ampal_parent.ampal_parent is ch_a"
   ]
  },
  {
   "cell_type": "code",
   "execution_count": 38,
   "metadata": {
    "slideshow": {
     "slide_type": "fragment"
    }
   },
   "outputs": [
    {
     "data": {
      "text/plain": [
       "<Assembly (1ubq) containing 1 Polypeptide, 58 Ligands>"
      ]
     },
     "execution_count": 38,
     "metadata": {},
     "output_type": "execute_result"
    }
   ],
   "source": [
    "r23ca.ampal_parent.ampal_parent.ampal_parent"
   ]
  },
  {
   "cell_type": "code",
   "execution_count": 39,
   "metadata": {
    "slideshow": {
     "slide_type": "fragment"
    }
   },
   "outputs": [
    {
     "data": {
      "text/plain": [
       "True"
      ]
     },
     "execution_count": 39,
     "metadata": {},
     "output_type": "execute_result"
    }
   ],
   "source": [
    "r23ca.ampal_parent.ampal_parent.ampal_parent is ubiq"
   ]
  },
  {
   "cell_type": "markdown",
   "metadata": {
    "slideshow": {
     "slide_type": "slide"
    }
   },
   "source": [
    "## Special Selections\n",
    "\n",
    "*Requires DSSP*"
   ]
  },
  {
   "cell_type": "code",
   "execution_count": 40,
   "metadata": {
    "slideshow": {
     "slide_type": "-"
    }
   },
   "outputs": [
    {
     "data": {
      "text/plain": [
       "<Assembly (1ubq) containing 1 Polypeptide>"
      ]
     },
     "execution_count": 40,
     "metadata": {},
     "output_type": "execute_result"
    }
   ],
   "source": [
    "ubiq.helices"
   ]
  },
  {
   "cell_type": "code",
   "execution_count": 160,
   "metadata": {
    "slideshow": {
     "slide_type": "fragment"
    }
   },
   "outputs": [
    {
     "data": {
      "application/vnd.jupyter.widget-view+json": {
       "model_id": "dca0ffcc86a9497faed3983786a527bd",
       "version_major": 2,
       "version_minor": 0
      },
      "text/plain": [
       "A Jupyter Widget"
      ]
     },
     "metadata": {},
     "output_type": "display_data"
    }
   ],
   "source": [
    "show_cartoon_and_bs(ubiq.helices.pdb)"
   ]
  },
  {
   "cell_type": "code",
   "execution_count": 42,
   "metadata": {
    "slideshow": {
     "slide_type": "subslide"
    }
   },
   "outputs": [
    {
     "data": {
      "text/plain": [
       "<Assembly (1ubq) containing 5 Polypeptides>"
      ]
     },
     "execution_count": 42,
     "metadata": {},
     "output_type": "execute_result"
    }
   ],
   "source": [
    "ubiq.strands"
   ]
  },
  {
   "cell_type": "code",
   "execution_count": 161,
   "metadata": {
    "scrolled": true,
    "slideshow": {
     "slide_type": "fragment"
    }
   },
   "outputs": [
    {
     "data": {
      "application/vnd.jupyter.widget-view+json": {
       "model_id": "df6e6e587d574f9b830bbbc8e8751890",
       "version_major": 2,
       "version_minor": 0
      },
      "text/plain": [
       "A Jupyter Widget"
      ]
     },
     "metadata": {},
     "output_type": "display_data"
    }
   ],
   "source": [
    "show_cartoon_and_bs(ubiq.strands.pdb)"
   ]
  },
  {
   "cell_type": "markdown",
   "metadata": {
    "slideshow": {
     "slide_type": "slide"
    }
   },
   "source": [
    "## Working with Ligands"
   ]
  },
  {
   "cell_type": "code",
   "execution_count": 44,
   "metadata": {
    "collapsed": true,
    "slideshow": {
     "slide_type": "-"
    }
   },
   "outputs": [],
   "source": [
    "carb_an = ampal.convert_pdb_to_ampal('structures/3qy1.pdb')"
   ]
  },
  {
   "cell_type": "code",
   "execution_count": 168,
   "metadata": {
    "slideshow": {
     "slide_type": "fragment"
    }
   },
   "outputs": [
    {
     "data": {
      "text/plain": [
       "<Assembly (3qy1) containing 2 Polypeptides, 449 Ligands>"
      ]
     },
     "execution_count": 168,
     "metadata": {},
     "output_type": "execute_result"
    }
   ],
   "source": [
    "carb_an"
   ]
  },
  {
   "cell_type": "code",
   "execution_count": 169,
   "metadata": {
    "slideshow": {
     "slide_type": "fragment"
    }
   },
   "outputs": [
    {
     "data": {
      "application/vnd.jupyter.widget-view+json": {
       "model_id": "bb1ee1b05d754f4bba2ca9efdcb3d3fa",
       "version_major": 2,
       "version_minor": 0
      },
      "text/plain": [
       "A Jupyter Widget"
      ]
     },
     "metadata": {},
     "output_type": "display_data"
    }
   ],
   "source": [
    "view = nglview.show_text(carb_an.pdb)\n",
    "view.add_spacefill('ion')\n",
    "view"
   ]
  },
  {
   "cell_type": "code",
   "execution_count": 48,
   "metadata": {
    "collapsed": true,
    "slideshow": {
     "slide_type": "subslide"
    }
   },
   "outputs": [],
   "source": [
    "all_ligands = carb_an.get_ligands()"
   ]
  },
  {
   "cell_type": "code",
   "execution_count": 171,
   "metadata": {
    "slideshow": {
     "slide_type": "fragment"
    }
   },
   "outputs": [
    {
     "name": "stdout",
     "output_type": "stream",
     "text": [
      "['ZN', 'HOH', 'HOH', 'HOH', 'HOH', 'HOH', 'HOH', 'HOH', 'HOH', 'HOH', 'HOH', 'HOH', 'HOH', 'HOH', 'HOH', 'HOH', 'HOH', 'HOH', 'HOH', 'HOH']\n"
     ]
    }
   ],
   "source": [
    "print([lig.mol_code for lig in all_ligands][:20])"
   ]
  },
  {
   "cell_type": "code",
   "execution_count": 176,
   "metadata": {
    "collapsed": true
   },
   "outputs": [],
   "source": [
    "def not_water(ligand):\n",
    "    return ligand.mol_code != 'HOH'"
   ]
  },
  {
   "cell_type": "code",
   "execution_count": 182,
   "metadata": {
    "slideshow": {
     "slide_type": "fragment"
    }
   },
   "outputs": [
    {
     "data": {
      "text/plain": [
       "[<Ligand containing 1 Atom. Ligand code: ZN>,\n",
       " <Ligand containing 1 Atom. Ligand code: ZN>]"
      ]
     },
     "execution_count": 182,
     "metadata": {},
     "output_type": "execute_result"
    }
   ],
   "source": [
    "list(filter(lambda x: x.mol_code != 'HOH', all_ligands))"
   ]
  },
  {
   "cell_type": "code",
   "execution_count": 51,
   "metadata": {
    "collapsed": true,
    "slideshow": {
     "slide_type": "fragment"
    }
   },
   "outputs": [],
   "source": [
    "zn_ligand = all_ligands[0]"
   ]
  },
  {
   "cell_type": "code",
   "execution_count": 52,
   "metadata": {
    "collapsed": true,
    "slideshow": {
     "slide_type": "-"
    }
   },
   "outputs": [],
   "source": [
    "zn_atom = zn_ligand['ZN']"
   ]
  },
  {
   "cell_type": "markdown",
   "metadata": {
    "slideshow": {
     "slide_type": "subslide"
    }
   },
   "source": [
    "Which residues are close to the Zn atom?"
   ]
  },
  {
   "cell_type": "code",
   "execution_count": 190,
   "metadata": {
    "collapsed": true,
    "slideshow": {
     "slide_type": "fragment"
    }
   },
   "outputs": [],
   "source": [
    "residues = set()\n",
    "for atom in carb_an.get_atoms(ligands=False):\n",
    "    if isambard.geometry.distance(atom, zn_atom) < 3:\n",
    "        residues.add(atom.ampal_parent)"
   ]
  },
  {
   "cell_type": "code",
   "execution_count": 191,
   "metadata": {
    "slideshow": {
     "slide_type": "fragment"
    }
   },
   "outputs": [
    {
     "data": {
      "text/plain": [
       "{<Residue containing 6 Atoms. Residue code: CYS>,\n",
       " <Residue containing 8 Atoms. Residue code: ASP>,\n",
       " <Residue containing 10 Atoms. Residue code: HIS>,\n",
       " <Residue containing 6 Atoms. Residue code: CYS>}"
      ]
     },
     "execution_count": 191,
     "metadata": {},
     "output_type": "execute_result"
    }
   ],
   "source": [
    "residues"
   ]
  },
  {
   "cell_type": "markdown",
   "metadata": {
    "slideshow": {
     "slide_type": "subslide"
    }
   },
   "source": [
    "There's a better way!"
   ]
  },
  {
   "cell_type": "code",
   "execution_count": 197,
   "metadata": {
    "slideshow": {
     "slide_type": "fragment"
    }
   },
   "outputs": [
    {
     "data": {
      "text/plain": [
       "[<Sulfur Atom (SG). Coordinates: (-4.322, -18.933, -17.640)>,\n",
       " <Oxygen Atom (OD2). Coordinates: (-4.771, -22.057, -19.213)>,\n",
       " <Nitrogen Atom (NE2). Coordinates: (-6.209, -19.569, -20.787)>,\n",
       " <Sulfur Atom (SG). Coordinates: (-7.753, -20.619, -17.709)>,\n",
       " <Zinc Atom (ZN). Coordinates: (-5.817, -20.172, -18.798)>]"
      ]
     },
     "execution_count": 197,
     "metadata": {},
     "output_type": "execute_result"
    }
   ],
   "source": [
    "carb_an.is_within(3, zn_atom)"
   ]
  },
  {
   "cell_type": "code",
   "execution_count": 115,
   "metadata": {
    "slideshow": {
     "slide_type": "fragment"
    }
   },
   "outputs": [
    {
     "data": {
      "text/plain": [
       "{<Residue containing 6 Atoms. Residue code: CYS>,\n",
       " <Residue containing 6 Atoms. Residue code: CYS>,\n",
       " <Residue containing 10 Atoms. Residue code: HIS>,\n",
       " <Ligand containing 1 Atom. Ligand code: ZN>,\n",
       " <Residue containing 8 Atoms. Residue code: ASP>}"
      ]
     },
     "execution_count": 115,
     "metadata": {},
     "output_type": "execute_result"
    }
   ],
   "source": [
    "{atom.ampal_parent for atom in carb_an.is_within(3, zn_atom)}"
   ]
  },
  {
   "cell_type": "markdown",
   "metadata": {
    "slideshow": {
     "slide_type": "subslide"
    }
   },
   "source": [
    "And an even better way!"
   ]
  },
  {
   "cell_type": "code",
   "execution_count": 57,
   "metadata": {
    "slideshow": {
     "slide_type": "-"
    }
   },
   "outputs": [
    {
     "data": {
      "text/plain": [
       "[<Residue containing 6 Atoms. Residue code: CYS>,\n",
       " <Residue containing 8 Atoms. Residue code: ASP>,\n",
       " <Residue containing 10 Atoms. Residue code: HIS>,\n",
       " <Residue containing 6 Atoms. Residue code: CYS>,\n",
       " <Ligand containing 1 Atom. Ligand code: ZN>]"
      ]
     },
     "execution_count": 57,
     "metadata": {},
     "output_type": "execute_result"
    }
   ],
   "source": [
    "zn_ligand.close_monomers(carb_an, cutoff=3.0)"
   ]
  },
  {
   "cell_type": "code",
   "execution_count": 200,
   "metadata": {
    "scrolled": true,
    "slideshow": {
     "slide_type": "subslide"
    }
   },
   "outputs": [
    {
     "data": {
      "application/vnd.jupyter.widget-view+json": {
       "model_id": "b0b4011f91b24a7eaff550a64dbd4531",
       "version_major": 2,
       "version_minor": 0
      },
      "text/plain": [
       "A Jupyter Widget"
      ]
     },
     "metadata": {},
     "output_type": "display_data"
    }
   ],
   "source": [
    "close_to_zinc = zn_ligand.close_monomers(carb_an, cutoff=3.0)\n",
    "view = nglview.show_text(carb_an.pdb)\n",
    "for mon in close_to_zinc:\n",
    "    chain = mon.ampal_parent.id\n",
    "    view.add_ball_and_stick(f'{mon.id}:{chain}')\n",
    "view.add_spacefill('ion')\n",
    "view.remove_cartoon()\n",
    "view.add_trace('protein')\n",
    "view"
   ]
  },
  {
   "cell_type": "markdown",
   "metadata": {
    "scrolled": true,
    "slideshow": {
     "slide_type": "subslide"
    }
   },
   "source": [
    "Let's have a little break..."
   ]
  },
  {
   "cell_type": "markdown",
   "metadata": {
    "slideshow": {
     "slide_type": "slide"
    }
   },
   "source": [
    "# Protein Design\n",
    "\n",
    "Can be thought of as the reverse protein folding problem\n",
    "\n",
    "<div align=center><img src=\"imgs/seq-to-struct.png\"/></div>"
   ]
  },
  {
   "cell_type": "markdown",
   "metadata": {
    "slideshow": {
     "slide_type": "subslide"
    }
   },
   "source": [
    "# Protein Design\n",
    "\n",
    "<div align=center><img src=\"imgs/struct-to-sequence.png\"/></div>"
   ]
  },
  {
   "cell_type": "markdown",
   "metadata": {
    "slideshow": {
     "slide_type": "subslide"
    }
   },
   "source": [
    "Why design proteins?\n",
    "\n",
    "1. Design proteins with useful properties\n",
    "2. Learn how protein sequence relates to structure"
   ]
  },
  {
   "cell_type": "markdown",
   "metadata": {
    "slideshow": {
     "slide_type": "subslide"
    }
   },
   "source": [
    "# The curse of dimensionality...\n",
    "\n",
    "<div align=center><img src=\"imgs/protein-backbone.png\"/></div>\n",
    "\n",
    "$$N = 3(n-1)$$\n",
    "\n",
    "[Random Walk](vids/curse.webm)"
   ]
  },
  {
   "cell_type": "markdown",
   "metadata": {
    "slideshow": {
     "slide_type": "subslide"
    }
   },
   "source": [
    "In order to design proteins we must restrict the structural space we need to model!"
   ]
  },
  {
   "cell_type": "markdown",
   "metadata": {
    "slideshow": {
     "slide_type": "fragment"
    }
   },
   "source": [
    "Range of methods to do this:\n",
    "\n",
    "* Scaffold-based\n",
    "* Fragment-based\n",
    "* **Parametric**"
   ]
  },
  {
   "cell_type": "markdown",
   "metadata": {
    "slideshow": {
     "slide_type": "slide"
    }
   },
   "source": [
    "# Parametric Design\n",
    "\n",
    "Describe backbone structure using a small number of simple geometric parameters."
   ]
  },
  {
   "cell_type": "markdown",
   "metadata": {
    "slideshow": {
     "slide_type": "fragment"
    }
   },
   "source": [
    "Advantages:\n",
    "\n",
    "* Vastly reduces the structural space\n",
    "* Purely mathematical\n",
    "    * Access the \"dark matter\" of protein folding space\n",
    "\n",
    "Disadvantages:\n",
    "\n",
    "* Fold needs to be parametrizable\n",
    "* Need method for generating sequences"
   ]
  },
  {
   "cell_type": "markdown",
   "metadata": {
    "collapsed": true,
    "slideshow": {
     "slide_type": "slide"
    }
   },
   "source": [
    "# α-Helical Coiled Coils\n",
    "\n",
    "* Simple fold consisting of 2 or more helices\n",
    "* Helices wrap around each other to form a rope-like super-helical assembly\n",
    "* Driven by close packing of hydrophobic residues"
   ]
  },
  {
   "cell_type": "markdown",
   "metadata": {
    "slideshow": {
     "slide_type": "-"
    }
   },
   "source": [
    "<div align=center><img width=\"800\" src=\"imgs/coiled-coil-structure.png\"/></div>"
   ]
  },
  {
   "cell_type": "markdown",
   "metadata": {
    "slideshow": {
     "slide_type": "subslide"
    }
   },
   "source": [
    "The simplest coiled coils can be described with only 3 parameters."
   ]
  },
  {
   "cell_type": "markdown",
   "metadata": {
    "slideshow": {
     "slide_type": "-"
    }
   },
   "source": [
    "<div align=center><img width=\"800\" src=\"imgs/coiled-coil-parameters.png\"/></div>"
   ]
  },
  {
   "cell_type": "markdown",
   "metadata": {
    "slideshow": {
     "slide_type": "subslide"
    }
   },
   "source": [
    "When describing structure with backbone torsion angles:\n",
    "\n",
    "$$N = 3(n-1)$$\n",
    "\n",
    "Using the parametric model:\n",
    "\n",
    "$$N = 3$$"
   ]
  },
  {
   "cell_type": "markdown",
   "metadata": {
    "slideshow": {
     "slide_type": "slide"
    }
   },
   "source": [
    "# CCBuilder\n",
    "\n",
    "Let's play with this model... [CCBuilder 2.0](http://coiledcoils.chm.bris.ac.uk/ccbuilder2/builder)\n",
    "\n",
    "[Wood CW *et al* (2014) Bioinformatics, **30**, 3029-3035](https://academic.oup.com/bioinformatics/article-lookup/doi/10.1093/bioinformatics/btu502)\n",
    "\n",
    "[Wood CW *et al* (2017) Protein Science, DOI: 10.1002/pro.3279](http://onlinelibrary.wiley.com/doi/10.1002/pro.3279/abstract)"
   ]
  },
  {
   "cell_type": "markdown",
   "metadata": {
    "collapsed": true,
    "slideshow": {
     "slide_type": "subslide"
    }
   },
   "source": [
    "Let's model some coiled coils in ISAMBARD!"
   ]
  },
  {
   "cell_type": "markdown",
   "metadata": {
    "slideshow": {
     "slide_type": "slide"
    }
   },
   "source": [
    "# Parametric Modelling in ISAMBARD\n",
    "\n",
    "Two layers to parametric description\n",
    "* Backbone (Polymer-level specifications)\n",
    "* Fold (Assembly-level specifications)"
   ]
  },
  {
   "cell_type": "markdown",
   "metadata": {
    "slideshow": {
     "slide_type": "subslide"
    }
   },
   "source": [
    "<div align=center><img src=\"imgs/paths.png\"/></div>"
   ]
  },
  {
   "cell_type": "code",
   "execution_count": 59,
   "metadata": {
    "collapsed": true,
    "slideshow": {
     "slide_type": "subslide"
    }
   },
   "outputs": [],
   "source": [
    "from isambard.ampal.specifications import CoiledCoil"
   ]
  },
  {
   "cell_type": "code",
   "execution_count": 202,
   "metadata": {
    "collapsed": true,
    "slideshow": {
     "slide_type": "fragment"
    }
   },
   "outputs": [],
   "source": [
    "cc_di = CoiledCoil(2)"
   ]
  },
  {
   "cell_type": "code",
   "execution_count": 203,
   "metadata": {
    "slideshow": {
     "slide_type": "fragment"
    }
   },
   "outputs": [
    {
     "data": {
      "application/vnd.jupyter.widget-view+json": {
       "model_id": "26c908e07daf4411ab114fc4327a3aa5",
       "version_major": 2,
       "version_minor": 0
      },
      "text/plain": [
       "A Jupyter Widget"
      ]
     },
     "metadata": {},
     "output_type": "display_data"
    }
   ],
   "source": [
    "show_cartoon_and_bs(cc_di.pdb)"
   ]
  },
  {
   "cell_type": "markdown",
   "metadata": {
    "slideshow": {
     "slide_type": "subslide"
    }
   },
   "source": [
    "## Adding Sidechains\n",
    "\n",
    "*Requires SCWRL4*"
   ]
  },
  {
   "cell_type": "code",
   "execution_count": 205,
   "metadata": {
    "collapsed": true,
    "slideshow": {
     "slide_type": "-"
    }
   },
   "outputs": [],
   "source": [
    "cc_di.pack_new_sequences(['EIAALKQEIAALKKENAALKWEIAALKQ']*2)"
   ]
  },
  {
   "cell_type": "code",
   "execution_count": 206,
   "metadata": {
    "slideshow": {
     "slide_type": "fragment"
    }
   },
   "outputs": [
    {
     "data": {
      "application/vnd.jupyter.widget-view+json": {
       "model_id": "82fe5c77d6264d28ad3830ed9d977e36",
       "version_major": 2,
       "version_minor": 0
      },
      "text/plain": [
       "A Jupyter Widget"
      ]
     },
     "metadata": {},
     "output_type": "display_data"
    }
   ],
   "source": [
    "show_cartoon_and_bs(cc_di.pdb)"
   ]
  },
  {
   "cell_type": "markdown",
   "metadata": {
    "slideshow": {
     "slide_type": "subslide"
    }
   },
   "source": [
    "Where are the parameters?"
   ]
  },
  {
   "cell_type": "code",
   "execution_count": 64,
   "metadata": {
    "slideshow": {
     "slide_type": "fragment"
    }
   },
   "outputs": [
    {
     "data": {
      "text/plain": [
       "[5.07, 5.07]"
      ]
     },
     "execution_count": 64,
     "metadata": {},
     "output_type": "execute_result"
    }
   ],
   "source": [
    "cc_di.major_radii"
   ]
  },
  {
   "cell_type": "code",
   "execution_count": 65,
   "metadata": {
    "slideshow": {
     "slide_type": "-"
    }
   },
   "outputs": [
    {
     "data": {
      "text/plain": [
       "[225.8, 225.8]"
      ]
     },
     "execution_count": 65,
     "metadata": {},
     "output_type": "execute_result"
    }
   ],
   "source": [
    "cc_di.major_pitches"
   ]
  },
  {
   "cell_type": "code",
   "execution_count": 66,
   "metadata": {
    "slideshow": {
     "slide_type": "-"
    }
   },
   "outputs": [
    {
     "data": {
      "text/plain": [
       "[283.56, 283.56]"
      ]
     },
     "execution_count": 66,
     "metadata": {},
     "output_type": "execute_result"
    }
   ],
   "source": [
    "cc_di.phi_c_alphas"
   ]
  },
  {
   "cell_type": "code",
   "execution_count": 120,
   "metadata": {
    "collapsed": true,
    "slideshow": {
     "slide_type": "subslide"
    }
   },
   "outputs": [],
   "source": [
    "cc_hex = CoiledCoil.from_parameters(6, 28, 9.2, 220, 18)"
   ]
  },
  {
   "cell_type": "code",
   "execution_count": 207,
   "metadata": {
    "slideshow": {
     "slide_type": "fragment"
    }
   },
   "outputs": [
    {
     "data": {
      "application/vnd.jupyter.widget-view+json": {
       "model_id": "d54dc8b098e740a29e876cb4f58ee8b3",
       "version_major": 2,
       "version_minor": 0
      },
      "text/plain": [
       "A Jupyter Widget"
      ]
     },
     "metadata": {},
     "output_type": "display_data"
    }
   ],
   "source": [
    "show_cartoon_and_bs(cc_hex.pdb)"
   ]
  },
  {
   "cell_type": "markdown",
   "metadata": {
    "slideshow": {
     "slide_type": "subslide"
    }
   },
   "source": [
    "# Specifications Describe Shapes Not Folds"
   ]
  },
  {
   "cell_type": "code",
   "execution_count": 69,
   "metadata": {
    "collapsed": true,
    "slideshow": {
     "slide_type": "-"
    }
   },
   "outputs": [],
   "source": [
    "collagen = CoiledCoil.tropocollagen(28, 3.3, 59)"
   ]
  },
  {
   "cell_type": "code",
   "execution_count": 208,
   "metadata": {
    "slideshow": {
     "slide_type": "fragment"
    }
   },
   "outputs": [
    {
     "data": {
      "application/vnd.jupyter.widget-view+json": {
       "model_id": "258ac4c45b084e3593456580e1a8539d",
       "version_major": 2,
       "version_minor": 0
      },
      "text/plain": [
       "A Jupyter Widget"
      ]
     },
     "metadata": {},
     "output_type": "display_data"
    }
   ],
   "source": [
    "show_cartoon_and_bs(collagen.pdb)"
   ]
  },
  {
   "cell_type": "markdown",
   "metadata": {
    "slideshow": {
     "slide_type": "subslide"
    }
   },
   "source": [
    "These folds are related!"
   ]
  },
  {
   "cell_type": "markdown",
   "metadata": {
    "slideshow": {
     "slide_type": "subslide"
    }
   },
   "source": [
    "Backbone and fold being described separately allows reuse of parameterisations."
   ]
  },
  {
   "cell_type": "markdown",
   "metadata": {
    "slideshow": {
     "slide_type": "fragment"
    }
   },
   "source": [
    "<div align=center><img src=\"imgs/parametric_models.png\"/></div>"
   ]
  },
  {
   "cell_type": "markdown",
   "metadata": {
    "slideshow": {
     "slide_type": "slide"
    }
   },
   "source": [
    "# With great power comes great responsibility."
   ]
  },
  {
   "cell_type": "markdown",
   "metadata": {
    "slideshow": {
     "slide_type": "fragment"
    }
   },
   "source": [
    "* You are only restricted by the geometric model"
   ]
  },
  {
   "cell_type": "code",
   "execution_count": 71,
   "metadata": {
    "collapsed": true,
    "slideshow": {
     "slide_type": "subslide"
    }
   },
   "outputs": [],
   "source": [
    "crazy_dimer = CoiledCoil.from_parameters(2, 28, 2, 180, 20)\n",
    "crazy_dimer.pack_new_sequences(['EIAALKQEIAALKKENAALKWEIAALKQ']*2)"
   ]
  },
  {
   "cell_type": "code",
   "execution_count": 209,
   "metadata": {
    "slideshow": {
     "slide_type": "fragment"
    }
   },
   "outputs": [
    {
     "data": {
      "application/vnd.jupyter.widget-view+json": {
       "model_id": "5ba30c956aab44209eb78ab528327ad9",
       "version_major": 2,
       "version_minor": 0
      },
      "text/plain": [
       "A Jupyter Widget"
      ]
     },
     "metadata": {},
     "output_type": "display_data"
    }
   ],
   "source": [
    "show_cartoon_and_bs(crazy_dimer.pdb)"
   ]
  },
  {
   "cell_type": "markdown",
   "metadata": {
    "slideshow": {
     "slide_type": "subslide"
    }
   },
   "source": [
    "Need methods to evaluate structure\n",
    "\n",
    "* Geometry of backbone\n",
    "* All-atom scoring functions"
   ]
  },
  {
   "cell_type": "markdown",
   "metadata": {
    "slideshow": {
     "slide_type": "slide"
    }
   },
   "source": [
    "# BUDE Force Field\n",
    "\n",
    "* Developed in UoB by the Sessions group\n",
    "* All atom force field\n",
    "* Pairwise decomposable\n",
    "* Fast\n",
    "* Soft (good for parametric design)\n",
    "\n",
    "[McIntosh-Smith,S. *et al* (2011) Comput. J., 55, 192-205.](https://www.ncbi.nlm.nih.gov/pmc/articles/PMC4425459/)"
   ]
  },
  {
   "cell_type": "code",
   "execution_count": 216,
   "metadata": {
    "slideshow": {
     "slide_type": "subslide"
    }
   },
   "outputs": [
    {
     "data": {
      "text/plain": [
       "<BUFF Score -95.02: 9.22 St | -97.36 De | -6.89 Ch>"
      ]
     },
     "execution_count": 216,
     "metadata": {},
     "output_type": "execute_result"
    }
   ],
   "source": [
    "ccdi_bie = cc_di.buff_interaction_energy\n",
    "ccdi_bie"
   ]
  },
  {
   "cell_type": "code",
   "execution_count": 74,
   "metadata": {
    "slideshow": {
     "slide_type": "fragment"
    }
   },
   "outputs": [
    {
     "data": {
      "text/plain": [
       "<BUFF Score 2720.31: 3080.31 St | -290.06 De | -69.93 Ch>"
      ]
     },
     "execution_count": 74,
     "metadata": {},
     "output_type": "execute_result"
    }
   ],
   "source": [
    "crazy_bie = crazy_dimer.buff_interaction_energy\n",
    "crazy_bie"
   ]
  },
  {
   "cell_type": "markdown",
   "metadata": {
    "slideshow": {
     "slide_type": "subslide"
    }
   },
   "source": [
    "# Use all the scoring functions!\n",
    "\n",
    "* Don't trust BUDE or any other scoring function\n",
    "* Meta scoring"
   ]
  },
  {
   "cell_type": "markdown",
   "metadata": {
    "slideshow": {
     "slide_type": "slide"
    }
   },
   "source": [
    "# But I don't know the parameters!"
   ]
  },
  {
   "cell_type": "code",
   "execution_count": 75,
   "metadata": {
    "collapsed": true,
    "slideshow": {
     "slide_type": "subslide"
    }
   },
   "outputs": [],
   "source": [
    "import numpy\n",
    "import matplotlib.pyplot as plt\n",
    "\n",
    "%matplotlib notebook"
   ]
  },
  {
   "cell_type": "code",
   "execution_count": 76,
   "metadata": {
    "collapsed": true,
    "slideshow": {
     "slide_type": "fragment"
    }
   },
   "outputs": [],
   "source": [
    "radii = numpy.arange(2.0, 8.2, 0.2)\n",
    "scores = []\n",
    "for radius in radii:\n",
    "    dimer = CoiledCoil.from_parameters(2, 28, radius, 180, 20)\n",
    "    dimer.pack_new_sequences(['EIAALKQEIAALKKENAALKWEIAALKQ']*2)\n",
    "    scores.append(dimer.buff_interaction_energy.total_energy)"
   ]
  },
  {
   "cell_type": "code",
   "execution_count": 77,
   "metadata": {
    "slideshow": {
     "slide_type": "subslide"
    }
   },
   "outputs": [
    {
     "data": {
      "application/javascript": [
       "/* Put everything inside the global mpl namespace */\n",
       "window.mpl = {};\n",
       "\n",
       "\n",
       "mpl.get_websocket_type = function() {\n",
       "    if (typeof(WebSocket) !== 'undefined') {\n",
       "        return WebSocket;\n",
       "    } else if (typeof(MozWebSocket) !== 'undefined') {\n",
       "        return MozWebSocket;\n",
       "    } else {\n",
       "        alert('Your browser does not have WebSocket support.' +\n",
       "              'Please try Chrome, Safari or Firefox ≥ 6. ' +\n",
       "              'Firefox 4 and 5 are also supported but you ' +\n",
       "              'have to enable WebSockets in about:config.');\n",
       "    };\n",
       "}\n",
       "\n",
       "mpl.figure = function(figure_id, websocket, ondownload, parent_element) {\n",
       "    this.id = figure_id;\n",
       "\n",
       "    this.ws = websocket;\n",
       "\n",
       "    this.supports_binary = (this.ws.binaryType != undefined);\n",
       "\n",
       "    if (!this.supports_binary) {\n",
       "        var warnings = document.getElementById(\"mpl-warnings\");\n",
       "        if (warnings) {\n",
       "            warnings.style.display = 'block';\n",
       "            warnings.textContent = (\n",
       "                \"This browser does not support binary websocket messages. \" +\n",
       "                    \"Performance may be slow.\");\n",
       "        }\n",
       "    }\n",
       "\n",
       "    this.imageObj = new Image();\n",
       "\n",
       "    this.context = undefined;\n",
       "    this.message = undefined;\n",
       "    this.canvas = undefined;\n",
       "    this.rubberband_canvas = undefined;\n",
       "    this.rubberband_context = undefined;\n",
       "    this.format_dropdown = undefined;\n",
       "\n",
       "    this.image_mode = 'full';\n",
       "\n",
       "    this.root = $('<div/>');\n",
       "    this._root_extra_style(this.root)\n",
       "    this.root.attr('style', 'display: inline-block');\n",
       "\n",
       "    $(parent_element).append(this.root);\n",
       "\n",
       "    this._init_header(this);\n",
       "    this._init_canvas(this);\n",
       "    this._init_toolbar(this);\n",
       "\n",
       "    var fig = this;\n",
       "\n",
       "    this.waiting = false;\n",
       "\n",
       "    this.ws.onopen =  function () {\n",
       "            fig.send_message(\"supports_binary\", {value: fig.supports_binary});\n",
       "            fig.send_message(\"send_image_mode\", {});\n",
       "            if (mpl.ratio != 1) {\n",
       "                fig.send_message(\"set_dpi_ratio\", {'dpi_ratio': mpl.ratio});\n",
       "            }\n",
       "            fig.send_message(\"refresh\", {});\n",
       "        }\n",
       "\n",
       "    this.imageObj.onload = function() {\n",
       "            if (fig.image_mode == 'full') {\n",
       "                // Full images could contain transparency (where diff images\n",
       "                // almost always do), so we need to clear the canvas so that\n",
       "                // there is no ghosting.\n",
       "                fig.context.clearRect(0, 0, fig.canvas.width, fig.canvas.height);\n",
       "            }\n",
       "            fig.context.drawImage(fig.imageObj, 0, 0);\n",
       "        };\n",
       "\n",
       "    this.imageObj.onunload = function() {\n",
       "        fig.ws.close();\n",
       "    }\n",
       "\n",
       "    this.ws.onmessage = this._make_on_message_function(this);\n",
       "\n",
       "    this.ondownload = ondownload;\n",
       "}\n",
       "\n",
       "mpl.figure.prototype._init_header = function() {\n",
       "    var titlebar = $(\n",
       "        '<div class=\"ui-dialog-titlebar ui-widget-header ui-corner-all ' +\n",
       "        'ui-helper-clearfix\"/>');\n",
       "    var titletext = $(\n",
       "        '<div class=\"ui-dialog-title\" style=\"width: 100%; ' +\n",
       "        'text-align: center; padding: 3px;\"/>');\n",
       "    titlebar.append(titletext)\n",
       "    this.root.append(titlebar);\n",
       "    this.header = titletext[0];\n",
       "}\n",
       "\n",
       "\n",
       "\n",
       "mpl.figure.prototype._canvas_extra_style = function(canvas_div) {\n",
       "\n",
       "}\n",
       "\n",
       "\n",
       "mpl.figure.prototype._root_extra_style = function(canvas_div) {\n",
       "\n",
       "}\n",
       "\n",
       "mpl.figure.prototype._init_canvas = function() {\n",
       "    var fig = this;\n",
       "\n",
       "    var canvas_div = $('<div/>');\n",
       "\n",
       "    canvas_div.attr('style', 'position: relative; clear: both; outline: 0');\n",
       "\n",
       "    function canvas_keyboard_event(event) {\n",
       "        return fig.key_event(event, event['data']);\n",
       "    }\n",
       "\n",
       "    canvas_div.keydown('key_press', canvas_keyboard_event);\n",
       "    canvas_div.keyup('key_release', canvas_keyboard_event);\n",
       "    this.canvas_div = canvas_div\n",
       "    this._canvas_extra_style(canvas_div)\n",
       "    this.root.append(canvas_div);\n",
       "\n",
       "    var canvas = $('<canvas/>');\n",
       "    canvas.addClass('mpl-canvas');\n",
       "    canvas.attr('style', \"left: 0; top: 0; z-index: 0; outline: 0\")\n",
       "\n",
       "    this.canvas = canvas[0];\n",
       "    this.context = canvas[0].getContext(\"2d\");\n",
       "\n",
       "    var backingStore = this.context.backingStorePixelRatio ||\n",
       "\tthis.context.webkitBackingStorePixelRatio ||\n",
       "\tthis.context.mozBackingStorePixelRatio ||\n",
       "\tthis.context.msBackingStorePixelRatio ||\n",
       "\tthis.context.oBackingStorePixelRatio ||\n",
       "\tthis.context.backingStorePixelRatio || 1;\n",
       "\n",
       "    mpl.ratio = (window.devicePixelRatio || 1) / backingStore;\n",
       "\n",
       "    var rubberband = $('<canvas/>');\n",
       "    rubberband.attr('style', \"position: absolute; left: 0; top: 0; z-index: 1;\")\n",
       "\n",
       "    var pass_mouse_events = true;\n",
       "\n",
       "    canvas_div.resizable({\n",
       "        start: function(event, ui) {\n",
       "            pass_mouse_events = false;\n",
       "        },\n",
       "        resize: function(event, ui) {\n",
       "            fig.request_resize(ui.size.width, ui.size.height);\n",
       "        },\n",
       "        stop: function(event, ui) {\n",
       "            pass_mouse_events = true;\n",
       "            fig.request_resize(ui.size.width, ui.size.height);\n",
       "        },\n",
       "    });\n",
       "\n",
       "    function mouse_event_fn(event) {\n",
       "        if (pass_mouse_events)\n",
       "            return fig.mouse_event(event, event['data']);\n",
       "    }\n",
       "\n",
       "    rubberband.mousedown('button_press', mouse_event_fn);\n",
       "    rubberband.mouseup('button_release', mouse_event_fn);\n",
       "    // Throttle sequential mouse events to 1 every 20ms.\n",
       "    rubberband.mousemove('motion_notify', mouse_event_fn);\n",
       "\n",
       "    rubberband.mouseenter('figure_enter', mouse_event_fn);\n",
       "    rubberband.mouseleave('figure_leave', mouse_event_fn);\n",
       "\n",
       "    canvas_div.on(\"wheel\", function (event) {\n",
       "        event = event.originalEvent;\n",
       "        event['data'] = 'scroll'\n",
       "        if (event.deltaY < 0) {\n",
       "            event.step = 1;\n",
       "        } else {\n",
       "            event.step = -1;\n",
       "        }\n",
       "        mouse_event_fn(event);\n",
       "    });\n",
       "\n",
       "    canvas_div.append(canvas);\n",
       "    canvas_div.append(rubberband);\n",
       "\n",
       "    this.rubberband = rubberband;\n",
       "    this.rubberband_canvas = rubberband[0];\n",
       "    this.rubberband_context = rubberband[0].getContext(\"2d\");\n",
       "    this.rubberband_context.strokeStyle = \"#000000\";\n",
       "\n",
       "    this._resize_canvas = function(width, height) {\n",
       "        // Keep the size of the canvas, canvas container, and rubber band\n",
       "        // canvas in synch.\n",
       "        canvas_div.css('width', width)\n",
       "        canvas_div.css('height', height)\n",
       "\n",
       "        canvas.attr('width', width * mpl.ratio);\n",
       "        canvas.attr('height', height * mpl.ratio);\n",
       "        canvas.attr('style', 'width: ' + width + 'px; height: ' + height + 'px;');\n",
       "\n",
       "        rubberband.attr('width', width);\n",
       "        rubberband.attr('height', height);\n",
       "    }\n",
       "\n",
       "    // Set the figure to an initial 600x600px, this will subsequently be updated\n",
       "    // upon first draw.\n",
       "    this._resize_canvas(600, 600);\n",
       "\n",
       "    // Disable right mouse context menu.\n",
       "    $(this.rubberband_canvas).bind(\"contextmenu\",function(e){\n",
       "        return false;\n",
       "    });\n",
       "\n",
       "    function set_focus () {\n",
       "        canvas.focus();\n",
       "        canvas_div.focus();\n",
       "    }\n",
       "\n",
       "    window.setTimeout(set_focus, 100);\n",
       "}\n",
       "\n",
       "mpl.figure.prototype._init_toolbar = function() {\n",
       "    var fig = this;\n",
       "\n",
       "    var nav_element = $('<div/>')\n",
       "    nav_element.attr('style', 'width: 100%');\n",
       "    this.root.append(nav_element);\n",
       "\n",
       "    // Define a callback function for later on.\n",
       "    function toolbar_event(event) {\n",
       "        return fig.toolbar_button_onclick(event['data']);\n",
       "    }\n",
       "    function toolbar_mouse_event(event) {\n",
       "        return fig.toolbar_button_onmouseover(event['data']);\n",
       "    }\n",
       "\n",
       "    for(var toolbar_ind in mpl.toolbar_items) {\n",
       "        var name = mpl.toolbar_items[toolbar_ind][0];\n",
       "        var tooltip = mpl.toolbar_items[toolbar_ind][1];\n",
       "        var image = mpl.toolbar_items[toolbar_ind][2];\n",
       "        var method_name = mpl.toolbar_items[toolbar_ind][3];\n",
       "\n",
       "        if (!name) {\n",
       "            // put a spacer in here.\n",
       "            continue;\n",
       "        }\n",
       "        var button = $('<button/>');\n",
       "        button.addClass('ui-button ui-widget ui-state-default ui-corner-all ' +\n",
       "                        'ui-button-icon-only');\n",
       "        button.attr('role', 'button');\n",
       "        button.attr('aria-disabled', 'false');\n",
       "        button.click(method_name, toolbar_event);\n",
       "        button.mouseover(tooltip, toolbar_mouse_event);\n",
       "\n",
       "        var icon_img = $('<span/>');\n",
       "        icon_img.addClass('ui-button-icon-primary ui-icon');\n",
       "        icon_img.addClass(image);\n",
       "        icon_img.addClass('ui-corner-all');\n",
       "\n",
       "        var tooltip_span = $('<span/>');\n",
       "        tooltip_span.addClass('ui-button-text');\n",
       "        tooltip_span.html(tooltip);\n",
       "\n",
       "        button.append(icon_img);\n",
       "        button.append(tooltip_span);\n",
       "\n",
       "        nav_element.append(button);\n",
       "    }\n",
       "\n",
       "    var fmt_picker_span = $('<span/>');\n",
       "\n",
       "    var fmt_picker = $('<select/>');\n",
       "    fmt_picker.addClass('mpl-toolbar-option ui-widget ui-widget-content');\n",
       "    fmt_picker_span.append(fmt_picker);\n",
       "    nav_element.append(fmt_picker_span);\n",
       "    this.format_dropdown = fmt_picker[0];\n",
       "\n",
       "    for (var ind in mpl.extensions) {\n",
       "        var fmt = mpl.extensions[ind];\n",
       "        var option = $(\n",
       "            '<option/>', {selected: fmt === mpl.default_extension}).html(fmt);\n",
       "        fmt_picker.append(option)\n",
       "    }\n",
       "\n",
       "    // Add hover states to the ui-buttons\n",
       "    $( \".ui-button\" ).hover(\n",
       "        function() { $(this).addClass(\"ui-state-hover\");},\n",
       "        function() { $(this).removeClass(\"ui-state-hover\");}\n",
       "    );\n",
       "\n",
       "    var status_bar = $('<span class=\"mpl-message\"/>');\n",
       "    nav_element.append(status_bar);\n",
       "    this.message = status_bar[0];\n",
       "}\n",
       "\n",
       "mpl.figure.prototype.request_resize = function(x_pixels, y_pixels) {\n",
       "    // Request matplotlib to resize the figure. Matplotlib will then trigger a resize in the client,\n",
       "    // which will in turn request a refresh of the image.\n",
       "    this.send_message('resize', {'width': x_pixels, 'height': y_pixels});\n",
       "}\n",
       "\n",
       "mpl.figure.prototype.send_message = function(type, properties) {\n",
       "    properties['type'] = type;\n",
       "    properties['figure_id'] = this.id;\n",
       "    this.ws.send(JSON.stringify(properties));\n",
       "}\n",
       "\n",
       "mpl.figure.prototype.send_draw_message = function() {\n",
       "    if (!this.waiting) {\n",
       "        this.waiting = true;\n",
       "        this.ws.send(JSON.stringify({type: \"draw\", figure_id: this.id}));\n",
       "    }\n",
       "}\n",
       "\n",
       "\n",
       "mpl.figure.prototype.handle_save = function(fig, msg) {\n",
       "    var format_dropdown = fig.format_dropdown;\n",
       "    var format = format_dropdown.options[format_dropdown.selectedIndex].value;\n",
       "    fig.ondownload(fig, format);\n",
       "}\n",
       "\n",
       "\n",
       "mpl.figure.prototype.handle_resize = function(fig, msg) {\n",
       "    var size = msg['size'];\n",
       "    if (size[0] != fig.canvas.width || size[1] != fig.canvas.height) {\n",
       "        fig._resize_canvas(size[0], size[1]);\n",
       "        fig.send_message(\"refresh\", {});\n",
       "    };\n",
       "}\n",
       "\n",
       "mpl.figure.prototype.handle_rubberband = function(fig, msg) {\n",
       "    var x0 = msg['x0'] / mpl.ratio;\n",
       "    var y0 = (fig.canvas.height - msg['y0']) / mpl.ratio;\n",
       "    var x1 = msg['x1'] / mpl.ratio;\n",
       "    var y1 = (fig.canvas.height - msg['y1']) / mpl.ratio;\n",
       "    x0 = Math.floor(x0) + 0.5;\n",
       "    y0 = Math.floor(y0) + 0.5;\n",
       "    x1 = Math.floor(x1) + 0.5;\n",
       "    y1 = Math.floor(y1) + 0.5;\n",
       "    var min_x = Math.min(x0, x1);\n",
       "    var min_y = Math.min(y0, y1);\n",
       "    var width = Math.abs(x1 - x0);\n",
       "    var height = Math.abs(y1 - y0);\n",
       "\n",
       "    fig.rubberband_context.clearRect(\n",
       "        0, 0, fig.canvas.width, fig.canvas.height);\n",
       "\n",
       "    fig.rubberband_context.strokeRect(min_x, min_y, width, height);\n",
       "}\n",
       "\n",
       "mpl.figure.prototype.handle_figure_label = function(fig, msg) {\n",
       "    // Updates the figure title.\n",
       "    fig.header.textContent = msg['label'];\n",
       "}\n",
       "\n",
       "mpl.figure.prototype.handle_cursor = function(fig, msg) {\n",
       "    var cursor = msg['cursor'];\n",
       "    switch(cursor)\n",
       "    {\n",
       "    case 0:\n",
       "        cursor = 'pointer';\n",
       "        break;\n",
       "    case 1:\n",
       "        cursor = 'default';\n",
       "        break;\n",
       "    case 2:\n",
       "        cursor = 'crosshair';\n",
       "        break;\n",
       "    case 3:\n",
       "        cursor = 'move';\n",
       "        break;\n",
       "    }\n",
       "    fig.rubberband_canvas.style.cursor = cursor;\n",
       "}\n",
       "\n",
       "mpl.figure.prototype.handle_message = function(fig, msg) {\n",
       "    fig.message.textContent = msg['message'];\n",
       "}\n",
       "\n",
       "mpl.figure.prototype.handle_draw = function(fig, msg) {\n",
       "    // Request the server to send over a new figure.\n",
       "    fig.send_draw_message();\n",
       "}\n",
       "\n",
       "mpl.figure.prototype.handle_image_mode = function(fig, msg) {\n",
       "    fig.image_mode = msg['mode'];\n",
       "}\n",
       "\n",
       "mpl.figure.prototype.updated_canvas_event = function() {\n",
       "    // Called whenever the canvas gets updated.\n",
       "    this.send_message(\"ack\", {});\n",
       "}\n",
       "\n",
       "// A function to construct a web socket function for onmessage handling.\n",
       "// Called in the figure constructor.\n",
       "mpl.figure.prototype._make_on_message_function = function(fig) {\n",
       "    return function socket_on_message(evt) {\n",
       "        if (evt.data instanceof Blob) {\n",
       "            /* FIXME: We get \"Resource interpreted as Image but\n",
       "             * transferred with MIME type text/plain:\" errors on\n",
       "             * Chrome.  But how to set the MIME type?  It doesn't seem\n",
       "             * to be part of the websocket stream */\n",
       "            evt.data.type = \"image/png\";\n",
       "\n",
       "            /* Free the memory for the previous frames */\n",
       "            if (fig.imageObj.src) {\n",
       "                (window.URL || window.webkitURL).revokeObjectURL(\n",
       "                    fig.imageObj.src);\n",
       "            }\n",
       "\n",
       "            fig.imageObj.src = (window.URL || window.webkitURL).createObjectURL(\n",
       "                evt.data);\n",
       "            fig.updated_canvas_event();\n",
       "            fig.waiting = false;\n",
       "            return;\n",
       "        }\n",
       "        else if (typeof evt.data === 'string' && evt.data.slice(0, 21) == \"data:image/png;base64\") {\n",
       "            fig.imageObj.src = evt.data;\n",
       "            fig.updated_canvas_event();\n",
       "            fig.waiting = false;\n",
       "            return;\n",
       "        }\n",
       "\n",
       "        var msg = JSON.parse(evt.data);\n",
       "        var msg_type = msg['type'];\n",
       "\n",
       "        // Call the  \"handle_{type}\" callback, which takes\n",
       "        // the figure and JSON message as its only arguments.\n",
       "        try {\n",
       "            var callback = fig[\"handle_\" + msg_type];\n",
       "        } catch (e) {\n",
       "            console.log(\"No handler for the '\" + msg_type + \"' message type: \", msg);\n",
       "            return;\n",
       "        }\n",
       "\n",
       "        if (callback) {\n",
       "            try {\n",
       "                // console.log(\"Handling '\" + msg_type + \"' message: \", msg);\n",
       "                callback(fig, msg);\n",
       "            } catch (e) {\n",
       "                console.log(\"Exception inside the 'handler_\" + msg_type + \"' callback:\", e, e.stack, msg);\n",
       "            }\n",
       "        }\n",
       "    };\n",
       "}\n",
       "\n",
       "// from http://stackoverflow.com/questions/1114465/getting-mouse-location-in-canvas\n",
       "mpl.findpos = function(e) {\n",
       "    //this section is from http://www.quirksmode.org/js/events_properties.html\n",
       "    var targ;\n",
       "    if (!e)\n",
       "        e = window.event;\n",
       "    if (e.target)\n",
       "        targ = e.target;\n",
       "    else if (e.srcElement)\n",
       "        targ = e.srcElement;\n",
       "    if (targ.nodeType == 3) // defeat Safari bug\n",
       "        targ = targ.parentNode;\n",
       "\n",
       "    // jQuery normalizes the pageX and pageY\n",
       "    // pageX,Y are the mouse positions relative to the document\n",
       "    // offset() returns the position of the element relative to the document\n",
       "    var x = e.pageX - $(targ).offset().left;\n",
       "    var y = e.pageY - $(targ).offset().top;\n",
       "\n",
       "    return {\"x\": x, \"y\": y};\n",
       "};\n",
       "\n",
       "/*\n",
       " * return a copy of an object with only non-object keys\n",
       " * we need this to avoid circular references\n",
       " * http://stackoverflow.com/a/24161582/3208463\n",
       " */\n",
       "function simpleKeys (original) {\n",
       "  return Object.keys(original).reduce(function (obj, key) {\n",
       "    if (typeof original[key] !== 'object')\n",
       "        obj[key] = original[key]\n",
       "    return obj;\n",
       "  }, {});\n",
       "}\n",
       "\n",
       "mpl.figure.prototype.mouse_event = function(event, name) {\n",
       "    var canvas_pos = mpl.findpos(event)\n",
       "\n",
       "    if (name === 'button_press')\n",
       "    {\n",
       "        this.canvas.focus();\n",
       "        this.canvas_div.focus();\n",
       "    }\n",
       "\n",
       "    var x = canvas_pos.x * mpl.ratio;\n",
       "    var y = canvas_pos.y * mpl.ratio;\n",
       "\n",
       "    this.send_message(name, {x: x, y: y, button: event.button,\n",
       "                             step: event.step,\n",
       "                             guiEvent: simpleKeys(event)});\n",
       "\n",
       "    /* This prevents the web browser from automatically changing to\n",
       "     * the text insertion cursor when the button is pressed.  We want\n",
       "     * to control all of the cursor setting manually through the\n",
       "     * 'cursor' event from matplotlib */\n",
       "    event.preventDefault();\n",
       "    return false;\n",
       "}\n",
       "\n",
       "mpl.figure.prototype._key_event_extra = function(event, name) {\n",
       "    // Handle any extra behaviour associated with a key event\n",
       "}\n",
       "\n",
       "mpl.figure.prototype.key_event = function(event, name) {\n",
       "\n",
       "    // Prevent repeat events\n",
       "    if (name == 'key_press')\n",
       "    {\n",
       "        if (event.which === this._key)\n",
       "            return;\n",
       "        else\n",
       "            this._key = event.which;\n",
       "    }\n",
       "    if (name == 'key_release')\n",
       "        this._key = null;\n",
       "\n",
       "    var value = '';\n",
       "    if (event.ctrlKey && event.which != 17)\n",
       "        value += \"ctrl+\";\n",
       "    if (event.altKey && event.which != 18)\n",
       "        value += \"alt+\";\n",
       "    if (event.shiftKey && event.which != 16)\n",
       "        value += \"shift+\";\n",
       "\n",
       "    value += 'k';\n",
       "    value += event.which.toString();\n",
       "\n",
       "    this._key_event_extra(event, name);\n",
       "\n",
       "    this.send_message(name, {key: value,\n",
       "                             guiEvent: simpleKeys(event)});\n",
       "    return false;\n",
       "}\n",
       "\n",
       "mpl.figure.prototype.toolbar_button_onclick = function(name) {\n",
       "    if (name == 'download') {\n",
       "        this.handle_save(this, null);\n",
       "    } else {\n",
       "        this.send_message(\"toolbar_button\", {name: name});\n",
       "    }\n",
       "};\n",
       "\n",
       "mpl.figure.prototype.toolbar_button_onmouseover = function(tooltip) {\n",
       "    this.message.textContent = tooltip;\n",
       "};\n",
       "mpl.toolbar_items = [[\"Home\", \"Reset original view\", \"fa fa-home icon-home\", \"home\"], [\"Back\", \"Back to  previous view\", \"fa fa-arrow-left icon-arrow-left\", \"back\"], [\"Forward\", \"Forward to next view\", \"fa fa-arrow-right icon-arrow-right\", \"forward\"], [\"\", \"\", \"\", \"\"], [\"Pan\", \"Pan axes with left mouse, zoom with right\", \"fa fa-arrows icon-move\", \"pan\"], [\"Zoom\", \"Zoom to rectangle\", \"fa fa-square-o icon-check-empty\", \"zoom\"], [\"\", \"\", \"\", \"\"], [\"Download\", \"Download plot\", \"fa fa-floppy-o icon-save\", \"download\"]];\n",
       "\n",
       "mpl.extensions = [\"eps\", \"jpeg\", \"pdf\", \"png\", \"ps\", \"raw\", \"svg\", \"tif\"];\n",
       "\n",
       "mpl.default_extension = \"png\";var comm_websocket_adapter = function(comm) {\n",
       "    // Create a \"websocket\"-like object which calls the given IPython comm\n",
       "    // object with the appropriate methods. Currently this is a non binary\n",
       "    // socket, so there is still some room for performance tuning.\n",
       "    var ws = {};\n",
       "\n",
       "    ws.close = function() {\n",
       "        comm.close()\n",
       "    };\n",
       "    ws.send = function(m) {\n",
       "        //console.log('sending', m);\n",
       "        comm.send(m);\n",
       "    };\n",
       "    // Register the callback with on_msg.\n",
       "    comm.on_msg(function(msg) {\n",
       "        //console.log('receiving', msg['content']['data'], msg);\n",
       "        // Pass the mpl event to the overriden (by mpl) onmessage function.\n",
       "        ws.onmessage(msg['content']['data'])\n",
       "    });\n",
       "    return ws;\n",
       "}\n",
       "\n",
       "mpl.mpl_figure_comm = function(comm, msg) {\n",
       "    // This is the function which gets called when the mpl process\n",
       "    // starts-up an IPython Comm through the \"matplotlib\" channel.\n",
       "\n",
       "    var id = msg.content.data.id;\n",
       "    // Get hold of the div created by the display call when the Comm\n",
       "    // socket was opened in Python.\n",
       "    var element = $(\"#\" + id);\n",
       "    var ws_proxy = comm_websocket_adapter(comm)\n",
       "\n",
       "    function ondownload(figure, format) {\n",
       "        window.open(figure.imageObj.src);\n",
       "    }\n",
       "\n",
       "    var fig = new mpl.figure(id, ws_proxy,\n",
       "                           ondownload,\n",
       "                           element.get(0));\n",
       "\n",
       "    // Call onopen now - mpl needs it, as it is assuming we've passed it a real\n",
       "    // web socket which is closed, not our websocket->open comm proxy.\n",
       "    ws_proxy.onopen();\n",
       "\n",
       "    fig.parent_element = element.get(0);\n",
       "    fig.cell_info = mpl.find_output_cell(\"<div id='\" + id + \"'></div>\");\n",
       "    if (!fig.cell_info) {\n",
       "        console.error(\"Failed to find cell for figure\", id, fig);\n",
       "        return;\n",
       "    }\n",
       "\n",
       "    var output_index = fig.cell_info[2]\n",
       "    var cell = fig.cell_info[0];\n",
       "\n",
       "};\n",
       "\n",
       "mpl.figure.prototype.handle_close = function(fig, msg) {\n",
       "    var width = fig.canvas.width/mpl.ratio\n",
       "    fig.root.unbind('remove')\n",
       "\n",
       "    // Update the output cell to use the data from the current canvas.\n",
       "    fig.push_to_output();\n",
       "    var dataURL = fig.canvas.toDataURL();\n",
       "    // Re-enable the keyboard manager in IPython - without this line, in FF,\n",
       "    // the notebook keyboard shortcuts fail.\n",
       "    IPython.keyboard_manager.enable()\n",
       "    $(fig.parent_element).html('<img src=\"' + dataURL + '\" width=\"' + width + '\">');\n",
       "    fig.close_ws(fig, msg);\n",
       "}\n",
       "\n",
       "mpl.figure.prototype.close_ws = function(fig, msg){\n",
       "    fig.send_message('closing', msg);\n",
       "    // fig.ws.close()\n",
       "}\n",
       "\n",
       "mpl.figure.prototype.push_to_output = function(remove_interactive) {\n",
       "    // Turn the data on the canvas into data in the output cell.\n",
       "    var width = this.canvas.width/mpl.ratio\n",
       "    var dataURL = this.canvas.toDataURL();\n",
       "    this.cell_info[1]['text/html'] = '<img src=\"' + dataURL + '\" width=\"' + width + '\">';\n",
       "}\n",
       "\n",
       "mpl.figure.prototype.updated_canvas_event = function() {\n",
       "    // Tell IPython that the notebook contents must change.\n",
       "    IPython.notebook.set_dirty(true);\n",
       "    this.send_message(\"ack\", {});\n",
       "    var fig = this;\n",
       "    // Wait a second, then push the new image to the DOM so\n",
       "    // that it is saved nicely (might be nice to debounce this).\n",
       "    setTimeout(function () { fig.push_to_output() }, 1000);\n",
       "}\n",
       "\n",
       "mpl.figure.prototype._init_toolbar = function() {\n",
       "    var fig = this;\n",
       "\n",
       "    var nav_element = $('<div/>')\n",
       "    nav_element.attr('style', 'width: 100%');\n",
       "    this.root.append(nav_element);\n",
       "\n",
       "    // Define a callback function for later on.\n",
       "    function toolbar_event(event) {\n",
       "        return fig.toolbar_button_onclick(event['data']);\n",
       "    }\n",
       "    function toolbar_mouse_event(event) {\n",
       "        return fig.toolbar_button_onmouseover(event['data']);\n",
       "    }\n",
       "\n",
       "    for(var toolbar_ind in mpl.toolbar_items){\n",
       "        var name = mpl.toolbar_items[toolbar_ind][0];\n",
       "        var tooltip = mpl.toolbar_items[toolbar_ind][1];\n",
       "        var image = mpl.toolbar_items[toolbar_ind][2];\n",
       "        var method_name = mpl.toolbar_items[toolbar_ind][3];\n",
       "\n",
       "        if (!name) { continue; };\n",
       "\n",
       "        var button = $('<button class=\"btn btn-default\" href=\"#\" title=\"' + name + '\"><i class=\"fa ' + image + ' fa-lg\"></i></button>');\n",
       "        button.click(method_name, toolbar_event);\n",
       "        button.mouseover(tooltip, toolbar_mouse_event);\n",
       "        nav_element.append(button);\n",
       "    }\n",
       "\n",
       "    // Add the status bar.\n",
       "    var status_bar = $('<span class=\"mpl-message\" style=\"text-align:right; float: right;\"/>');\n",
       "    nav_element.append(status_bar);\n",
       "    this.message = status_bar[0];\n",
       "\n",
       "    // Add the close button to the window.\n",
       "    var buttongrp = $('<div class=\"btn-group inline pull-right\"></div>');\n",
       "    var button = $('<button class=\"btn btn-mini btn-primary\" href=\"#\" title=\"Stop Interaction\"><i class=\"fa fa-power-off icon-remove icon-large\"></i></button>');\n",
       "    button.click(function (evt) { fig.handle_close(fig, {}); } );\n",
       "    button.mouseover('Stop Interaction', toolbar_mouse_event);\n",
       "    buttongrp.append(button);\n",
       "    var titlebar = this.root.find($('.ui-dialog-titlebar'));\n",
       "    titlebar.prepend(buttongrp);\n",
       "}\n",
       "\n",
       "mpl.figure.prototype._root_extra_style = function(el){\n",
       "    var fig = this\n",
       "    el.on(\"remove\", function(){\n",
       "\tfig.close_ws(fig, {});\n",
       "    });\n",
       "}\n",
       "\n",
       "mpl.figure.prototype._canvas_extra_style = function(el){\n",
       "    // this is important to make the div 'focusable\n",
       "    el.attr('tabindex', 0)\n",
       "    // reach out to IPython and tell the keyboard manager to turn it's self\n",
       "    // off when our div gets focus\n",
       "\n",
       "    // location in version 3\n",
       "    if (IPython.notebook.keyboard_manager) {\n",
       "        IPython.notebook.keyboard_manager.register_events(el);\n",
       "    }\n",
       "    else {\n",
       "        // location in version 2\n",
       "        IPython.keyboard_manager.register_events(el);\n",
       "    }\n",
       "\n",
       "}\n",
       "\n",
       "mpl.figure.prototype._key_event_extra = function(event, name) {\n",
       "    var manager = IPython.notebook.keyboard_manager;\n",
       "    if (!manager)\n",
       "        manager = IPython.keyboard_manager;\n",
       "\n",
       "    // Check for shift+enter\n",
       "    if (event.shiftKey && event.which == 13) {\n",
       "        this.canvas_div.blur();\n",
       "        event.shiftKey = false;\n",
       "        // Send a \"J\" for go to next cell\n",
       "        event.which = 74;\n",
       "        event.keyCode = 74;\n",
       "        manager.command_mode();\n",
       "        manager.handle_keydown(event);\n",
       "    }\n",
       "}\n",
       "\n",
       "mpl.figure.prototype.handle_save = function(fig, msg) {\n",
       "    fig.ondownload(fig, null);\n",
       "}\n",
       "\n",
       "\n",
       "mpl.find_output_cell = function(html_output) {\n",
       "    // Return the cell and output element which can be found *uniquely* in the notebook.\n",
       "    // Note - this is a bit hacky, but it is done because the \"notebook_saving.Notebook\"\n",
       "    // IPython event is triggered only after the cells have been serialised, which for\n",
       "    // our purposes (turning an active figure into a static one), is too late.\n",
       "    var cells = IPython.notebook.get_cells();\n",
       "    var ncells = cells.length;\n",
       "    for (var i=0; i<ncells; i++) {\n",
       "        var cell = cells[i];\n",
       "        if (cell.cell_type === 'code'){\n",
       "            for (var j=0; j<cell.output_area.outputs.length; j++) {\n",
       "                var data = cell.output_area.outputs[j];\n",
       "                if (data.data) {\n",
       "                    // IPython >= 3 moved mimebundle to data attribute of output\n",
       "                    data = data.data;\n",
       "                }\n",
       "                if (data['text/html'] == html_output) {\n",
       "                    return [cell, data, j];\n",
       "                }\n",
       "            }\n",
       "        }\n",
       "    }\n",
       "}\n",
       "\n",
       "// Register the function which deals with the matplotlib target/channel.\n",
       "// The kernel may be null if the page has been refreshed.\n",
       "if (IPython.notebook.kernel != null) {\n",
       "    IPython.notebook.kernel.comm_manager.register_target('matplotlib', mpl.mpl_figure_comm);\n",
       "}\n"
      ],
      "text/plain": [
       "<IPython.core.display.Javascript object>"
      ]
     },
     "metadata": {},
     "output_type": "display_data"
    },
    {
     "data": {
      "text/html": [
       "<img src=\"data:image/png;base64,iVBORw0KGgoAAAANSUhEUgAAAoAAAAHgCAYAAAA10dzkAAAgAElEQVR4XuydBXQV1xaGfyAE1+Luxd3ditTbV3enLtRLW6hQd3cX6t5Ci7s7FHf3EFySt87l0pfmBXKTc5N7ZuabtVgpyZy5e397T/h6ZuZMDrFBAAIQgAAEIAABCASKQI5AZUuyEIAABCAAAQhAAAJCAGkCCEAAAhCAAAQgEDACCGDACk66EIAABCAAAQhAAAGkByAAAQhAAAIQgEDACCCAASs46UIAAhCAAAQgAAEEkB6AAAQgAAEIQAACASOAAAas4KQLAQhAAAIQgAAEEEB6AAIQgAAEIAABCASMAAIYsIKTLgQgAAEIQAACEEAA6QEIQAACEIAABCAQMAIIYMAKTroQgAAEIAABCEAAAaQHIAABCEAAAhCAQMAIIIABKzjpQgACEIAABCAAAQSQHoAABCAAAQhAAAIBI4AABqzgpAsBCEAAAhCAAAQQQHoAAhCAAAQgAAEIBIwAAhiwgpMuBCAAAQhAAAIQQADpAQhAAAIQgAAEIBAwAghgwApOuhCAAAQgAAEIQAABpAcgAAEIQAACEIBAwAgggAErOOlCAAIQgAAEIAABBJAegAAEIAABCEAAAgEjgAAGrOCkCwEIQAACEIAABBBAegACEIAABCAAAQgEjAACGLCCky4EIAABCEAAAhBAAOkBCEAAAhCAAAQgEDACCGDACk66EIAABCAAAQhAAAGkByAAAQhAAAIQgEDACCCAASs46UIAAhCAAAQgAAEEkB6AAAQgAAEIQAACASOAAAas4KQLAQhAAAIQgAAEEEB6AAIQgAAEIAABCASMAAIYsIKTLgQgAAEIQAACEEAA6QEIQAACEIAABCAQMAIIYMAKTroQgAAEIAABCEAAAaQHIAABCEAAAhCAQMAIIIABKzjpQgACEIAABCAAAQSQHoAABCAAAQhAAAIBI4AABqzgpAsBCEAAAhCAAAQQQHoAAhCAAAQgAAEIBIwAAhiwgpMuBCAAAQhAAAIQQADpAQhAAAIQgAAEIBAwAghgwApOuhCAAAQgAAEIQAABpAcgAAEIQAACEIBAwAgggAErOOlCAAIQgAAEIAABBJAegAAEIAABCEAAAgEjgAAGrOCkCwEIQAACEIAABBBAegACEIAABCAAAQgEjAACGLCCky4EIAABCEAAAhBAAOkBCEAAAhCAAAQgEDACCGDACk66EIAABCAAAQhAAAGkByAAAQhAAAIQgEDACHhVADtKultSM0llJZ0l6ccUtTN59Zd0naRikiZJuknSvBT7mO+/Iun08Pd+lnSLpB0B6wHShQAEIAABCEAgYAS8KoC9JbWTNF3Sd2kI4L2S+km6QtIiSQ9KMtJ4oqTEcI3/kFQhLInmW+9IWiHptID1AOlCAAIQgAAEIBAwAl4VwJRlSk4lgCandZJekvR0eMc8kjZKMmL4tqQ6kuZLah2eHTS7mf+eIKm2pIUB6wPShQAEIAABCEAgQAT8KIDVJC2V1FTSjBS1/Cl8efdySVdJekFS0VS1Npd/75D0YYB6gFQhAAEIQAACEAgYAT8KYFtJ4ySVD88EHi2pucRbWVJPSQ+ELw/XSlVvc7nYyN+Tx+gDM5No/qTcikvaFrC+IV0IQAACEICA1wkUCnuCuZIYuM3PAlhO0voUFX1XUkVJvcICaGYCzT2BKbfFkt6X9NQxOmFA+OGSwDUKCUMAAhCAAAR8SMA8C7DWh3mlm5IfBTArLwGnngE0//ewZvXq1SpcuHC6sNnBfQI9Xxqltdv36bNrWqpxRfOgOJstgT0HDqnlwGGhw0zu10354+NsD8l4CEAAAlYEdu7cqYoVzZyQikjaaXUwjw72owAefQjkRUnPhOsSL2lTGg+BtDL/JoX3Mf89MYMPgRjrS0hISEAAPXoCpA6798tj9Pf6nfrkqpbqWKukT7KKbRpGAOs+PCQUxPxHeyKAsS0Hnw4BCBjj27lTRYoY90MAvdYQBSXVCAdtHvToK2lE+F68VWHRu1/SlZLMZV1zz1/nNJaBMZeJ+4SPY+4RXJnBZWAQQK91TjrxnvfWBE1esU1vXNxUJzcwS0yy2RJAAG0JMh4CEIg2AQRQ8uoMoJE5I3ypt4/DD3ccXQjayF3KhaDnphhgHt5IvRD0zRlcCBoBjPZZGePjXfXRFA1fsEnP/KehzmsRujzAZkkAAbQEyHAIQCDqBBBA7wpg1JshkwdEADMJztVht3w5Q7/MWqeHTq2rq9tXdTVMT8WFAHqqXAQLgUAQQAARQNtGRwBtCTo2/v7v5+jLyavU96RaurVbTcei82Y4CKA360bUEPAzAQQQAbTtbwTQlqBj45/4/W+9M3qZrutYTQ+cbF4Yw2ZLAAG0Jch4CEAg2gQQQATQtqcQQFuCjo1/ZdhivfDXIl3YspKePLuBY9F5MxwE0Jt1I2oI+JkAAogA2vY3AmhL0LHxH4xdrkd/na/TGpXTqxc2cSw6b4aDAHqzbkQNAT8TQAARQNv+RgBtCTo2/uspq3XPd7PV5cSS+vDKlo5F581wEEBv1o2oIeBnAgggAmjb3wigLUHHxv8+Z71u/Hy6WlYprq+vb+NYdN4MBwH0Zt2IGgJ+JoAAIoC2/Y0A2hJ0bPzoRZt12QeTVadsYf1xWwfHovNmOAigN+tG1BDwMwEEEAG07W8E0JagY+Onr9qus98Yr4rF82nMPV0di86b4SCA3qwbUUPAzwQQQATQtr8RQFuCjo1fvDFRJ704WsXy59aMh3s4Fp03w0EAvVk3ooaAnwkggAigbX8jgLYEHRu/bsdetX1quHLnyqHFA092LDpvhoMAerNuRA0BPxNAABFA2/5GAG0JOjZ+576Dajjgz1BUCx/vpTxxuRyL0HvhIIDeqxkRQ8DvBBBABNC2xxFAW4KOjT+clKzqD/weimrag911QsE8jkXovXAQQO/VjIgh4HcCCCACaNvjCKAtQQfH13t4sHYfOKxRd3dW5RMKOBiht0JCAL1VL6KFQBAIIIAIoG2fI4C2BB0c3+qJodq4c79+vaW96pcv4mCE3goJAfRWvYgWAkEggAAigLZ9jgDaEnRwfNfnR2rZ5t0adF1rta52goMReiskBNBb9SJaCASBAAKIANr2OQJoS9DB8We8Nlaz1iTo/cubq1ud0g5G6K2QEEBv1YtoIRAEAgggAmjb5wigLUEHx1/83kSNW7JVL1/QWGc0Lu9ghN4KCQH0Vr2IFgJBIIAAIoC2fY4A2hJ0cHyfT6dqyLyNevzM+rqkdWUHI/RWSAigt+pFtBAIAgEEEAG07XME0Jagg+Pv/HqWvpu+Rvf1rq3rO1V3MEJvhYQAeqteRAuBIBBAABFA2z5HAG0JOjh+wM/z9NH4Fbq5Sw3d1fNEByP0VkgIoLfqRbQQCAIBBBABtO1zBNCWoIPjnx2yQK+PWKor2lbRgNPrORiht0JCAL1VL6KFQBAIIIAIoG2fI4C2BB0c/+bIpXp68AKd06yCnju3kYMReiskBNBb9SJaCASBAAKIANr2OQJoS9DB8Z9OXKmHfpyrXvXK6K1LmzkYobdCQgC9VS+ihUAQCCCACKBtnyOAtgQdHP/jjLW6/auZal+jhD67ppWDEXorJATQW/UiWggEgQACiADa9jkCaEvQwfFD52/UNZ9MVaOKRfXTTe0cjNBbISGA3qoX0UIgCAQQQATQts8RQFuCDo6fsHSrLnx3omqUKqihfTs5GKG3QkIAvVUvooVAEAgggAigbZ8jgLYEHRw/d22CTn11rMoUzquJD3RzMEJvhYQAeqteRAuBIBBAABFA2z5HAG0JOjh+xZbd6vzcSBXME6e5j/R0MEJvhYQAeqteRAuBIBBAABFA2z5HAG0JOjh+y679av740FBky544WTlz5nAwSu+EhAB6p1ZECoGgEEAAEUDbXkcAbQk6OH7fwcOq/dDgUGRzBvRQoby5HYzSOyEhgN6pFZFCICgEEEAE0LbXEUBbgg6OT05OVs1+f+hQUrIm3N9VZYvkczBK74SEAHqnVkQKgaAQQAARQNteRwBtCTo6vvGjf2rHnoMa2rejapQq5GiU3ggLAfRGnYgSAkEigAAigLb9jgDaEnR0fPunh2vN9r364ca2alKpmKNReiMsBNAbdSJKCASJAAKIANr2OwJoS9DR8b1eGq0FGxL16dUt1aFmSUej9EZYCKA36kSUEAgSAQQQAbTtdwTQlqCj4899a7ymrNiuNy9uqt4NyjoapTfCQgC9USeihECQCCCACKBtvyOAtgQdHX/Fh5M1cuFmPXNOQ53XvKKjUXojLATQG3UiSggEiQACiADa9jsCaEvQ0fE3fzFdv85er/6n1dWV7ao6GqU3wkIAvVEnooRAkAgggAigbb8jgLYEHR1///ez9eXk1brzpFq6pVtNR6P0RlgIoDfqRJQQCBIBBBABtO13BNCWoKPjB/42X++OWa4+Havp/pPrOBqlN8JCAL1RJ6KEQJAIIIAIoG2/I4C2BB0d//LQxXpx6CJd1KqSnjirgaNReiMsBNAbdSJKCASJAAKIANr2OwJoS9DR8e+NWabHf/tbpzcqp1cubOJolN4ICwH0Rp2IEgJBIoAAIoC2/Y4A2hJ0dPxXU1bp3u/mqFvtUnr/ihaORumNsBBAb9SJKCEQJAIIIAJo2+8IoC1BR8f/Nnu9bvpiulpWLa6v+7RxNEpvhIUAeqNORAmBIBFAABFA235HAG0JOjp+1KLNuvyDyapbtrB+v62Do1F6IywE0Bt1IkoIBIkAAogA2vY7AmhL0NHx01Zu13/eHK9KxfNr9D1dHI3SG2EhgN6oE1FCIEgEEEAE0LbfEUBbgo6OX7QxUT1eHK3iBeI1/aGTHI3SG2EhgN6oE1FCIEgEEEAE0LbfEUBbgo6OX7tjr9o9NVzxcTm16PHejkbpjbAQQG/UiSghECQCCCACaNvvCKAtQUfHJ+w9qEaP/BmKbuHjvZQnLpejkbofFgLofo2IEAJBI4AAIoC2PY8A2hJ0dPzhpGRVf+D3UHTmErC5FMyWOQIIYOa4MQoCEMg6AgggAmjbXQigLUGHx9d9eLD2HDis0Xd3UaUT8jscqduhIYBu14foIBBEAgggAmjb9wigLUGHx7ccOFSbEvfrt1vbq165Ig5H6nZoCKDb9SE6CASRAAKIANr2PQJoS9Dh8V2fG6llW3aHFoI2C0KzZY4AApg5boyCAASyjgACiADadhcCaEvQ4fGnvzZWs9ck6IMrmqtr7dIOR+p2aAig2/UhOggEkQACiADa9j0CaEvQ4fEXvTtR45du1csXNNYZjcs7HKnboSGAbteH6CAQRAIIIAJo2/cIoC1Bh8df98lU/Tl/owaeVV8Xt6rscKRuh4YAul0fooNAEAkggAigbd8jgLYEHR7f9+uZ+n76Wt3fu7b6dKrucKRuh4YAul0fooNAEAkggAigbd8jgLYEHR7/8E9z9cmElbq1aw317XGiw5G6HRoC6HZ9iA4CQSSAACKAtn2PANoSdHj8M4MX6I2RS3Vluyrqf1o9hyN1OzQE0O36EB0EgkgAAUQAbfseAbQl6PD4N0Yu0TODF+rcZhX07LmNHI7U7dAQQLfrQ3QQCCIBBBABtO17BNCWoMPjP52wQg/9NE+965fRm5c0czhSt0NDAN2uD9FBIIgEEEAE0LbvEUBbgg6P/2HGGt3x1Sx1qFlCn17dyuFI3Q4NAXS7PkQHgSASQAARQNu+RwBtCTo8/s95G3Tdp9PUpFJR/XBjO4cjdTs0BNDt+hAdBIJIAAFEAG37HgG0Jejw+PFLt+iidyepZqmC+qtvJ4cjdTs0BNDt+hAdBIJIAAH0twAOkNQ/VWNvlFQm/L0c4Z9fJ6mYpEmSbpI0LwMnAwKYAVhe23XOmgSd9tpYlS2SVxPu7+a18J2JFwF0phQEAgEIhAkggP4XwHMkdU/R8YclbQ7//V5J/SRdIWmRpAcldZRkFnxLjPAsQQAjBOXF3ZZv2a0uz41UoTxxmvNITy+m4ETMCKATZSAICEAgBQEE0P8CeKakxml0vZn9WyfpJUlPh3+eR5KZITRi+HaEZwoCGCEoL+62OXG/Wgwcqhw5pKUDT1bOnKZt2DJKAAHMKDH2hwAEspoAAuh/AbxbUoKk/eFLvA9IWiapmqSlkppKmpGi0X6StEPS5RE2HwIYISgv7rb3wGHVeXhwKPS5j/RUwTxxXkwj5jEjgDEvAQFAAAKpCCCA/hbA3pLyhy/vlg5f4q0tybzSwVzmHSepfHgm8GhrvCOpsqRjXe8zs4Tmz9GtkKQ1CQkJKlzYuCCbnwgkJyerRr8/dDgpWZMe6KbShfP6Kb1sywUBzDbUfBAEIBAhAQTQ3wKYug0KhGf9npE0MSyA5SStT7Hju5IqSup1jB5K68ESIYARnnEe3K3RI38qYe9BDe3bSTVKFfRgBrEPGQGMfQ2IAAIQ+DcBBDBYAmiq/5ekJZKezeQlYGYAA/ZbpN1Tw7V2x179eFM7Na5YNGDZRyddBDA6HDkKBCAQPQIIYLAE0Mibue/PXOZ9LHzp90VJZkbQbPGSNvEQSPROMD8cqddLo7VgQ6I+u7qV2tcs4YeUsj0HBDDbkfOBEIBAOgQQQH8L4HOSfpG0SlKp8D2AZjXfBpJWhkXvfklXSlosyTwg0pllYPi9kZLAOW+O19SV2/XWJU3Vq35Z4GSCAAKYCWgMgQAEspQAAuhvARwUXtfPTNuYtf/MfX8PSZof7qqjC0H3SbUQ9NwMdB1PAWcAlhd3vfyDyRq1aLOeO7eRzmlWwYspxDxmBDDmJSAACEAgFQEE0N8CmB0NjwBmB+UYfsZNX0zXb7PXa8BpdXVFu6oxjMS7H40Aerd2RA4BvxJAABFA295GAG0JOj7+vu9ma9CU1bqrRy3d3LWm49G6GR4C6GZdiAoCQSaAACKAtv2PANoSdHz847/O13tjl6tPp2q6v3cdx6N1MzwE0M26EBUEgkwAAUQAbfsfAbQl6Pj4l4Yu0ktDF+viVpU08Czz/BBbRgkggBklxv4QgEBWE0AAEUDbHkMAbQk6Pv69Mcv0+G9/68zG5fTSBU0cj9bN8BBAN+tCVBAIMgEEEAG07X8E0Jag4+MHTV6l+76fo+51Sum9y1s4Hq2b4SGAbtaFqCAQZAIIIAJo2/8IoC1Bx8f/Onudbv5ihlpVLa6v+rRxPFo3w0MA3awLUUEgyAQQQATQtv8RQFuCjo8fuXCTrvhwiuqVK6zfbu3geLRuhocAulkXooJAkAkggAigbf8jgLYEHR8/beU2/efNCap8Qn6NuruL49G6GR4C6GZdiAoCQSaAACKAtv2PANoSdHz8gg071eulMSpRMF5THzzJ8WjdDA8BdLMuRAWBIBNAABFA2/5HAG0JOj5+zfY9av/0COWJy6mFj/d2PFo3w0MA3awLUUEgyAQQQATQtv8RQFuCjo9P2HNQjR79MxTlosd7Kz4up+MRuxceAuheTYgIAkEngAAigLbnAAJoS9Dx8YcOJ6lGvz9CUc546CQVKxDveMTuhYcAulcTIoJA0AkggAig7TmAANoS9MD4Og8N1t6DhzXmni6qWDy/ByJ2K0QE0K16EA0EICAhgAig7XmAANoS9MD45o8P1ZZd+/XHbR1Up6wpOVtGCCCAGaHFvhCAQHYQQAARQNs+QwBtCXpgfJfnRmr5lt365vo2alGluAciditEBNCtehANBCDADKDpgRw0ghUBBNAKnzcGn/bqWM1Zm6APr2ihLrVLeSNoh6JEAB0qBqFAAAIhAswAIoC2pwICaEvQA+MvfGeiJizbqlcubKLTG5XzQMRuhYgAulUPooEABBBAZgDtzwIE0J6h80e49pOp+mv+Rj1xVgNd1KqS8/G6FiAC6FpFiAcCEGAGkBlA27MAAbQl6IHxd3w1Uz/MWKt+J9fRtR2reSBit0JEAN2qB9FAAALMADIDaH8WIID2DJ0/wkM/ztWnE1fq1m411fekWs7H61qACKBrFSEeCECAGUBmAG3PAgTQlqAHxj89eIHeHLlUV7WrqodPq+uBiN0KEQF0qx5EAwEIMAPIDKD9WYAA2jN0/givj1iiZ4cs1HnNK+iZcxo5H69rASKArlWEeCAAAWYAmQG0PQsQQFuCHhj/yYQVevineTq5QRm9cXEzD0TsVogIoFv1IBoIQIAZQGYA7c8CBNCeofNH+H76GvX9epY61iqpT65q6Xy8rgWIALpWEeKBAASYAWQG0PYsQABtCXpg/JB5G9Tn02lqWqmovr+xnQciditEBNCtehANBCDADCAzgPZnAQJoz9D5I4xfskUXvTdJtUoX1J93dHI+XtcCRABdqwjxQAACzAAyA2h7FiCAtgQ9MH72mh06/bVxKlckr8bf380DEbsVIgLoVj2IBgIQYAaQGUD7swABtGfo/BGWbd6lrs+PUqG8cZozoKfz8boWIALoWkWIBwIQYAaQGUDbswABtCXogfGbEvep5cBhyplDWvrEycqRI4cHonYnRATQnVoQCQQgcIQAAogA2p4LCKAtQQ+MR2DsigQ/O36MhgAEok8AAUQAbbsKAbQl6IHxycnJqv7A70pKliY/0E2lCuf1QNTuhIgAulMLIoEABJgBPNoDXMuyOxsQQDt+nhndcMAQ7dx3SMPu7KTqJQt6Jm4XAkUAXagCMUAAAikJMAPIDKDtGYEA2hL0yPh2Tw3X2h179dNN7dSoYlGPRO1GmAigG3UgCghA4H8EEEAE0PZ8QABtCXpkfM8XR2vhxkR9fk0rtatRwiNRuxEmAuhGHYgCAhBAAFP2AJeA7c4IBNCOn2dGn/3GOE1ftUNvX9pMPeuV8UzcLgSKALpQBWKAAAS4BPzvHkAA7c4JBNCOn2dGX/bBZI1etFnPn9tI/2lWwTNxuxAoAuhCFYgBAhBAABHAaJ4FCGA0aTp8rJs+n67f5qzXI6fX0+VtqzgcqXuhIYDu1YSIIBB0AtwDyD2AtucAAmhL0CPj7/12tr6aulp39zxRN3Wp4ZGo3QgTAXSjDkQBAQj8jwACiADang8IoC1Bj4x/7Nf5en/scl3fqbru613bI1G7ESYC6EYdiAICEEAAU/YA9wDanREIoB0/z4x+4a9FemXYYl3aurIeO7O+Z+J2IVAE0IUqEAMEIJCSADOAzADanhEIoC1Bj4x/d/QyDfz9b53VpLxePL+xR6J2I0wE0I06EAUEIMAMIDOA0TsLEMDosXT6SF9OXqX7v5+j7nVK673Lmzsdq2vBIYCuVYR4IAABZgCZAbQ9CxBAW4IeGf/LrHW65csZal2tuAZd18YjUbsRJgLoRh2IAgIQYAaQGcDonQUIYPRYOn2kEQs36coPp6h++cL69ZYOTsfqWnAIoGsVIR4IQIAZQGYAbc8CBNCWoEfGT12xTee8NUFVSxTQiLs6eyRqN8JEAN2oA1FAAALMADIDGL2zAAGMHkunj/T3+p3q/fIYlSiYR1Mf7O50rK4FhwC6VhHigQAEmAFkBtD2LEAAbQl6ZPzqbXvU4ZkRyps7pxY81tsjUbsRJgLoRh2IAgIQYAaQGcDonQUIYPRYOn2kHXsOqPGjf4ViXDywt3Lnyul0vC4FhwC6VA1igQAEDAFmAJkBtD0TEEBbgh4Zf/Bwkmr2+yMU7cyHT1LR/PEeiTz2YSKAsa8BEUAAAv8mgAAigLbnBAJoS9BD42s/9If2HUzS2Hu7qEKx/B6KPLahIoCx5c+nQwAC/08AAUQAbc8LBNCWoIfGN3/8L23ZdUCDb++g2mVM6dkiIYAARkKJfSAAgewkgAAigLb9hgDaEvTQ+M7PjtCKrXv07fVt1LxKcQ9FHttQEcDY8ufTIQABZgDT6oEcNIYVAQTQCp+3Bp/66hjNXbtTH17ZQl1OLOWt4GMYLQIYQ/h8NAQgkCYBZgCZAbQ9NRBAW4IeGn/BOxM0cdk2vXphE53WqJyHIo9tqAhgbPnz6RCAADOAzABG/yxAAKPP1NkjXvPxVA39e6OeOruBLmhZydk4XQsMAXStIsQDAQgwA8gMoO1ZgADaEvTQ+NsHzdCPM9fpwVPq6JoO1TwUeWxDRQBjy59PhwAEmAFkBjD6ZwECGH2mzh7xwR/n6LOJq3Rbt5q646RazsbpWmAIoGsVIR4IQIAZQGYAbc8CBNCWoIfGP/XHAr01aqmubl9VD51a10ORxzZUBDC2/Pl0CECAGUBmAKN/FiCA0Wfq7BFfH7FEzw5ZqPObV9TT5zR0Nk7XAkMAXasI8UAAAswAMgNoexYggLYEPTT+4/Er1P/neTqlYVm9flFTD0Ue21ARwNjy59MhAAFmAJkBjP5ZgABGn6mzR/x22hrd9c0sdapVUh9f1dLZOF0LDAF0rSLEAwEIMAPIDKDtWYAA2hL00PjBczfo+s+mqVnlYvruhrYeijy2oSKAseXPp0MAAswAMgMY/bMAAYw+U2ePOG7JFl383iSdWLqQhtzR0dk4XQsMAXStIsSTGQK79x/Skk27tGhjohZv2qXtuw+oSokCqlGqYOhP5eL5FZcrZ2YOzZgYEGAGkBlA03Y3SrpbUllJ8yTdLmlMhP2IAEYIyg+7zVq9Q2e8Pk7li+bTuPu6+iGlbMkBAcwWzHxIlAjsPXD4H9FbtClRizcekb412/ce9xNy58qhKicUUM3SBVWjZEFVD4th9ZIFlTd3rihFx2GiRQABjJ4AxkuqKmmppEPRKlA2HOd8SZ+GJXCcpD6SrpFk1vhYFcHnI4ARQPLLLks371K350epcN44zR7Q0y9pZXkeCGCWI+YDMkHgcFKy/l6/U4s3JWrRxl1avPHI19Xb9yg5Oe0DligYr5qlCqlW6YIqViBeK7bs1pLNu0LCuO9gUpqDcuSQKhTLF5JCM1NoxtcoXVC1yxRS/vi4TETOkGgQQADtBTC/pFclXR4uiFkdd5mkVyStk/RUNAqVhceYJGm6pBtSfMbfkn6UdH8En0VZ/2oAACAASURBVIsARgDJL7ts3LlPrZ4Yplw5c2jJwN7KYX6zs6VLAAFMFxE7ZDOBZZt36eYvZmj++p1pfnLxAkb0CqpW6SOyVzP0tZDM99PakpKStXbH3pAMLt10RAjNH3OpOGHvwWOKYdUSBVSvXBHVK1dYdcsWDn09oWCebKYRzI9DAO0F8GVJ7cKXTQdLMoujGQE8XdIjkpo43FrmTN4j6VxJP6SI0+TUWFKnNGI3Z2bKs7OQpDUJCQkqXNi4IJufCZh7gOr1HxJK8e9HeylfPJd1Iqk3AhgJJfbJLgI/zFijfj/M1Z4Dh1UgPldIwMxlWyN4R7+WiJKEJScna8uuA0eEMIUcLtyYqM2J+9NMuXThPKmksIgqFs+Xrf/DaYR28679WrVtj1Zv2xP6unGnifcYU6NZXLxutUure93SUf0UBNBeAFdKMpdRJ0pKlNQoLIA1wjNrLltROUlrwwI7PkVnPRCe0TwxjW4bIKl/6u8jgFE9L509mPllXu2B30OXhyb366ZShfI6G6tLgSGAGavGocNJWrltjw4eTtKhw8k6EP5q/n7kT7LMPub7R//76PfN17JF86lXvTKKj+OBhJTkTR/2/2mevpm2JvTt1tWK6+ULmqh04dicx5sS92n+up2at25naCbS/PfyLbvTbJZCeeJUp9yRGUIjqkXy5Vb++FwqmCdOBfLE/fO1QJ5cyhMX2f+Y7tp/6B+5M5J3VPRC0rd9rw4cSvuSdsa6OTp73969pm7vHt3XbyKA9gJoZtDqh6UvpQAaERwtqUh0yp8lRzkqgGY9jwkpPqGfpEsl1WYGMEu4e/qgDQYMUeK+Qxp+ZydVK1nQ07lkV/AIYOSkzZOl5749ITRjZLOZB5Vu6Fxd5zavELEQ2Hye62MXbkjUTV9MD3HNmUO6tVtN3dK1Zuh2Dpc2I2ULjAyu36l5a3dq3voELdqwKyT7kW7mYRQjhQXij4phrn/+bvJds2NvSPa27T5w3EOafcsVzauKxfKrUvH8KlMkr+JixKtFleJqVe2ESBFEtB8CaC+AoyR9G74P0AiguQS8XNJrkswsYK+IKhGbnTJzCTh1pNwDGJvaxexT2z45TOsS9unnm9upYYWiMYvDSx+MAEZWLfNQwpUfTdHoRZtDs3fmYaPcuXIqLleO0NfcOXMqd1wOxZmv4e+ZZUfic4W/F5cz9A/0mMVbtGXXkcuLZQrnVZ9O1XRhy0qBfBLVzNoPmrJaA36ep/2HklSqUJ7QrF+b6tGVicgqnLm9zKyuEdejs4XLt+ySEcVd+w/L3JZizi/z92M9hHK8Ty2WP3dI7iqG/5j/Dv29WH6VLZo31Hd+3RBAewE0s2fm3r/PJV0h6W1J9SS1Cd9DN83x5jEPgZgYzVIwR7f5kn7iIRDHKxej8Hq8OCr0pOAX17ZS2+olYhSFtz4WAYysXi8NXaSXhi5W3tw59cON7VSnbObuoNl38LAGTV6lt0Yt04ad+0Ifbu5p69Oxmi5uXSkwT54m7juoB36Yq19mmecRFXqDz/PnNQqx8ONmbgvYfeCIFJo/Rgp37z8c/npEFM0tA+WK5gtLXz4VypvbjygiygkBtBdAA9pcAjbr6DWTZP53wTxV+7SkORFVIbY7HV0G5vrwZeDrJF0bllhzf2N6GzOA6RHy2c/PemOcZqzaoXcubaYe9cr4LLusSQcBTJ/ryIWbQrN/5v7S589tpP80q5D+oHT22H/osL6ZukZvjlwaekLVbOYp1qvbV9VlbSr7+h//OWsSdPOX07Vy657QZd67e56o6zpUU84YXcK0LiYHiDoBBNBOAM0CRhdLMo9Fboh6dbLvgGb2757wQtBzJd0Rvn8xkggQwEgo+WifS9+fFLrE9sJ5jXR2U/t/pH2E5pipIIDHr/Ka7Xt06qtjtWPPQV3UqpKeOKtBVNvC3Mxvnnx9fcTS0NOcZjMPEVzZroqubFtVRfL7ZxbIXPL9aPwKPfH736HZLnMv5CsXNgm9vpENAikJIIB2AmhYmt8mdSRFMlvmx+5DAP1Y1ePkdOPn0/T7nA169Ix6uqxNlYBln7l0EcBjczOzdOe+NUGz1ySoYYUi+rpPmyy7V89cIvx51jq9NmKJlm0+8rSpebr08rZVQrOCZmFjL2879hzQPd/O1p/zN4bS6FG3tJ45p6GK5vd2Xl6uicuxI4D2AjhCklk3zyycHMQNAQxY1e/5dpa+nromdEnppi7mOSe29AgggMcm9OCPc/TZxFUqmj+3frm5fehm/KzezMMmv89Zr1eHLw7dz2o2s6TIpa0r69I2lUMPjnjtnbbTVm7XrV/OCF3qjs+VUw+cXDsktizWntXd5N3jI4D2AmgWUTZv+3gx/DBF6kWMZnu3PSKKHAGMCJN/dnr0l/n6YNxy3di5uu7pldZKQf7JNVqZIIBpk/x++hr1/XqWzAtlPryihTqfWCpayCM6jlns98/5G/TKsCX/90YMc4nY3C9onhI98jX+yNcC8SqeP/y1gPlZntDfC+WNi8n9dSaHt0cv03N/LpQR2yon5NdrFzVV/fIur0AWUXnYKYsJIID2ApjW4kRmqXCzuJL5GtmKlFlc6Cw8PAKYhXBdPPQLfy7UK8OXhG6if/QM8/wTW3oEEMD/J7Rgw06d+fq40NIdt3WrqTtOiu4it+nVJOXPzX1zwxds0usjlmj6qh0ZGfrPvuZBCzNzaC5jN6lUVI0rFlOD8kWi/rYccz+jYWcexJqxarumrtyuNduPPOByWqNyeuKs+r5+uCVTxWFQmgQQQHsBrJxOb/n93kAEMGC/XN4ZvVRP/L5AZzcprxfON28MZEuPAAL4b0I79x3UGa+NC731oWOtkqHZP1cWJDb3CZp3127fc0Dbdh8MLRZ85L+P/DELVW/bk/LrwdAyI2ltJqcTSxdS45AQFlXTSkVVrUTBDM0Urk/Y+4/sGembszYhtJ5fyi1f7lzqf1pdnd+iIpd80zsZ+fk/BBBAewEMejshgAHrgC8mrdIDP8zRSXVL693Lmgcs+8yliwD+j5uZbbv+s2kaMm9j6AnVX25pH7q06uXNPMiyffdBLduySzNX79DMVTtCXzel8a5bc6m4UYUjQhj6U6noP+vymfUL565NOCJ8q7eHvq5POLKOYcrN3C/ZpGJRNalULDzbWJRZPy83UIxiRwCjI4DVJd0efhrYXPb9O/xgyNIY1TU7PxYBzE7aDnyWeYrS3GzeptoJ+vK61g5E5H4ICOD/anR0Btk8qPDN9W3UqKI/3yZjRNfIW0gIVx+5XGtm79J6W0XF4vlCy9IsWJ+oQ0nmn5D/bWbZvtplCqtp5aJqUvGI8FUtUYCZPvdPe+cjRADtBbCnpJ8lzZQ0Lnzvn3k7iHkX8GmS/nK+C+wCRADt+Hlu9IgFRxbsNfc6/Xxze8/FH4uAEcAj1Ccu26qL35sUeljh8TPr65LW6d1BE4tqZd1nmleamXfyHpVC8zX1O4/NWzrMpeKjs3vmPkLzXls2CESbAAJoL4AzwgtB35eqOObJ4B6Smka7aI4dDwF0rCBZHc7k5dt03tsTVK1EAQ2/q3NWf5wvjo8ASpt27tPJr4wNvaPX3D9qXknGEiUK3W84e80OJe47FHpopEKxfHDxxVnvfhIIoL0Amhs0zLL1i1OV2zzSZpaAyet+G1hFiABa4fPeYPNC9pNfGaOShfJoSr/u3ksgBhEHXQDNzNdF707UlBXbVbtModB7fvPF+32BhBg0Gh8JgQwQQADtBXC1pL6SvknF/TxJz0mqlIF6eHFXBNCLVbOIefW2PerwzAiZJw//fqyXxZGCMzToAjjwt/l6d8zy0Fs3fr6lfegeNjYIQCC2BBBAewF8OPzuXHPJd3x47T9zY9S9kp6X9HhsS5zln44AZjlitz7ALIPR5LEjt7YuGdjbc29MiAXNIAugeePGjZ9PD2F/65Jm6lW/TCxKwGdCAAKpCCCA9gJoFnw2TwDfKalcmO86Sc9KeiUshH5uPATQz9VNIzezEG2tB/8I/WRW/x6hpxfZjk8gqAK4dPOu0Hp/Zp28Ph2r6f6TzWvT2SAAARcIIID2ApiyjoXCf0l0objZFAMCmE2gXfoYI4BGBMfd1zW0lhsbApiagJFe86YP867dllWL64trWjFbzIkCAYcIIID2AlhVknlGP/VDIDUlHZS0wqF6Z0UoCGBWUHX8mM0e+0tbdx/QkNs76sQyR/+/x/GgYxheEGcA+341U9/PWBt6WOi3W9urVCG/Pw8XwwbjoyGQCQIIoL0AjpL0gaSPU/G/RNI1kvy+TgYCmIkTz+tDOj07Qiu37tF3N7RRs8rFvZ5OlscfNAGctnKb/vPmhNDr3b68tnVoBpANAhBwiwACaC+AO8Nr/S1JVdoakqZK8ucy9/9LFgF065zOlmhOeWWM5q3bqY+ubKHOJ5bKls/08ocETQAvfm+ixi3ZqgtaVNRT/2no5dIROwR8SwABtBfAhPAsn1kQOuXWTNJISX6/PoYA+vbXw7ETO//tCZq0fJtev6ipTmlYNoAEMpZykATQvO3jgncmKneuHBp+Z2dVLJ4/Y7DYGwIQyBYCCKC9AP4qaY+kCyUdDlfNrHD6lSSz2FXvbKlk7D4EAYwd+5h98tUfTdGwBZv09H8a6PwWfl/q0h5zUATQvP/2/Hcmyrwt5uJWlTTwLLNGPhsEIOAiAQTQXgDrShotaYekMeEid5BkxKirpLkuFj6KMSGAUYTplUPdNmiGfpq5Tg+eUkfXdKjmlbBjFmdQBHDcki2hd/3G58qpUfd0VtkiPCEes6bjgyGQDgEE0F4ADWKz/t/NkhpJ2ht+BdxrkrYFoAMRwAAUOXWK/X6Yo88nrdLt3Wvq9u7mrYdsxyMQBAE0s3/nvDVB01Zu1xVtq2jA6fVoCghAwGECCGB0BNDhEmd5aAhgliN27wOe/ONvvT1qma5pX1UPnmomwdmCLoCjFm3W5R9MVp64nBpzTxeVKsyyL5wVEHCZAAKYeQE06xqYu5vXpCiw+V/eu8L3/v0o6QuXix+l2BDAKIH00mFeG75Yz/25SBe2rKgnz+Ypz/Rq5/cZQDP7ZxZ9nrUmgf8pSK8Z+DkEHCGAAGZeAL+UtF5S33AtzVoYCySZ18AtDT/8cbWkTx2pdVaFgQBmFVmHj/vRuOUa8Mt8ndqwrF67qKnDkboRmt8FcNjfG3X1x1OVL3cujb6nS2jxZzYIQMBtAghg5gVwuaQrw0u9mCqbmb/rJdWWdCj893MktXa7BayjQwCtEXrvAN9MXa27v52tzieW1EdXtvReAtkcsZ8F0Mz+nfrq2NC6kH06VdP9vXnfbza3Fx8HgUwRQAAzL4DmYQ8jeyvD5H+XNE/S3eG/mzvjJ0g6IVOV8c4gBNA7tYpapIPnrtf1n01X88rF9O0NbaN2XL8eyM8COHjuBl3/2TQViM+lMfd2VfEC8X4tI3lBwFcEEMDMC+BGST0kzQp3xBZJfSR9F/67eRewWRy6oK865v+TQQB9XuC00hu7eIsueX+SapcppMG3dwwggYyl7FcBTEpK1smvjNGCDYm6uUsN3dXzxIyBYW8IQCBmBBDAzAvgL5I2SbpW0tmSPpdURtL2cDVPkfScJL9fD0EAY3b6xu6DZ67eEbrpv3zRfBp3n1nuku14BPwqgL/NXq+bvpiuQnniNObeLiqan9k/zgQIeIUAAph5AWwsaWj4VW9xkp6Q9FCKwpuHP3aH7wv0Sj9kJk4EMDPUPD5myaZd6v7CKBXNn1szHzYT4WxBE8DDScnq+dJomV64rVtN3XES60FyFkDASwQQwMwLoKlzSUnmBqgNkialKryZAZwvyTws4ucNAfRzdY+R24aEfWr95DDF5cyhxQN7K0eOHAGkEHnKfpwB/GnmWt02aKYK543T2Pu6qnDe3JEDYU8IQCDmBBBAOwGMeQEdCAABdKAI2R3Crv2HVL//kNDHLnisl/LmNq+/ZjsWAb8J4KHDSerx4mgt27Jbd/WopZu7mlue2SAAAS8RQAARQNt+RQBtCXpwvLn5v3q/35WcLE3p151139Kpod8E8Ltpa3TnN7NULH/u0JO/BfOYu2DYIAABLxFAABFA235FAG0JenR8g/5DlLj/kEbc1VlVSxTwaBbZE7afBPDg4SR1e36UVm3bo/t619b1napnD0Q+BQIQiCoBBBABtG0oBNCWoEfHt3lymNYn7NOvt7RX/fJFPJpF9oTtJwH8asoq3fvdHJ1QID705G/+eGb/sqeL+BQIRJcAAogA2nYUAmhL0KPjzVPA5gnQL69trTbV/b7euV2R/CKABw4lqctzI7V2x149eEodXdOhmh0YRkMAAjEjgABmXgDPk/SjpAPh6lWRtFrS4fDf80u6WdIzMatu9nwwApg9nJ37FLMOoFkP8N3LmuukuqWdi8+lgPwigJ9NXKkHf5wbuudzzD1dePjHpSYjFghkkAACmHkBNKJXNrwYtMG+U5JZG3BZuAbmX8R1kvz+eCQCmMGTzi+7X/r+JI1ZvEUvnt9IZzWp4Je0siQPPwjgvoOHQ7N/5rL/gNPq6op2VbOEFQeFAASyhwACmHkBTAq/+cO8DcRsiZIaIYDZ07h8SuwJ3PDZNP0xd4MeO6OeLm1jJsDZjkXADwL48fgV6v/zPJUtkjf04A9L/9DvEPA2AQQQAbTtYGYAbQl6dPzd38zSN9PW6N5etXVDZ54EPV4ZvS6AZvav4zMjtClxvx4/s74uaV3Zo11L2BCAwFECCCACaHs2IIC2BD06fsDP8/TR+BW6qUt13d2ztkezyJ6wvS6A741Zpsd/+zv07mcz+xcflzN7wPEpEIBAlhFAAO0E8HJJCeHqfCnpdkkbw38vKulD7gHMst7lwDEm8PyfC/Xq8CW6vE1lPXJG/RhH4/bHe1kATexm9m/LrgN66uwGuqBlJbdhEx0EIBARAQTQTgDTg5yMAKaHiJ97lcDbo5bqyT8W6Oym5fXCeeb5J7ZjEfCyAL41aqme+mOBKhXPr2F3dlLuXMz+0ekQ8AMBBDDzAuiH+kcjBy4BR4OiB4/x+aSV6vfDXPWoW1rvXNbcgxlkX8heFUDzzucOTw/X9j0H9dy5jXROM572zr6u4ZMgkLUEEEAE0LbDEEBbgh4d/9PMtbpt0Ey1q3GCPr+mtUezyJ6wvSqAr49YomeHLAy96u+vOzoqjtm/7GkYPgUC2UAAAbQXwK6SzpZk1sEwl3yXS/pW0uhsqJ8LH4EAulCFGMQwfMFGXfXRVNUtW1i/39YhBhF45yO9KIA79hxQp2dHKmHvQb10fmOd2aS8d4ATKQQgkC4BBNBOAN+SdJ2k7ZIW6cixakoyD4C8IemWdCvg/R0QQO/XMFMZrNiyW52fGxl6InTeIz25N+w4FL0ogI/8Mk8fjluhE0sXCgl+rpzm1xsbBCDgFwIIYOYF8CxJgyT1kfRxePbP9IW5Q/oKSW9KOlfSz35plmPkgQD6vMDHSi8pKVmNHvlTifsPafDtHVS7jGkFtrQIeE0Al27epZ4vjtahpGR9enVLdahZksJCAAI+I4AAZl4AjdjNk3T/MXriaUlmcbQzfNYzqdNBAH1e4OOld/7bEzRp+TYeEEinB7wmgNd8PEVD/96krrVL6YMrWgS4w0kdAv4lgABmXgDXhO/9m3yM9mgp6XtJfn9sDgH07++HdDN77Nf5en/scl3RtooGnF4v3f2DuoOXBHDs4i265P1JisuZQ4Nv76gapQoGtWzkDQFfE0AAMy+A+ySZ91+tPUaHmDuml0jK5+sOkhBAnxf4eOn9MGON7vhqllpUKaZvrm8bYBLHT90rAng4KVmnvDJGCzYkIvV0MwR8TgABzLwAJkkqLWnzMXrE/GwdC0H7/AwKeHqLNybqpBdHK398Ls0d0FM5eVAgzY7wigB+MWmVHvhhjorky62Rd3VWsQLxAe9w0oeAfwkggHYC+I6kPcdoj/ySrkUA/XvykJlkZozq9R+sfQeTQm+JqF6Sy4Vp9YUXBDBx30F1eW5k6JVvD59aV1e1r0qLQwACPiaAAGZeAEemePL3eC3Sxcf9Y1LjErDPC5xeeme/MU7TV+3Qyxc01hmNWSvOqwJoXvdmXvtWrUQBDbmjI8v6pNf4/BwCHieAAGZeAD1e+qiFjwBGDaU3D/TwT3P1yYSVuq5jNT1wch1vJpHFUbs+A7h62x51e36UDhxO0nuXNVf3uuYOFjYIQMDPBBBABNC2vxFAW4IeH//1lNW657vZalv9BH1xLa+E8+IM4I2fT9PvczaofY0SoXX/cuRg0WePn5aED4F0CSCAmRfAD45BN0HSQkmfSdqVbgW8vwMC6P0aWmUwb12CTnllrArnjdOs/j2QhzRoujwDOHn5Np339gSZ53fMGz9Y0NvqdGAwBDxDAAHMvAD+cIwqm9fAmQXRDkoyL0hd5pluyFygCGDmuPlm1IFDSarff0jo8uGYe7qoYnHz/BNbSgKuCqB5m8sZr4/TnLUJurBlJT15dgMKBwEIBIQAAph5ATxei5i1/z4JPyRyns97CQH0eYEjSe+0V8eGJOLNi5uqd4OykQwJ1D6uCuB309bozm9mqWCeOI24q7NKFsoTqLqQLASCTAABzBoBND3VPPwmkEo+bzAE0OcFjiS9+7+frS8nr9ZNXarr7p7mDYhsrs8AGik1y75s3Llf9/Wures7mXXt2SAAgaAQQACzTgCrSZoZXibFz/2EAPq5uhHm9tnElXrwx7nqVKukPr7KvAWRzXUBfOGvRXpl2GJVLJ5PQ/t2Up64XBQNAhAIEAEEMOsE8BJJd0pq4vN+QgB9XuBI0pu5eofOfH2cTigQr6kPdudBkFTQXLsEvD5hb2j2zyzg/cbFTXUyl+0jaXP2gYCvCCCAmRfAhsfohCKSWkh6QNKDkt7yVcf8fzIIoM8LHEl6+w4eVr3+Q0JvBpl4fzeVKZI3kmGB2cc1Abzjq5n6YcZataxSXF/1aY2wB6YTSRQC/yOAAGZeAM27gJOV9njzfuDnJD0bgGZDAANQ5EhS7PXSaC3YkMhCwmnAckkAj87WmjB/vrmdGlYwCxewQQACQSOAAGZeACsfo1nMOoA7AtRICGCAin28VO/8epa+m75Gt3evqdu714JKCgKuCGBycrLOeWuCpq3crv80raDnz2tEnSAAgYASQAAzL4BeaJkVklKL6tOS7ksRvHlK+XVJXSXtlfSFpLskHYgwQQQwQlB+3+3Dccv1yC/z1b1Oab13uXkInu0oAVcE8JdZ63TLlzOUL3cujby7s0oX5lI9XQqBoBJAAO0F8ARJW8MNVFHStZLMOoC/SBod48YyAvi+pHdTxGHeTnL0DSXmsT/zpLK5ZG0eWDG5fBxevuaWCGNHACME5ffdpqzYpnPfmqCyRfJqwv3d/J5uhvJzQQDNfZrmfb9rd+zVHd1r6bbuNTOUAztDAAL+IoAAZl4AzZL5RvKM9C2WdIGkwZIKSDL3B5qv50j6MYYtYwTwpfCftMLoLenXcA7rwjuYPD6SVErSzghiRwAjgBSEXXbtP6QGA4YoOVmhJ4FLFGRRYZdmAF8fsUTPDlkYEvThd3ZWvniWfQnCeUmOEDgWAQQw8wL4h6RDkswlVbPky6mS/pR0TRj2q5KaSWodw/YzAmj+FY6XtFrSN+EHU45e3n1U0hmSUt4IVEzStvAl4RFpxG6Ol/Jf9kKS1iQkJKhwYeOCbEEm0PX5kVq2eXdoLUCzJiDbEQKxngHclLhPXZ4dqd0HDuul8xvrzCblKQ0EIBBwAghg5gVwS1iSZksqGJ4tMyvgTg33lHkdwkRJsXzE7g5J0yVtl2Rie1LSTykk9R1JVST1SHUe7Jd0haQv0zg/Bkjqn/r7CGDAf5OE07/1yxn6edY63d3zRN3UpQZQwgRiLYD3fjtbX01drUYVi+qHG9oqZ84c1AYCEAg4AQQw8wJoLvOWkbQp3EOJ4Zm0ZeG/l5ZkLqtG+zpLmgKWqo/NOoRHRTTlj/4j6VtJJcL3LRoBNA+J9Ew13swQXiZpEDOAAf8NkcH03xm9VE/8vkAnNyijNy42E+BssZ4BnLcuQae+OjZ0af67G9qoWeXiFAUCEICAEEA7ATSSZx6gMJsRQLM49PIsFkAjb+bP8TZz6XdfGjuY6z5rwpelJ0nKzCXg1IflHkB+kfxDYPySLbrovUmqVDy/Rt/TBTJhArGaATTLvlz07iRNWLZVpzYsq9cuakpNIAABCIQIIIB2AmjuAzSXS812mqThknaH/27uk+uVBTOANq1r7lM0D66YWb9Vko4+BFJB0vrwgc8PPwnMQyA2pAM6NmHPQTV61NwKK816uIeK5M8dUBL/TjtWAjh47npd/9l0xcfl1PA7O6lCsfzUAwIQgAACGO6BzN4M82GEPXRlhPtFe7c24Zk+8yCHWZzaXBZ+MXxp2Dz4Ybajy8BslHS3JHNtyDwBbJ5cZhmYaFckIMfr8Mxwrd62V19c20ptq6c3WR0MKLEQwJTLvtzatYb69jgxGLDJEgIQiIgAM4CZnwGMCHAMdzLXet6QZB5GMbORK8P39D1jHkpMEZdZCNrsl3oh6KMzm+mlwCXg9AgF7Oc3fDZNf8zdoH4n19G1HasFLPu0042FAL48dLFeHLpI5Yrk1TCWfaEPIQCBVAQQQP8KYHY1OwKYXaQ98jlH15s7o3E5vXxBE49EnbVhZrcAmsWeuz0/UvsOJunVC5votEblsjZBjg4BCHiOAAKIANo2LQJoS9Bn40cu3KQrPpyi6iULhGae2LJ/HcCbvpiu32avV8uqxfXVda2VI0dm73ShehCAgF8JIIAIoG1vI4C2BH02fnPifrUYOFTGOeYO6KkCeeJ8lmHG08nOGcAJS7fqwncnyiz19+stHVS3HAu0Z7xijICA/wkggAigbZcjgLYEfTi+9RPDtGHnPn17fRs1r8K6c9klsRCKCQAAIABJREFUgIcOJ4XW/FuwIVGXtq6sx86s78PuIiUIQCAaBBBABNC2jxBAW4I+HH/Nx1M09O9NGnBaXV3RrqoPM8xYStklgJ9MWKGHf5qnIvlya+RdnVWsgHkLJBsEIACB/yeAACKAtucFAmhL0IfjX/xrkV4etljnNKug585N+appHyYbQUrZIYDbdx9Q5+dGKmHvQT12Rj1d2sa85ZENAhCAQNoEEEAE0PbcQABtCfpw/F/zN+raT6aqdplCGnx7Rx9mmLGUskMAH/xxjj6buCrE/Ndb2isuV86MBcneEIBAoAgggAigbcMjgLYEfTh+fcJetXlyuHLlzKF5j/RU3tzRfiW2t6BltQCa9/2e9upYJSVLg65rrdbVTvAWIKKFAASynQACiADaNh0CaEvQh+PNO2ibPz5UW3cf0E83tVOjikV9mGXkKWWlABrW5789UZNXbON9v5GXhD0hEHgCCCACaHsSIIC2BH06/rIPJmv0os0aeFZ9XdzKvH46uFtWCuDPs9bp1i9nKG9u877fzipXNF9wQZM5BCAQMQEEEAGMuFmOsSMCaEvQp+OfGbxAb4xcqgtbVtKTZzfwaZaRpZVVAmiO2+35UVqfsE99T6qlW7vVjCwg9oIABAJPAAFEAG1PAgTQlqBPx/8+Z71u/Hy6GlYoop9vbu/TLCNLK6sE8Pk/F+rV4UtUoVg+De3bKfD3WkZWDfaCAAQMAQQQAbQ9ExBAW4I+Hb9q6x51fHaE4nPl1LxHeyp3gJ9KzQoBNHy7vzhKBw4l6a1LmqlX/TI+7STSggAEsoIAAogA2vYVAmhL0KfjzcMJDR/5U4n7Dun3W4P9SrKsEMDrPpmqP+dvVLsaJ+izq1vxvl+fnkekBYGsIoAAIoC2vYUA2hL08fgL35moCcu26plzGuq85hV9nOnxU4u2AI5ZvFmXvj85tMzOH7d1UK3ShQLLlsQhAIHMEUAAEcDMdc7/RiGAtgR9PH7gb/P17pjlurxNZT1yRnDfSxtNATx4OEm9Xx6jJZt26cp2VdT/tHo+7iBSgwAEsooAAogA2vYWAmhL0Mfjf5q5VrcNmqlmlYvpuxva+jjT7JsBfH/scj3263wVLxCvEXd1Dr33lw0CEIBARgkggAhgRnsm9f4IoC1BH483s1TdXxilfLlzae4jPUOXLIO4RWsGcMuu/ery7Egl7j+kp85uoAtaVgoiTnKGAASiQAABRABt2wgBtCXo4/GHk5LVYMAQ7TlwWEP7dlSNUsG8Vy1aAnjvt7P11dTVql++sH66qX1ghdrHpwypQSDbCCCACKBtsyGAtgR9Pv6cN8dr6srteun8xjqzSXmfZ5t2etEQwNlrduiM18cpOVn69vo2al6leCBZkjQEIBAdAgggAmjbSQigLUGfjx/w8zx9NH6FrmlfVQ+eWtfn2WaNACYlJeuct8Zr+qodOqtJeb14fuNAciRpCEAgegQQQATQtpsQQFuCPh//zdTVuvvb2WpdrbgGXdfG59lmjQB+P32N+n49S/njc4Ue/ChdOG8gOZI0BCAQPQIIIAJo200IoC1Bn4//e/3O0LIlhfLEaVb/HsoZwAdBbC4B7zt4WB2fGaFNift1T68TdWPnGj7vGNKDAASygwACiADa9hkCaEvQ5+PNunX1+g8JvbJs1N2dVfmEAj7P+P/TsxHAH2es1e1fzVS5Ink14u7OyhOXK3D8SBgCEIg+AQQQAbTtKgTQlmAAxp/x2ljNWpOg1y9qqlMalg1Axv9O0UYAL3hngiYu26a+J9XSrd1qBo4dCUMAAllDAAFEAG07CwG0JRiA8Q/8MEdfTFqlGzpX1729agcg4+gI4PItu9XluZEyV83H3ttV5YrmCxw7EoYABLKGAAKIANp2FgJoSzAA4438GQnsULOEPr26VQAyjo4APvXHAr01aqm6nFhSH17ZMnDcSBgCEMg6AgggAmjbXQigLcEAjDdr2J3+2rjQ68umPdhdOXIE640gmbkEbO6dbPPkcJm3f7x1STP1ql8mAJ1CihCAQHYRQAARQNteQwBtCQZgvHmStX7/ITqUlKzx9wXvUmZmBHDIvA3q8+k0lSgYrwn3d1PuXDkD0CmkCAEIZBcBBBABtO01BNCWYEDGm6VgzJIw71zaTD3qBWs2KzMCeNVHUzR8wSb16VRN9/euE5AuIU0IQCC7CCCACKBtryGAtgQDMv7ub2bpm2lrQk+ymidag7RlVADXJ+xVu6eGKylZGn5nJ1UrWTBIuMgVAhDIBgIIIAJo22YIoC3BgIz/ePwK9f95nrrVLqX3r2gRkKyPpJlRAXx12GI9/9citaxaXF/3CebbUwLVICQLgRgQQAARQNu2QwBtCQZk/LSV2/SfNyeodOE8mvRA94BknXEBNO/97fjsCK3ZvlcvnNdIZzetEChWJAsBCGQPAQQQAbTtNATQlmBAxptZMPNGkORkaXK/bipVKDjvs83IDODYxVt0yfuTVChvnCY/0F354nnzR0BOEdKEQLYSQAARQNuGQwBtCQZofPcXRmnJpl368MoW6nJiqcBknhEBvPmL6fp19npd2rqyHjuzfmAYkSgEIJC9BBBABNC24xBAW4IBGn/7oBn6ceY63dWjlm7uGpzXmkUqgNt2H1DrJ4bpwOEk/XpLe9UvXyRA3UGqEIBAdhJAABFA235DAG0JBmj8e2OW6fHf/lavemX01qXNApN5pAL4/tjleuzX+apfvrB+vaVDYPiQKAQgkP0EEEAE0LbrEEBbggEaP2HpVl347kRVKJYv9G7boGyRCGBycrJ6vjRaizbuCl36NZeA2SAAAQhkFQEEEAG07S0E0JZggMYn7D2oRo/8Gcp45sMnqWj++EBkH4kATl+1XWe/MV55c+cMPSVdJF/uQLAhSQhAIDYEEEAE0LbzEEBbggEb3+nZEVq5dY8+v6aV2tUoEYjsIxHAe7+dra+mrtbZTcvrhfMaB4ILSUIAArEjgAAigLbdhwDaEgzY+Js+n67f5qzX/b1rq0+n6oHIPj0B3LX/kFoOHKo9Bw6HFn42C0CzQQACEMhKAgggAmjbXwigLcGAjX9j5BI9M3ihTmtUTq9e2CQQ2acngIMmr9J9389RtZIFNKxvJ+XIkSMQXEgSAhCIHQEEEAG07T4E0JZgwMaPXrRZl30wWdVKFNDwuzoHIvv0BPDM18dp5uodeuDk2rquYzBmRQNReJKEgMMEEEAE0LY9EUBbggEbv3XXfjV7fGgo6zkDeqhQXv8/7HA8AVywYad6vTRGcTlzaOID3VSiYJ6AdQTpQgACsSCAACKAtn2HANoSDOD4tk8O07qEfYG53+14Ajjg53n6aPwK9a5fRm9eEpy1EQPY9qQMAacIIIAIoG1DIoC2BAM4/tpPpuqv+Rv18Kl1dVX7qr4ncCwB3HfwsFo9MUxmeZyPrmyhzgF6PZ7vi06CEHCcAAKIANq2KAJoSzCA418eulgvDl2kUxuWDT0I4veHHo4lgD/NXKvbBs1UuSJ5NebersqVk4c/Ang6kDIEYkIAAUQAbRsPAbQlGMDxwxds1FUfTQ1lXr1kAV3QolJo/bsTfHr/27EE8KJ3J2r80q26rVtN3XFSrQB2AilDAAKxIoAAIoC2vYcA2hIM4PgDh5L0yC/z9P30tdp78HCIQO5cOdSjbhmd36Ki2tcooZw+mg1LSwBXbt2tTs+OlFnxZcw9XVShWP4AdgIpQwACsSKAACKAtr2HANoSDPD4xH0H9cus9fpqyirNWpPwD4nyRfOFRPDc5hVUtkg+zxNKSwCfHbJAr49Yqo61SuqTq1p6PkcSgAAEvEUAAUQAbTsWAbQlyPgQgfnrdoZE8IcZa7Vz36HQ98wkoHkwwshg19qllDtXTk/SSi2A8blyqu1Tw7Upcb/euLipTm5Q1pN5ETQEIOBdAgggAmjbvQigLUHG/4uAeTL2j7nrNWjyak1avu2fn5UslEfnNKug85tXVJUSBTxFLbUAjl+yVdd8MlXFC8Rr4v3dFB/nTbH1VBEIFgIQ+BcBBBABtD0lEEBbgow/JoFlm3fpq6mr9d20Ndqy68A/+7WpdoIuaFlRveuX9YQ8pRbAW7+cqaF/b9S1Haqq3yl16QAIQAAC2U4AAUQAbZsOAbQlyPh0CRw8nKRhf2/UoCmrNWrRZiUnHxlSomB86PLwhS0rOf0QRUoBHHlXZ3V7YZQOJyVraN+OqlGqULr5swMEIACBaBNAABFA255CAG0JMj5DBNbu2Kuvp6zWoCmrtHHn/tBYc6+guUfw4taV1almSeeeIE4pgGbJl5eHLVbzysX07Q1tM5Q7O0MAAhCIFgEEEAG07SUE0JYg4zNFwMwKDp2/UZ9NWqlxS7b+c4xKxfProlaVdF7ziqF77FzYUgpgxeL5tHrbXj17TkOd27yiC+ERAwQgEEACCCACaNv2CKAtQcZbE1i6eZc+n7hK30xbrcTwE8TmwYpTGpTVJa0rq2mlojF920hKATTJFswTp8n9uil/fJx17hwAAhCAQGYIIIAIYGb6JuUYBNCWIOOjRmDvgcP6ZdY6fTpxpeas/d+6gnXLFg6J4BmNy6lAnmNLl5lV3LJrf+jS8qad+0LLtPzz1fx34j4Vyx+vJpWKqUmlompSsaiK5k9/ljG1AJoZyifOahC1vDkQBCAAgYwSQAARwIz2TOr9EUBbgozPEgKzVu8IiaARwv2HkkKfUShPXOiVczVKFTwieYn7wl/3a3PiPm3dfeCfB0wiDapayQJqUjEshJWK6sTShRSXar3C1AL4883t1LBC0Ug/gv0gAAEIRJ0AAogA2jYVAmhLkPFZSmDHngP6dtoafTZxpVZs3ZPuZ+XKmUOlCuUJ/SlZKK9KFzb/feRriYJ5tH7nPs1YtV0zVu3Q8i27/+94+eNzqWGFIkdmCSsWDX0tkCeX6j48JLSvEcTBt3eI6SXpdCGwAwQg4HsCCCACaNvkCKAtQcZnC4GkpGSNW7olJIPmUnHpwnmPiJ4RvPB/m+8Vzx8f8VPE23cf0MzVO44I4eodmrlqhxL3H3mLScqtfLG8Wrt9X+hb/U6uo2s7VsuWnPkQCEAAAscigAAigLZnBwJoS5DxviFg1vYzD6QcnSE0s4SLNiX+67LyhPu6qmxR77/f2DdFIxEIBJQAAogA2rY+AmhLkPG+JrBz30FNXrYt9Oo3s81/tCdP//q64iQHAW8QQAARQNtORQBtCTLe9wRSvwqO5V98X3IShIDzBBBA7wpgP0mnSGosybwkNa1HCitJel1SV0l7JX0h6a7w/kebs5OkFyTVk7RO0jOS3spA5yKAGYDFrsEkgAAGs+5kDQGXCSCA3hXARyTtkFRB0tVpCGAuSTMlbZZ0p6QTJH0s6XtJt4SbsqqkuZLelfS2pHaS3pB0oaTvImxcBDBCUOwWXAIIYHBrT+YQcJUAAuhdATzaU1dIeikNAewt6VdJ5l1TZmbPbBdI+khSKUk7JT0t6XRJdVI0qJn9aySpTYRNiwBGCIrdgksAAQxu7ckcAq4SQAD9K4CPSjojLHNH+6+YpG3hS8IjJI2WNEPSbSka9CxJX0vKL+lgGo2bR5L5c3QrJGlNQkKCChc2LsgGAQikJoAA0hMQgIBrBBBA/wrgO5KqSOqRqun2SzKzhl9KWhSeEXwixT5tJY2TVE7S+jQadoCk/qm/jwC6dmoTj0sEEECXqkEsEICAIYAAuiWAacpVqlZtIenIehJHtmNdAjYCWFlSz1TjzQMjl0kaFBbADyU9mWIfcx/gWEllJW1I4zRhBpDfHRDIIAEEMIPA2B0CEMhyAgigWwJYQpL5c7xthaQjrxQ4vgBm1SXg1LFxD2CWn6Z8gNcJIIBeryDxQ8B/BBBAtwQwMx2W3kMg5inho5dyzw8/CZzyIZDTJNVN8cFvhpeW4SGQzFSDMRBIgwACSFtAAAKuEUAAvSuAZo2/4uGneO+W1CHcXEsk7ZJ0dBmYjZLMz82+5gngH9NYBsYsAWOWgjHSZ54CZhkY185U4vE0AQTQ0+UjeAj4kgAC6F0BNDJ3eRpd2UXSyPD3jSSadf1SLwRtHgQ5upmFoF9MsRC0WRqGhaB9ebqTVKwIIICxIs/nQgACxyKAAHpXAF3pau4BdKUSxOEsAQTQ2dIQGAQCSwABRABtmx8BtCXIeN8TQAB9X2IShIDnCCCACKBt0yKAtgQZ73sCCKDvS0yCEPAcAQQQAbRtWgTQliDjfU8AAfR9iUkQAp4jgAAigLZNiwDaEmS87wkggL4vMQlCwHMEEEAE0LZpEUBbgoz3PQEE0PclJkEIeI4AAogA2jYtAmhLkPG+J4AA+r7EJAgBzxFAABFA26ZFAG0JMt73BBBA35eYBCHgOQIIIAJo27QIoC1BxvueAALo+xKTIAQ8RwABRABtmxYBtCXIeN8TQAB9X2IShIDnCCCACKBt0yKAtgQZ73sCCKDvS0yCEPAcAQQQAbRtWgTQliDjfU8AAfR9iUkQAp4jgAAigLZNiwDaEmS87wkggL4vMQlCwHMEEEAE0LZpEUBbgoz3PQEE0PclJkEIeI4AAogA2jYtAmhLkPG+J4AA+r7EJAgBzxFAABFA26ZFAG0JMt73BBBA35eYBCHgOQIIIAJo27QIoC1BxvueAALo+xKTIAQ8RwABRABtmxYBtCXIeN8TQAB9X2IShIDnCCCACKBt0yKAtgQZ73sCCKDvS0yCEPAcAQQQAbRtWgTQliDjfU8AAfR9iUkQAp4jgAAigLZNiwDaEmS87wkggL4vMQlCwHMEEEAE0LZpEUBbgoz3PQEE0PclJkEIeI4AAogA2jYtAmhLkPG+J4AA+r7EJAgBzxFAABFA26ZFAG0JMt73BBBA35eYBCHgOQIIIAJo27QIoC1BxvueAALo+xKTIAQ8RwABRABtmxYBtCXIeN8TQAB9X2IShIDnCCCACKBt0yKAtgQZ73sCCKDvS0yCEPAcAQQQAbRtWgTQliDjfU8AAfR9iUkQAp4jgAAigLZNiwDaEmS87wkggL4vMQlCwHMEEEAE0LZpEUBbgoz3PQEE0PclJkEIeI4AAogA2jYtAmhLkPG+J4AA+r7EJAgBzxFAABFA26ZFAG0JMt73BBBA35eYBCHgOQIIIAJo27QIoC1BxvueAALo+xKTIAQ8RwABRABtmxYBtCXIeN8TQAB9X2IShIDnCCCACKBt0yKAtgQZ73sCCKDvS0yCEPAcAQQQAbRtWgTQliDjfU8AAfR9iUkQAp4jgAAigLZNiwDaEmS87wkggL4vMQlCwHMEEEAE0LZpEUBbgoz3PQEE0PclJkEIeI4AAogA2jYtAmhLkPG+J4AA+r7EJAgBzxFAABFA26ZFAG0JMt73BBBA35eYBCHgOQIIIAJo27QIoC1BxvueAALo+xKTIAQ8RwABRABtmxYBtCXIeN8TQAB9X2IShIDnCCCACKBt0yKAtgQZ73sCCKDvS0yCEPAcAQQQAbRtWgTQliDjfU8AAfR9iUkQAp4jgAAigLZNiwDaEmS87wkggL4vMQlCwHMEEEAE0LZpEUBbgoz3PQEE0PclJkEIeI4AAogA2jYtAmhLkPG+J4AA+r7EJAgBzxFAABFA26ZFAG0JMt73BBBA35eYBCHgOQIIIAJo27QIoC1BxvueAALo+xKTIAQ8RwABRABtmxYBtCXIeN8TQAB9X2IShIDnCCCACKBt0yKAtgQZ73sCCKDvS0yCEPAcAQQQAbRtWgTQliDjfU8AAfR9iUkQAp4jgAAigLZNiwDaEmS87wkggL4vMQlCwHMEEEAE0LZpEUBbgoz3PQEE0PclJkEIeI4AAogA2jYtAmhLkPG+J4AA+r7EJAgBzxFAABFA26ZFAG0JMt73BBBA35eYBCHgOQIIIAJo27QIoC1BxvueAALo+xKTIAQ8RwABRABtmxYBtCXIeN8TQAB9X2IShIDnCCCACKBt0yKAtgQZ73sCCKDvS0yCEPAcAQQQAbRtWgTQliDjfU8AAfR9iUkQAp4jgAAigLZNiwDaEmS87wkggL4vMQlCwHMEEEAE0LZpEUBbgoz3PQEE0PclJkEIeI4AAogA2jYtAmhLkPG+J4AA+r7EJAgBzxFAABFA26ZFAG0JMt73BBBA35eYBCHgOQIIoHcFsJ+kUyQ1lnRAUtE0ui85je/dIOmtFN9vIOk1SS0lbZP0tqTHJKU1Nq0GRwA9d9oTcHYTQACzmzifBwEIpEcAAfSuAD4iaYekCpKuPo4AXilpcIpGSJC0N/x3I2+LJI2QNFBSLUkfSTLHfj695klxjISEhAQVLmwOxwYBCKQmgADSExCAgGsEEEDvCuDRXrpC0kvHEcCzJP14jMYzs4FPSiotaX94n/sk3RIWy0hmAZkBdO2sJh7nCCCAzpWEgCAQeAIIoP8FcK2kvJKWS3pf0juSksKd/4mkIpLOSHEmNJE0XVK18JjUJ0keSebP0a2QpDWrV69mBjDwv04AcCwCRgBbDhwW+vHkft2UPz4OWBCAAARiSsAIYMWKFU0MxgN2xjSYGH14jhh9brQ+9ngzgA9KMv/qmEu+3SQ9Gp7xezz84X9KWiHpuhTBlJNkpLGtpAlpBDlAUv9oBc9xIAABCEAAAhCIKQFzK5n5dz9wm0sCGIlctZA0NUWVjieAqYt5p6SHw7ZvfmYE0MwM9kmxY3kzoyepjaSJaXRD6hlAs0vx8AMk0W6e0Oxi+HJ0YrQP7rPjwSrygsIKVpETiHxP+gpWkROIfM+s7itz/HUZePAz8sg9sKdLAlhCkvlzvM3M2O3LpAC2kzRWUhlJGyVl5hJwdpY0dH9hkKenMwAbVpHDghWsIicQ+Z70FawiJxD5nvRV5KwyvKdLApjh4CVlZAbwZknPhh8YMQ99mIdAngg/BGKWkjHbvZJuzcBDIJmJOdIxNH6kpCRYwSpyApHvSV/BKnICke9JX8EqcgJZuKdXBbBS+NLr6ZLultQhzGiJpF2STgvP9Jn7+Mw9gF3CS7uYZV5uC+9rbvxcKGl4WARrhpeBMfcKRroMTBaWBqnJAFx+oUYOC1awipxA5HvSV7CKnEDke9JXkbPK8J5eFUAjcpenka0RvZGSeoUf+KghKaekZZLek/S6pEMpxpmFoM33zELQ28OLRBsBjGQJmAzDzuAAc7/h/eE8ji5Tk8FDBGZ3WEVealjBKnICke9JX8EqcgKR70lfRc4qw3t6VQAznCgDIAABCEAAAhCAAASOEEAA6QQIQAACEIAABCAQMAIIYMAKTroQgAAEIAABCEAAAaQHIAABCEAAAhCAQMAIIIABKzjpQgACEIAABCAAAQTQrR4wT/2eLal2ePma8eG1Cc1yNWz/JmDWcTR/qoS/PS/8ur8/AJUuAdNnZg3MlyXdnu7ewdshrbcSmcXjzSLybP9PwLxB6WlJvSXlk7RI0tWSpgHrXwTMiwwqp8HkDUk3wepfBMwLw815eHH4vFsfXqbNvMo1CVbRIYAARodjtI4yWNIgSVMkmRNgoCSzVE1dSbuj9SE+OY5Z6/GwJLP2o9nMskBmTcgmkowMsqVNwLxO8evwy89HIIBpQjL/8JwjqXuKn5pe20xT/R+BYpJmSDK99KakTZKqh9+zvhRe/yJQUlKuFN+pL+mv8Dq1Zvkytv8R6CfpjvDvdfP7vLmkDyU9GP4fV1hFgQACGAWIWXgI8wvD/ELtJGl0Fn6OXw69LSyB7/sloSjnUVDSdEk3hn+RzkQAjymAZ0pqHGX+fjzcU5LMazaPLsbvxxyzKqeXJJ0qybyEwIW1Z7Mqz8wc99fwK1vNTPLR7TtJ/23vzEPsK+s4/GAlohlWltlKFkYFSVSaZWVEpvmHpGlmSpuVtlmCC5JEpQhqSioupaWWVmqpaFqiRXuBLdpmiEuZRtqqpSIW8YHv5Xc8c+/MnZkzM2fued4/577nPe/7vOfe+Zzv9t4PHLCUAb1mLgEFYL+fihSyvrmsgL/u91TXdHZ5q94bOK8sgL9d09n09+bhE5GcN+tYHBSA4/cqFsBYk3MWd4qw/xQ4qgrK93d312Zm+a59q47PzIvqnUBcmp9bm+msm7tuDNwFnFThGOtm4qs00SOBg4BdKqRgO+CaemH98irNYeZvowDs7xZnby4H4mLx7Xr8PsU9nuP+NqkjAPcDrurvlq7pzPYF4laJC/hBBeC8e5FYtk3rH89WZS1NXO4Lgb+t6S727+Z5ltIiZC6uU5Vi2XofcH7/ptubGe0DXAjkWNMIQdsjCeT/X+KUj6hQn7zk5/frOEF1R0AB2B3LrkfKEXW7AzsBf+p68BkZL2/R+QHdAtgLOLDc5VoAH7nBzwCur7fpG+ojLYDTfwk2AxLPdnwJnemvnP2eD9Wz9YrGUk+pF40dZ3/5S15hrKZhl1hm21wCeWE9oSzxiQFMOEZeLA4tT4/MOiCgAOwA4goMcSqQGKRXA7etwPizOuS19Y861gfbBgJ5li6tN+nRX/NGnbijZNTlvM0kOdgmE0iwfhKOknlu20DgD5XIkJevUQujBOsnO9g2l0AygXM+fSo+xMtjm0vgDiDxpTGEjFqeqf2rSobMOiCgAOwAYodDZD8i/t4E7Fzxfx0OP/NDXQfkh+MdM7/SxS1w8zHlJ5JRd1OV7zC+dH6eEcixAH62Sg0tjv5s944bMxbmZpjKycAOQNMqONsUFre6xJjmJTXcHl7cpYPpnVCLCL5klo9ayle9E9h2MBRWeKEKwBUGvMjhEzydOLY9gGbtvwSjP7DIsWa9e+JDUvMvgi8CJy6DBA7vWhaJWV//ctenC3gywROBK4A/Ak+uf0RJcEjMaSxetg0EElOaeqUfr/JC21cCyHuBCwQ1h8BG5dVJIkN+r2zjCZxbZZgilOMCTnmvvIB9vuIC5dYBAQVgBxA7HGJSKYC89eQLYdtAIKVeXgdsXdmaN5Y1K64628IEFICTGaUvG8MZAAAGhUlEQVQWZ8Ivtqzafz8BjgaMLR3PLKVMEpyfciYJWUlCiFnA41klqzXxf8+rJKOFv6nD7JGX+k+VNywvYUmUiWj+ZMVODpNKx6tWAHYM1OEkIAEJSEACEpBA3wkoAPu+Q85PAhKQgAQkIAEJdExAAdgxUIeTgAQkIAEJSEACfSegAOz7Djk/CUhAAhKQgAQk0DEBBWDHQB1OAhKQgAQkIAEJ9J2AArDvO+T8JCABCUhAAhKQQMcEFIAdA3U4CUhAAosg8AngPUBKzbzNep+LIGdXCUhgWQQUgMvC58USkIAElkzg+cDXgAOqKPC3WycfLHlgL5SABCSwEAEF4EKE/FwCEpglAjkmMIfKb1GLyrFcOSs5h82vZPsi8DsgJ9iMWo4Cuwh4Q/39+8BXG5+nwHKK4b6kzmxeyfk5tgQkMDACCsCBbbjLlcA6IJBTb95e8/xvnQLwDeAo4B/LnH9bAD4WyFm/OXt0pdqLgJy88izgvtZNctj9QXXc1XZA+zSgn9fJGl9aqck5rgQkMEwCCsBh7rurlkCfCUQAblUHvz8aeEGdARoL2VuXOfG2AFzmcFNdnjNMI+xyrmm7/QL4JnAo8DTgr60OHwL2B3aY6k52koAEJDAlAQXglKDsJgEJrBqBCMC4aOOaHbVPAxFvT2z8LaIp52RvA/wduAI4HPh3o0+uyfmhOdc3Z7D+oM71neQCHndG8mXAP+v+Gfr9wEeBuHD/BUSYvnkCnY3KuhgRFytms8Xil+SPp9TcctbpZ1p9YjW8HXgOcOuq7YA3koAEZp6AAnDmt9gFSmDdEWgLwAi8iLuIv4ilUfsIcEMJpGcDpwNJpIhAS4vV7MflOv46sCuQrNv87i1VAL60RFsSN34EPAF4FXDKBMqJLYyVL/P+S6tPxN5Tgb2BDwIHTohFzHURtuetu510whKQQG8JKAB7uzVOTAKDJRABGIvZg8CjgE2KRCx+J89DJULqjLL2pduFwOOB3RrXfKWE4FIF4J7AF4Cnj4nnGze1WDEvAR7Tiu/bGLizRN/lNec/A9uXYGyOlTjA9Il4tUlAAhLohIACsBOMDiIBCXRIIAIw8XAHA5uWSNoWSFbsw437vLase4kRfByQeMGIxSR2/KeE1KXlAh5ddkgJqaUKwM2BHwJbV+xe4vdyj/snrD8xi2cDm7U+3wtIbGDGeag+u7LcvB9u9c394ro+okPGDiUBCQycgAJw4A+Ay5dADwmMiwH8TiN+L1NObNxNwJlVOiUxgDsB55TVLzF7vwTi+k0M4LQCMC7kXwERiqOW2L17GjGAEZo7A7sAEXL/A15WcYJtnK8HrqlM45HQS5+Ivd2BZDmPWuIFs464hZt9Uz4m6zqxh3vllCQggXVKQAG4TjfOaUtghgmME4ARXFdXMsRdJbzizk0JlwiwtI9V3by4fSMA4wKOpe+NDVZJtIhLeJIFMHX48ru4T10TF3SSLyJAk1DSbrHs5V5vKbHZ/vxJwN3Ai0uQ5vNY/e6okz9+0xKASSh5d7mN81EsmvfWnK+b4T13aRKQwCoTUACuMnBvJwEJLEhgnADMRddXAkYSJkbJFUkESYLIK4HjynU8EoAvr0SNI4Fk8sZil8LK8yWBpFTLSSUAb6ls333LzRsBGDd0klK+VzUJIy5PA1Lrrynmmov8WcUNpl9aEjoy78QRjsTrqP8FJU5jHUyL8M36UhZnkpt5QaB2kIAEJNAmoAD0mZCABPpGYJIA3K+E1HPLgpZSLIeVYIogi3g6v+ECzrreVTF/ySC+FvjuAmVgkqyR7NxY9BJvmKSTCMlRGZi4mY8pwRfr3M3AsXWixySOEZURjztWh7h042r+wJgLkmSS00GeWQWwz6rkkRSLtklAAhLojIACsDOUDiQBCUhgLIEIxd8DsSSmLM20Le7jxDmm9Mxt015kPwlIQALTEFAATkPJPhKQgASWR+A1lakcd+60LSVhUt+weT7wtNfaTwISkMC8BBSAPiASkIAEJCABCUhgYAQUgAPbcJcrAQlIQAISkIAEFIA+AxKQgAQkIAEJSGBgBBSAA9twlysBCUhAAhKQgAQUgD4DEpCABCQgAQlIYGAEFIAD23CXKwEJSEACEpCABBSAPgMSkIAEJCABCUhgYAQUgAPbcJcrAQlIQAISkIAEFIA+AxKQgAQkIAEJSGBgBBSAA9twlysBCUhAAhKQgAQUgD4DEpCABCQgAQlIYGAE/g/HW+obX0p9BAAAAABJRU5ErkJggg==\" width=\"640\">"
      ],
      "text/plain": [
       "<IPython.core.display.HTML object>"
      ]
     },
     "metadata": {},
     "output_type": "display_data"
    },
    {
     "data": {
      "text/plain": [
       "Text(0,0.5,'BUDE Score')"
      ]
     },
     "execution_count": 77,
     "metadata": {},
     "output_type": "execute_result"
    }
   ],
   "source": [
    "scores_with_radii = zip(scores, radii)\n",
    "fig, ax = plt.subplots()\n",
    "ax.plot(radii, scores)\n",
    "ax.axvline(min(scores_with_radii)[1])\n",
    "ax.set_ylim(-150, 100)\n",
    "ax.set_xlabel('Radius (Å)')\n",
    "ax.set_ylabel('BUDE Score')"
   ]
  },
  {
   "cell_type": "markdown",
   "metadata": {
    "slideshow": {
     "slide_type": "subslide"
    }
   },
   "source": [
    "# We can fit the parameters using a scoring function!"
   ]
  },
  {
   "cell_type": "markdown",
   "metadata": {
    "slideshow": {
     "slide_type": "slide"
    }
   },
   "source": [
    "# Parameter Optimisation\n",
    "\n",
    "* Fit parameters using a scoring function\n",
    "* Parameter space can be very large\n",
    "* Use metaheuristics"
   ]
  },
  {
   "cell_type": "markdown",
   "metadata": {
    "slideshow": {
     "slide_type": "subslide"
    }
   },
   "source": [
    "Need three things to optimise a model:\n",
    "\n",
    "1. Specification\n",
    "1. Sequence\n",
    "1. Parameters"
   ]
  },
  {
   "cell_type": "code",
   "execution_count": 78,
   "metadata": {
    "collapsed": true,
    "slideshow": {
     "slide_type": "subslide"
    }
   },
   "outputs": [],
   "source": [
    "import isambard.optimisation.evo_optimizers as ev_opts\n",
    "from isambard.optimisation.evo_optimizers import Parameter"
   ]
  },
  {
   "cell_type": "code",
   "execution_count": 217,
   "metadata": {
    "collapsed": true,
    "slideshow": {
     "slide_type": "fragment"
    }
   },
   "outputs": [],
   "source": [
    "specification = CoiledCoil.from_parameters"
   ]
  },
  {
   "cell_type": "code",
   "execution_count": 218,
   "metadata": {
    "collapsed": true,
    "slideshow": {
     "slide_type": "fragment"
    }
   },
   "outputs": [],
   "source": [
    "sequences = ['EIAALKQEIAALKKENAALKWEIAALKQ', 'EIAALKQEIAALKKENAALKWEIAALKQ']"
   ]
  },
  {
   "cell_type": "code",
   "execution_count": 79,
   "metadata": {
    "collapsed": true,
    "slideshow": {
     "slide_type": "fragment"
    }
   },
   "outputs": [],
   "source": [
    "parameters = [\n",
    "    Parameter.static('Oligomeric State', 2),\n",
    "    Parameter.static('Helix Length', 28),\n",
    "    Parameter.dynamic('Radius', 5.0, 1.0),\n",
    "    Parameter.dynamic('Pitch', 180, 100),\n",
    "    Parameter.dynamic('PhiCA', -78, 27),  # -78 is equivalent a g position\n",
    "]"
   ]
  },
  {
   "cell_type": "code",
   "execution_count": 223,
   "metadata": {
    "slideshow": {
     "slide_type": "fragment"
    }
   },
   "outputs": [
    {
     "data": {
      "text/plain": [
       "[2, 28, 5.0, 180, -78]"
      ]
     },
     "execution_count": 223,
     "metadata": {},
     "output_type": "execute_result"
    }
   ],
   "source": [
    "[x.default_value for x in parameters]"
   ]
  },
  {
   "cell_type": "code",
   "execution_count": 81,
   "metadata": {
    "collapsed": true,
    "slideshow": {
     "slide_type": "subslide"
    }
   },
   "outputs": [],
   "source": [
    "opt_ga = ev_opts.GA.buff_internal_eval(specification, sequences, parameters)"
   ]
  },
  {
   "cell_type": "code",
   "execution_count": 224,
   "metadata": {
    "slideshow": {
     "slide_type": "subslide"
    }
   },
   "outputs": [
    {
     "name": "stdout",
     "output_type": "stream",
     "text": [
      "gen\tevals\tavg     \tstd    \tmin     \tmax     \n",
      "0  \t73   \t-829.503\t46.8813\t-971.265\t-757.422\n",
      "1  \t64   \t-869.61 \t38.1134\t-989.834\t-812.608\n",
      "2  \t76   \t-898.829\t32.7972\t-989.834\t-860.773\n",
      "3  \t59   \t-920.413\t29.1229\t-990.072\t-883.552\n",
      "4  \t73   \t-941.885\t29.1812\t-993.209\t-904.283\n",
      "Evaluated 445 models in total in 0:00:35.676655\n",
      "Best fitness is (-993.2085983932703,)\n",
      "Best parameters are [2, 28, 4.6360064263637755, 126.42579361211408, -81.87723844745896]\n"
     ]
    }
   ],
   "source": [
    "opt_ga.run_opt(100, 5, cores=8)"
   ]
  },
  {
   "cell_type": "markdown",
   "metadata": {
    "slideshow": {
     "slide_type": "-"
    }
   },
   "source": [
    "[Optimisation](vids/opt.webm)"
   ]
  },
  {
   "cell_type": "code",
   "execution_count": 83,
   "metadata": {
    "collapsed": true,
    "slideshow": {
     "slide_type": "subslide"
    }
   },
   "outputs": [],
   "source": [
    "optimized_model = opt_ga.best_model"
   ]
  },
  {
   "cell_type": "code",
   "execution_count": 225,
   "metadata": {
    "slideshow": {
     "slide_type": "fragment"
    }
   },
   "outputs": [
    {
     "data": {
      "application/vnd.jupyter.widget-view+json": {
       "model_id": "7334c45a6688484b831ac2918053dafa",
       "version_major": 2,
       "version_minor": 0
      },
      "text/plain": [
       "A Jupyter Widget"
      ]
     },
     "metadata": {},
     "output_type": "display_data"
    }
   ],
   "source": [
    "show_cartoon_and_bs(optimized_model.pdb)"
   ]
  },
  {
   "cell_type": "markdown",
   "metadata": {
    "slideshow": {
     "slide_type": "subslide"
    }
   },
   "source": [
    "You can use any scoring function you like, as long as it spits out a float and follows the thermodynamic convention."
   ]
  },
  {
   "cell_type": "markdown",
   "metadata": {
    "slideshow": {
     "slide_type": "slide"
    }
   },
   "source": [
    "# α-Helical Barrels\n",
    "\n",
    "* We used this parametric modelling combined with a sequence-based method to design a novel class of coiled coil\n",
    "\n",
    "[Thomson AR, Wood CW *et al* (2014) Science, **346**,  485-488](http://science.sciencemag.org/content/346/6208/485)"
   ]
  },
  {
   "cell_type": "markdown",
   "metadata": {
    "slideshow": {
     "slide_type": "subslide"
    }
   },
   "source": [
    "<div align=center><img src=\"imgs/barrel-design.png\"/></div>"
   ]
  },
  {
   "cell_type": "markdown",
   "metadata": {
    "slideshow": {
     "slide_type": "slide"
    }
   },
   "source": [
    "# Summary\n",
    "\n",
    "ISAMBARD can be used for:\n",
    "\n",
    "* Structural analysis of biomolcules\n",
    "* Parametric modelling of proteins\n",
    "* Fitting parameters for parametric models\n",
    "\n",
    "ISAMBARD is:\n",
    "\n",
    "* Free\n",
    "* Open source\n",
    "* Modular"
   ]
  },
  {
   "cell_type": "markdown",
   "metadata": {
    "slideshow": {
     "slide_type": "slide"
    }
   },
   "source": [
    "<div align=center><img src=\"imgs/acknowledgements.png\"/></div>"
   ]
  }
 ],
 "metadata": {
  "celltoolbar": "Slideshow",
  "kernelspec": {
   "display_name": "Python 3",
   "language": "python",
   "name": "python3"
  },
  "language_info": {
   "codemirror_mode": {
    "name": "ipython",
    "version": 3
   },
   "file_extension": ".py",
   "mimetype": "text/x-python",
   "name": "python",
   "nbconvert_exporter": "python",
   "pygments_lexer": "ipython3",
   "version": "3.6.3"
  },
  "livereveal": {
   "scroll": true
  }
 },
 "nbformat": 4,
 "nbformat_minor": 2
}
